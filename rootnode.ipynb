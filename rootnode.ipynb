{
  "nbformat": 4,
  "nbformat_minor": 0,
  "metadata": {
    "colab": {
      "name": "rootnode.ipynb",
      "provenance": [],
      "collapsed_sections": [],
      "authorship_tag": "ABX9TyOAN91CTe4djYG7Vs+4+0EQ",
      "include_colab_link": true
    },
    "kernelspec": {
      "name": "python3",
      "display_name": "Python 3"
    },
    "language_info": {
      "name": "python"
    }
  },
  "cells": [
    {
      "cell_type": "markdown",
      "metadata": {
        "id": "view-in-github",
        "colab_type": "text"
      },
      "source": [
        "<a href=\"https://colab.research.google.com/github/Benjamindavid03/MachineLearningLab/blob/main/rootnode.ipynb\" target=\"_parent\"><img src=\"https://colab.research.google.com/assets/colab-badge.svg\" alt=\"Open In Colab\"/></a>"
      ]
    },
    {
      "cell_type": "markdown",
      "source": [
        "# Root Node Attribute Selection using Information Gain"
      ],
      "metadata": {
        "id": "HUmfcfrFLZh6"
      }
    },
    {
      "cell_type": "code",
      "execution_count": null,
      "metadata": {
        "id": "2SNwYfnmTLBg"
      },
      "outputs": [],
      "source": [
        "import pandas as pd\n",
        "import numpy as np\n",
        "import io\n",
        "import requests\n",
        "url_name = 'https://raw.githubusercontent.com/akmand/datasets/master/FMLPDA_Table4_3.csv'\n",
        "url_content = requests.get(url_name, verify=True).content\n",
        "fruits = pd.read_csv(io.StringIO(url_content.decode('utf-8')))\n",
        "fruits"
      ]
    },
    {
      "cell_type": "code",
      "source": [
        "def compute_impurity(feature, impurity_criterion):\n",
        "    probs = feature.value_counts(normalize=True)\n",
        "    if impurity_criterion == 'entropy':\n",
        "        impurity = -1 * np.sum(np.log2(probs) * probs)\n",
        "    else:\n",
        "        raise ValueError('Unknown impurity criterion')\n",
        "    return(round(impurity, 3))"
      ],
      "metadata": {
        "id": "yss1r7mWT4nI"
      },
      "execution_count": null,
      "outputs": []
    },
    {
      "cell_type": "code",
      "source": [
        "target_entropy = compute_impurity(fruits['vegetation'], 'entropy')"
      ],
      "metadata": {
        "id": "RkvF0TGET9uP"
      },
      "execution_count": null,
      "outputs": []
    },
    {
      "cell_type": "code",
      "source": [
        "def comp_feature_information_gain(df, target, descriptive_feature, split_criterion):   \n",
        "    print('target feature:', target)\n",
        "    print('descriptive_feature:', descriptive_feature)\n",
        "    print('split criterion:', split_criterion)\n",
        "    target_entropy = compute_impurity(df[target], split_criterion)\n",
        "    entropy_list = list()\n",
        "    weight_list = list()\n",
        "    for level in df[descriptive_feature].unique():\n",
        "        df_feature_level = df[df[descriptive_feature] == level]\n",
        "        entropy_level = compute_impurity(df_feature_level[target], split_criterion)\n",
        "        entropy_list.append(round(entropy_level, 3))\n",
        "        weight_level = len(df_feature_level) / len(df)\n",
        "        weight_list.append(round(weight_level, 3))\n",
        "    feature_remaining_impurity = np.sum(np.array(entropy_list) * np.array(weight_list))\n",
        "    print('remaining impurity:', feature_remaining_impurity)\n",
        "    information_gain = target_entropy - feature_remaining_impurity\n",
        "    print('information gain:', information_gain)\n",
        "    print('====================')\n",
        "    return(information_gain)"
      ],
      "metadata": {
        "id": "ggmEssNoUYju"
      },
      "execution_count": null,
      "outputs": []
    },
    {
      "cell_type": "code",
      "source": [
        "split_criterion = 'entropy'\n",
        "for feature in fruits.drop(columns='vegetation').columns:\n",
        "    feature_info_gain = comp_feature_information_gain(fruits, 'vegetation', feature, split_criterion)"
      ],
      "metadata": {
        "id": "tIzR6VocUebr",
        "colab": {
          "base_uri": "https://localhost:8080/"
        },
        "outputId": "5e44e952-cc06-4913-83d9-17dc5ee524a1"
      },
      "execution_count": null,
      "outputs": [
        {
          "output_type": "stream",
          "name": "stdout",
          "text": [
            "target feature: vegetation\n",
            "descriptive_feature: stream\n",
            "split criterion: entropy\n",
            "remaining impurity: 1.250322\n",
            "information gain: 0.306678\n",
            "====================\n",
            "target feature: vegetation\n",
            "descriptive_feature: slope\n",
            "split criterion: entropy\n",
            "remaining impurity: 0.9788939999999999\n",
            "information gain: 0.578106\n",
            "====================\n",
            "target feature: vegetation\n",
            "descriptive_feature: elevation\n",
            "split criterion: entropy\n",
            "remaining impurity: 0.6798219999999999\n",
            "information gain: 0.877178\n",
            "====================\n"
          ]
        }
      ]
    }
  ]
}