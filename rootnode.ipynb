{
  "nbformat": 4,
  "nbformat_minor": 0,
  "metadata": {
    "colab": {
      "provenance": [],
      "include_colab_link": true
    },
    "kernelspec": {
      "name": "python3",
      "display_name": "Python 3"
    },
    "language_info": {
      "name": "python"
    }
  },
  "cells": [
    {
      "cell_type": "markdown",
      "metadata": {
        "id": "view-in-github",
        "colab_type": "text"
      },
      "source": [
        "<a href=\"https://colab.research.google.com/github/Benjamindavid03/MachineLearning/blob/main/rootnode.ipynb\" target=\"_parent\"><img src=\"https://colab.research.google.com/assets/colab-badge.svg\" alt=\"Open In Colab\"/></a>"
      ]
    },
    {
      "cell_type": "markdown",
      "source": [
        "# Root Node Attribute Selection using Information Gain"
      ],
      "metadata": {
        "id": "HUmfcfrFLZh6"
      }
    },
    {
      "cell_type": "code",
      "execution_count": null,
      "metadata": {
        "id": "2SNwYfnmTLBg",
        "colab": {
          "base_uri": "https://localhost:8080/",
          "height": 269
        },
        "outputId": "1c82d69b-a0af-422c-cb87-5ba1cdc0d7ce"
      },
      "outputs": [
        {
          "output_type": "execute_result",
          "data": {
            "text/plain": [
              "   stream     slope elevation vegetation\n",
              "0   False     steep      high  chapparal\n",
              "1    True  moderate       low   riparian\n",
              "2    True     steep    medium   riparian\n",
              "3   False     steep    medium  chapparal\n",
              "4   False      flat      high    conifer\n",
              "5    True     steep   highest    conifer\n",
              "6    True     steep      high  chapparal"
            ],
            "text/html": [
              "\n",
              "  <div id=\"df-7523d6e9-0fc0-43b5-9cd0-9965ba254879\">\n",
              "    <div class=\"colab-df-container\">\n",
              "      <div>\n",
              "<style scoped>\n",
              "    .dataframe tbody tr th:only-of-type {\n",
              "        vertical-align: middle;\n",
              "    }\n",
              "\n",
              "    .dataframe tbody tr th {\n",
              "        vertical-align: top;\n",
              "    }\n",
              "\n",
              "    .dataframe thead th {\n",
              "        text-align: right;\n",
              "    }\n",
              "</style>\n",
              "<table border=\"1\" class=\"dataframe\">\n",
              "  <thead>\n",
              "    <tr style=\"text-align: right;\">\n",
              "      <th></th>\n",
              "      <th>stream</th>\n",
              "      <th>slope</th>\n",
              "      <th>elevation</th>\n",
              "      <th>vegetation</th>\n",
              "    </tr>\n",
              "  </thead>\n",
              "  <tbody>\n",
              "    <tr>\n",
              "      <th>0</th>\n",
              "      <td>False</td>\n",
              "      <td>steep</td>\n",
              "      <td>high</td>\n",
              "      <td>chapparal</td>\n",
              "    </tr>\n",
              "    <tr>\n",
              "      <th>1</th>\n",
              "      <td>True</td>\n",
              "      <td>moderate</td>\n",
              "      <td>low</td>\n",
              "      <td>riparian</td>\n",
              "    </tr>\n",
              "    <tr>\n",
              "      <th>2</th>\n",
              "      <td>True</td>\n",
              "      <td>steep</td>\n",
              "      <td>medium</td>\n",
              "      <td>riparian</td>\n",
              "    </tr>\n",
              "    <tr>\n",
              "      <th>3</th>\n",
              "      <td>False</td>\n",
              "      <td>steep</td>\n",
              "      <td>medium</td>\n",
              "      <td>chapparal</td>\n",
              "    </tr>\n",
              "    <tr>\n",
              "      <th>4</th>\n",
              "      <td>False</td>\n",
              "      <td>flat</td>\n",
              "      <td>high</td>\n",
              "      <td>conifer</td>\n",
              "    </tr>\n",
              "    <tr>\n",
              "      <th>5</th>\n",
              "      <td>True</td>\n",
              "      <td>steep</td>\n",
              "      <td>highest</td>\n",
              "      <td>conifer</td>\n",
              "    </tr>\n",
              "    <tr>\n",
              "      <th>6</th>\n",
              "      <td>True</td>\n",
              "      <td>steep</td>\n",
              "      <td>high</td>\n",
              "      <td>chapparal</td>\n",
              "    </tr>\n",
              "  </tbody>\n",
              "</table>\n",
              "</div>\n",
              "      <button class=\"colab-df-convert\" onclick=\"convertToInteractive('df-7523d6e9-0fc0-43b5-9cd0-9965ba254879')\"\n",
              "              title=\"Convert this dataframe to an interactive table.\"\n",
              "              style=\"display:none;\">\n",
              "        \n",
              "  <svg xmlns=\"http://www.w3.org/2000/svg\" height=\"24px\"viewBox=\"0 0 24 24\"\n",
              "       width=\"24px\">\n",
              "    <path d=\"M0 0h24v24H0V0z\" fill=\"none\"/>\n",
              "    <path d=\"M18.56 5.44l.94 2.06.94-2.06 2.06-.94-2.06-.94-.94-2.06-.94 2.06-2.06.94zm-11 1L8.5 8.5l.94-2.06 2.06-.94-2.06-.94L8.5 2.5l-.94 2.06-2.06.94zm10 10l.94 2.06.94-2.06 2.06-.94-2.06-.94-.94-2.06-.94 2.06-2.06.94z\"/><path d=\"M17.41 7.96l-1.37-1.37c-.4-.4-.92-.59-1.43-.59-.52 0-1.04.2-1.43.59L10.3 9.45l-7.72 7.72c-.78.78-.78 2.05 0 2.83L4 21.41c.39.39.9.59 1.41.59.51 0 1.02-.2 1.41-.59l7.78-7.78 2.81-2.81c.8-.78.8-2.07 0-2.86zM5.41 20L4 18.59l7.72-7.72 1.47 1.35L5.41 20z\"/>\n",
              "  </svg>\n",
              "      </button>\n",
              "      \n",
              "  <style>\n",
              "    .colab-df-container {\n",
              "      display:flex;\n",
              "      flex-wrap:wrap;\n",
              "      gap: 12px;\n",
              "    }\n",
              "\n",
              "    .colab-df-convert {\n",
              "      background-color: #E8F0FE;\n",
              "      border: none;\n",
              "      border-radius: 50%;\n",
              "      cursor: pointer;\n",
              "      display: none;\n",
              "      fill: #1967D2;\n",
              "      height: 32px;\n",
              "      padding: 0 0 0 0;\n",
              "      width: 32px;\n",
              "    }\n",
              "\n",
              "    .colab-df-convert:hover {\n",
              "      background-color: #E2EBFA;\n",
              "      box-shadow: 0px 1px 2px rgba(60, 64, 67, 0.3), 0px 1px 3px 1px rgba(60, 64, 67, 0.15);\n",
              "      fill: #174EA6;\n",
              "    }\n",
              "\n",
              "    [theme=dark] .colab-df-convert {\n",
              "      background-color: #3B4455;\n",
              "      fill: #D2E3FC;\n",
              "    }\n",
              "\n",
              "    [theme=dark] .colab-df-convert:hover {\n",
              "      background-color: #434B5C;\n",
              "      box-shadow: 0px 1px 3px 1px rgba(0, 0, 0, 0.15);\n",
              "      filter: drop-shadow(0px 1px 2px rgba(0, 0, 0, 0.3));\n",
              "      fill: #FFFFFF;\n",
              "    }\n",
              "  </style>\n",
              "\n",
              "      <script>\n",
              "        const buttonEl =\n",
              "          document.querySelector('#df-7523d6e9-0fc0-43b5-9cd0-9965ba254879 button.colab-df-convert');\n",
              "        buttonEl.style.display =\n",
              "          google.colab.kernel.accessAllowed ? 'block' : 'none';\n",
              "\n",
              "        async function convertToInteractive(key) {\n",
              "          const element = document.querySelector('#df-7523d6e9-0fc0-43b5-9cd0-9965ba254879');\n",
              "          const dataTable =\n",
              "            await google.colab.kernel.invokeFunction('convertToInteractive',\n",
              "                                                     [key], {});\n",
              "          if (!dataTable) return;\n",
              "\n",
              "          const docLinkHtml = 'Like what you see? Visit the ' +\n",
              "            '<a target=\"_blank\" href=https://colab.research.google.com/notebooks/data_table.ipynb>data table notebook</a>'\n",
              "            + ' to learn more about interactive tables.';\n",
              "          element.innerHTML = '';\n",
              "          dataTable['output_type'] = 'display_data';\n",
              "          await google.colab.output.renderOutput(dataTable, element);\n",
              "          const docLink = document.createElement('div');\n",
              "          docLink.innerHTML = docLinkHtml;\n",
              "          element.appendChild(docLink);\n",
              "        }\n",
              "      </script>\n",
              "    </div>\n",
              "  </div>\n",
              "  "
            ]
          },
          "metadata": {},
          "execution_count": 31
        }
      ],
      "source": [
        "import pandas as pd\n",
        "import numpy as np\n",
        "df = pd.read_csv(\"https://raw.githubusercontent.com/akmand/datasets/master/FMLPDA_Table4_3.csv\")\n",
        "df"
      ]
    },
    {
      "cell_type": "code",
      "source": [
        "def compute_impurity(feature, impurity_criterion):\n",
        "    probs = feature.value_counts(normalize=True)\n",
        "    if impurity_criterion == 'entropy':\n",
        "        impurity = -1 * np.sum(np.log2(probs) * probs)\n",
        "    else:\n",
        "        raise ValueError('Unknown impurity criterion')\n",
        "    return(round(impurity, 3))"
      ],
      "metadata": {
        "id": "yss1r7mWT4nI"
      },
      "execution_count": null,
      "outputs": []
    },
    {
      "cell_type": "code",
      "source": [
        "target_entropy = compute_impurity(df['vegetation'], 'entropy')\n",
        "target_entropy"
      ],
      "metadata": {
        "id": "RkvF0TGET9uP",
        "colab": {
          "base_uri": "https://localhost:8080/"
        },
        "outputId": "29a1bbc6-a1e1-4210-efd2-da2b9313addd"
      },
      "execution_count": null,
      "outputs": [
        {
          "output_type": "execute_result",
          "data": {
            "text/plain": [
              "1.557"
            ]
          },
          "metadata": {},
          "execution_count": 33
        }
      ]
    },
    {
      "cell_type": "code",
      "source": [
        "def comp_feature_information_gain(df, target, descriptive_feature, split_criterion):   \n",
        "    print('target feature:', target)\n",
        "    print('descriptive_feature:', descriptive_feature)\n",
        "    print('split criterion:', split_criterion)\n",
        "    target_entropy = compute_impurity(df[target], split_criterion)\n",
        "    entropy_list = list()\n",
        "    weight_list = list()\n",
        "    for level in df[descriptive_feature].unique():\n",
        "        df_feature_level = df[df[descriptive_feature] == level]\n",
        "        entropy_level = compute_impurity(df_feature_level[target], split_criterion)\n",
        "        entropy_list.append(round(entropy_level, 3))\n",
        "        weight_level = len(df_feature_level) / len(df)\n",
        "        weight_list.append(round(weight_level, 3))\n",
        "    feature_remaining_impurity = np.sum(np.array(entropy_list) * np.array(weight_list))\n",
        "    print('remaining impurity:', feature_remaining_impurity)\n",
        "    information_gain = target_entropy - feature_remaining_impurity\n",
        "    print('information gain:', information_gain)\n",
        "    print('====================')\n",
        "    return(information_gain)"
      ],
      "metadata": {
        "id": "ggmEssNoUYju"
      },
      "execution_count": null,
      "outputs": []
    },
    {
      "cell_type": "code",
      "source": [
        "split_criterion = 'entropy'\n",
        "for feature in df.drop(columns='vegetation').columns:\n",
        "    feature_info_gain = comp_feature_information_gain(df, 'vegetation', feature, split_criterion)"
      ],
      "metadata": {
        "id": "tIzR6VocUebr",
        "colab": {
          "base_uri": "https://localhost:8080/"
        },
        "outputId": "e5f47a87-d4d7-47ce-8990-e04d17accb14"
      },
      "execution_count": null,
      "outputs": [
        {
          "output_type": "stream",
          "name": "stdout",
          "text": [
            "target feature: vegetation\n",
            "descriptive_feature: stream\n",
            "split criterion: entropy\n",
            "remaining impurity: 1.250322\n",
            "information gain: 0.306678\n",
            "====================\n",
            "target feature: vegetation\n",
            "descriptive_feature: slope\n",
            "split criterion: entropy\n",
            "remaining impurity: 0.9788939999999999\n",
            "information gain: 0.578106\n",
            "====================\n",
            "target feature: vegetation\n",
            "descriptive_feature: elevation\n",
            "split criterion: entropy\n",
            "remaining impurity: 0.6798219999999999\n",
            "information gain: 0.877178\n",
            "====================\n"
          ]
        }
      ]
    },
    {
      "cell_type": "markdown",
      "source": [
        "# References : \n",
        "1. https://towardsdatascience.com/decision-tree-part-2-34b31b1dc328\n",
        "2. https://towardsdatascience.com/decision-tree-overview-with-no-maths-66b256281e2b\n",
        "3. https://raw.githubusercontent.com/akmand/datasets/master/FMLPDA_Table4_3.csv\n",
        "4. https://en.wikipedia.org/wiki/Riparian_zone\n",
        "5. https://en.wikipedia.org/wiki/Chaparral\n",
        "6. https://en.wikipedia.org/wiki/Conifer\n"
      ],
      "metadata": {
        "id": "CBBJ-JUiAqzt"
      }
    }
  ]
}