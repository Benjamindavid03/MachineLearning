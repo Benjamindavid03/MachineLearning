{
  "nbformat": 4,
  "nbformat_minor": 0,
  "metadata": {
    "colab": {
      "name": "Decision Tree - Toy Dataset.ipynb",
      "provenance": [],
      "collapsed_sections": [
        "G8E9yKJefgZN"
      ],
      "authorship_tag": "ABX9TyPPfgyDF2pGkYgRoigW6/Cn",
      "include_colab_link": true
    },
    "kernelspec": {
      "name": "python3",
      "display_name": "Python 3"
    },
    "language_info": {
      "name": "python"
    }
  },
  "cells": [
    {
      "cell_type": "markdown",
      "metadata": {
        "id": "view-in-github",
        "colab_type": "text"
      },
      "source": [
        "<a href=\"https://colab.research.google.com/github/Benjamindavid03/MachineLearningLab/blob/main/Decision_Tree_Toy_Dataset.ipynb\" target=\"_parent\"><img src=\"https://colab.research.google.com/assets/colab-badge.svg\" alt=\"Open In Colab\"/></a>"
      ]
    },
    {
      "cell_type": "markdown",
      "source": [
        "# Decision Tree Classification\n",
        "Decision Tree Induction Algorithm for classification"
      ],
      "metadata": {
        "id": "Wb6Y4A2Hf1SF"
      }
    },
    {
      "cell_type": "markdown",
      "source": [
        "## Toy dataset.\n",
        "### Dataset Format: \n",
        "1. Each row is an example.\n",
        "2. The last column is the label.\n",
        "3. The first two columns are features.\n",
        "<p> <b>Interesting note:</b> I've written this so the 2nd and 5th examples have the same features, but different labels - so we can see how the tree handles this case.</p>"
      ],
      "metadata": {
        "id": "G8E9yKJefgZN"
      }
    },
    {
      "cell_type": "code",
      "execution_count": 42,
      "metadata": {
        "id": "e0ifFuPefbwW"
      },
      "outputs": [],
      "source": [
        "training_data = [\n",
        "    ['Green', 3, 'Apple'],\n",
        "    ['Yellow', 3, 'Apple'],\n",
        "    ['Red', 1, 'Grape'],\n",
        "    ['Red', 1, 'Grape'],\n",
        "    ['Yellow', 3, 'Lemon'],\n",
        "]"
      ]
    },
    {
      "cell_type": "markdown",
      "source": [
        "## Column labels.\n",
        "These are used only to print the tree."
      ],
      "metadata": {
        "id": "ruxdqKLUf7N0"
      }
    },
    {
      "cell_type": "code",
      "source": [
        "header = [\"color\", \"diameter\", \"label\"]"
      ],
      "metadata": {
        "id": "Jw2um0wAf6Sc"
      },
      "execution_count": 43,
      "outputs": []
    },
    {
      "cell_type": "code",
      "source": [
        "def unique_vals(rows, col):\n",
        "    \"\"\"Find the unique values for a column in a dataset.\"\"\"\n",
        "    return set([row[col] for row in rows])\n",
        "\n",
        "#######\n",
        "# Demo:\n",
        "unique_vals(training_data, 0)\n",
        "# unique_vals(training_data, 1)\n",
        "#######"
      ],
      "metadata": {
        "colab": {
          "base_uri": "https://localhost:8080/"
        },
        "id": "Cx4917LEgD2M",
        "outputId": "688c5ae4-d829-4a11-96a3-ed755d3ca243"
      },
      "execution_count": 44,
      "outputs": [
        {
          "output_type": "execute_result",
          "data": {
            "text/plain": [
              "{'Green', 'Red', 'Yellow'}"
            ]
          },
          "metadata": {},
          "execution_count": 44
        }
      ]
    },
    {
      "cell_type": "code",
      "source": [
        "def class_counts(rows):\n",
        "    \"\"\"Counts the number of each type of example in a dataset.\"\"\"\n",
        "    counts = {}  # a dictionary of label -> count.\n",
        "    for row in rows:\n",
        "        # in our dataset format, the label is always the last column\n",
        "        label = row[-1]\n",
        "        if label not in counts:\n",
        "            counts[label] = 0\n",
        "        counts[label] += 1\n",
        "    return counts\n",
        "#######\n",
        "# Demo:\n",
        "class_counts(training_data)\n",
        "#######"
      ],
      "metadata": {
        "colab": {
          "base_uri": "https://localhost:8080/"
        },
        "id": "-e9B85djgLvE",
        "outputId": "a8101d87-322b-4f79-84af-a9ac7594bd45"
      },
      "execution_count": 45,
      "outputs": [
        {
          "output_type": "execute_result",
          "data": {
            "text/plain": [
              "{'Apple': 2, 'Grape': 2, 'Lemon': 1}"
            ]
          },
          "metadata": {},
          "execution_count": 45
        }
      ]
    },
    {
      "cell_type": "code",
      "source": [
        "def is_numeric(value):\n",
        "    \"\"\"Test if a value is numeric.\"\"\"\n",
        "    return isinstance(value, int) or isinstance(value, float)\n",
        "    #######\n",
        "# Demo:\n",
        "print(is_numeric(7), is_numeric(\"Red\"))\n",
        "#######"
      ],
      "metadata": {
        "colab": {
          "base_uri": "https://localhost:8080/"
        },
        "id": "piColrXRgPME",
        "outputId": "fd8f632f-0794-45f7-ea94-3b2a20fe5397"
      },
      "execution_count": 46,
      "outputs": [
        {
          "output_type": "stream",
          "name": "stdout",
          "text": [
            "True False\n"
          ]
        }
      ]
    },
    {
      "cell_type": "code",
      "source": [
        "class Question:\n",
        "    \"\"\"A Question is used to partition a dataset.\n",
        "\n",
        "    This class just records a 'column number' (e.g., 0 for Color) and a\n",
        "    'column value' (e.g., Green). The 'match' method is used to compare\n",
        "    the feature value in an example to the feature value stored in the\n",
        "    question. See the demo below.\n",
        "    \"\"\"\n",
        "\n",
        "    def __init__(self, column, value):\n",
        "        self.column = column\n",
        "        self.value = value\n",
        "\n",
        "    def match(self, example):\n",
        "        # Compare the feature value in an example to the\n",
        "        # feature value in this question.\n",
        "        val = example[self.column]\n",
        "        if is_numeric(val):\n",
        "            return val >= self.value\n",
        "        else:\n",
        "            return val == self.value\n",
        "\n",
        "    def __repr__(self):\n",
        "        # This is just a helper method to print\n",
        "        # the question in a readable format.\n",
        "        condition = \"==\"\n",
        "        if is_numeric(self.value):\n",
        "            condition = \">=\"\n",
        "        return \"Is %s %s %s?\" % (\n",
        "            header[self.column], condition, str(self.value))\n",
        "#######\n",
        "# Demo:\n",
        "# Let's write a question for a numeric attribute\n",
        "Question(1, 3)\n",
        "# How about one for a categorical attribute\n",
        "q = Question(0, 'Green')\n",
        "q"
      ],
      "metadata": {
        "colab": {
          "base_uri": "https://localhost:8080/"
        },
        "id": "36YvyHUcgdmM",
        "outputId": "fc23f4b1-97e9-4780-999f-13ae1ad6abb8"
      },
      "execution_count": 47,
      "outputs": [
        {
          "output_type": "execute_result",
          "data": {
            "text/plain": [
              "Is color == Green?"
            ]
          },
          "metadata": {},
          "execution_count": 47
        }
      ]
    },
    {
      "cell_type": "code",
      "source": [
        "# Let's pick an example from the training set...\n",
        "example = training_data[0]\n",
        "# ... and see if it matches the question\n",
        "q.match(example) # this will be true, since the first example is Green.\n",
        "#######"
      ],
      "metadata": {
        "colab": {
          "base_uri": "https://localhost:8080/"
        },
        "id": "pdbdr3s1guXr",
        "outputId": "c5f52a7f-31cb-4ce5-94f6-d97b180aed0e"
      },
      "execution_count": 48,
      "outputs": [
        {
          "output_type": "execute_result",
          "data": {
            "text/plain": [
              "True"
            ]
          },
          "metadata": {},
          "execution_count": 48
        }
      ]
    },
    {
      "cell_type": "code",
      "source": [
        "def partition(rows, question):\n",
        "    \"\"\"Partitions a dataset.\n",
        "\n",
        "    For each row in the dataset, check if it matches the question. If\n",
        "    so, add it to 'true rows', otherwise, add it to 'false rows'.\n",
        "    \"\"\"\n",
        "    true_rows, false_rows = [], []\n",
        "    for row in rows:\n",
        "        if question.match(row):\n",
        "            true_rows.append(row)\n",
        "        else:\n",
        "            false_rows.append(row)\n",
        "    return true_rows, false_rows\n",
        "\n",
        "\n",
        "#######\n",
        "# Demo:\n",
        "# Let's partition the training data based on whether rows are Red.\n",
        "true_rows, false_rows = partition(training_data, Question(0, 'Red'))\n",
        "# This will contain all the 'Red' rows.\n",
        "true_rows\n",
        "# This will contain everything else.\n",
        "false_rows\n",
        "#######"
      ],
      "metadata": {
        "colab": {
          "base_uri": "https://localhost:8080/"
        },
        "id": "LlBDlb7sgy67",
        "outputId": "0f7b02bf-2c9b-42d2-b85b-18c0d43289b3"
      },
      "execution_count": 49,
      "outputs": [
        {
          "output_type": "execute_result",
          "data": {
            "text/plain": [
              "[['Green', 3, 'Apple'], ['Yellow', 3, 'Apple'], ['Yellow', 3, 'Lemon']]"
            ]
          },
          "metadata": {},
          "execution_count": 49
        }
      ]
    },
    {
      "cell_type": "code",
      "source": [
        "def gini(rows):\n",
        "    \"\"\"Calculate the Gini Impurity for a list of rows.\n",
        "\n",
        "    There are a few different ways to do this, I thought this one was\n",
        "    the most concise. See:\n",
        "    https://en.wikipedia.org/wiki/Decision_tree_learning#Gini_impurity\n",
        "    \"\"\"\n",
        "    counts = class_counts(rows)\n",
        "    impurity = 1\n",
        "    for lbl in counts:\n",
        "        prob_of_lbl = counts[lbl] / float(len(rows))\n",
        "        impurity -= prob_of_lbl**2\n",
        "    return impurity\n",
        "#######\n",
        "# Demo:\n",
        "# Let's look at some example to understand how Gini Impurity works.\n",
        "#\n",
        "# First, we'll look at a dataset with no mixing.\n",
        "no_mixing = [['Apple'],\n",
        "              ['Apple']]\n",
        "# this will return 0\n",
        "gini(no_mixing)"
      ],
      "metadata": {
        "colab": {
          "base_uri": "https://localhost:8080/"
        },
        "id": "UKEdWZKTg_07",
        "outputId": "b7e398b6-ee33-4ecd-ea83-cafb82aee82e"
      },
      "execution_count": 50,
      "outputs": [
        {
          "output_type": "execute_result",
          "data": {
            "text/plain": [
              "0.0"
            ]
          },
          "metadata": {},
          "execution_count": 50
        }
      ]
    },
    {
      "cell_type": "code",
      "source": [
        "# Now, we'll look at dataset with a 50:50 apples:oranges ratio\n",
        "some_mixing = [['Apple'],\n",
        "               ['Orange']]\n",
        "# this will return 0.5 - meaning, there's a 50% chance of misclassifying\n",
        "# a random example we draw from the dataset.\n",
        "gini(some_mixing)"
      ],
      "metadata": {
        "colab": {
          "base_uri": "https://localhost:8080/"
        },
        "id": "D0zKMYTShGkU",
        "outputId": "beb7b8a1-8cbb-4a33-ddfb-52626eb14fa7"
      },
      "execution_count": 51,
      "outputs": [
        {
          "output_type": "execute_result",
          "data": {
            "text/plain": [
              "0.5"
            ]
          },
          "metadata": {},
          "execution_count": 51
        }
      ]
    },
    {
      "cell_type": "code",
      "source": [
        "# Now, we'll look at a dataset with many different labels\n",
        "lots_of_mixing = [['Apple'],\n",
        "                  ['Orange'],\n",
        "                  ['Grape'],\n",
        "                  ['Grapefruit'],\n",
        "                  ['Blueberry']]\n",
        "# This will return 0.8\n",
        "gini(lots_of_mixing)\n",
        "#######"
      ],
      "metadata": {
        "colab": {
          "base_uri": "https://localhost:8080/"
        },
        "id": "YP3FfdXJhJFk",
        "outputId": "66720de0-0c45-41a3-b3b9-c26d9d137a3a"
      },
      "execution_count": 52,
      "outputs": [
        {
          "output_type": "execute_result",
          "data": {
            "text/plain": [
              "0.7999999999999998"
            ]
          },
          "metadata": {},
          "execution_count": 52
        }
      ]
    },
    {
      "cell_type": "code",
      "source": [
        "def info_gain(left, right, current_uncertainty):\n",
        "    \"\"\"Information Gain.\n",
        "\n",
        "    The uncertainty of the starting node, minus the weighted impurity of\n",
        "    two child nodes.\n",
        "    \"\"\"\n",
        "    p = float(len(left)) / (len(left) + len(right))\n",
        "    return current_uncertainty - p * gini(left) - (1 - p) * gini(right)\n",
        "\n",
        "#######\n",
        "# Demo:\n",
        "# Calculate the uncertainy of our training data.\n",
        "current_uncertainty = gini(training_data)\n",
        "current_uncertainty"
      ],
      "metadata": {
        "colab": {
          "base_uri": "https://localhost:8080/"
        },
        "id": "yfKjUuschNDL",
        "outputId": "f0050e25-28f4-484b-cdb8-776817e52aa0"
      },
      "execution_count": 53,
      "outputs": [
        {
          "output_type": "execute_result",
          "data": {
            "text/plain": [
              "0.6399999999999999"
            ]
          },
          "metadata": {},
          "execution_count": 53
        }
      ]
    },
    {
      "cell_type": "code",
      "source": [
        "# How much information do we gain by partioning on 'Green'?\n",
        "true_rows, false_rows = partition(training_data, Question(0, 'Green'))\n",
        "info_gain(true_rows, false_rows, current_uncertainty)"
      ],
      "metadata": {
        "colab": {
          "base_uri": "https://localhost:8080/"
        },
        "id": "-oGob9XmhRmU",
        "outputId": "bb85f8e5-3f07-4d0b-8e8e-fba3fc11c397"
      },
      "execution_count": 54,
      "outputs": [
        {
          "output_type": "execute_result",
          "data": {
            "text/plain": [
              "0.1399999999999999"
            ]
          },
          "metadata": {},
          "execution_count": 54
        }
      ]
    },
    {
      "cell_type": "code",
      "source": [
        "# What about if we partioned on 'Red' instead?\n",
        "true_rows, false_rows = partition(training_data, Question(0,'Red'))\n",
        "info_gain(true_rows, false_rows, current_uncertainty)"
      ],
      "metadata": {
        "colab": {
          "base_uri": "https://localhost:8080/"
        },
        "id": "tvJM2mZbhRSL",
        "outputId": "81f38b4c-33fa-4cd6-b2bf-1cd5870c34e1"
      },
      "execution_count": 55,
      "outputs": [
        {
          "output_type": "execute_result",
          "data": {
            "text/plain": [
              "0.37333333333333324"
            ]
          },
          "metadata": {},
          "execution_count": 55
        }
      ]
    },
    {
      "cell_type": "code",
      "source": [
        "# It looks like we learned more using 'Red' (0.37), than 'Green' (0.14).\n",
        "# Why? Look at the different splits that result, and see which one\n",
        "# looks more 'unmixed' to you.\n",
        "true_rows, false_rows = partition(training_data, Question(0,'Red'))\n",
        "\n",
        "# Here, the true_rows contain only 'Grapes'.\n",
        "true_rows"
      ],
      "metadata": {
        "colab": {
          "base_uri": "https://localhost:8080/"
        },
        "id": "Hu3c6IvshWyC",
        "outputId": "cad9e9d5-9efe-4fd2-e8e7-e0da555b67cd"
      },
      "execution_count": 56,
      "outputs": [
        {
          "output_type": "execute_result",
          "data": {
            "text/plain": [
              "[['Red', 1, 'Grape'], ['Red', 1, 'Grape']]"
            ]
          },
          "metadata": {},
          "execution_count": 56
        }
      ]
    },
    {
      "cell_type": "code",
      "source": [
        "# And the false rows contain two types of fruit. Not too bad.\n",
        "false_rows"
      ],
      "metadata": {
        "colab": {
          "base_uri": "https://localhost:8080/"
        },
        "id": "Ds0oBj6jhZzd",
        "outputId": "0b602c63-7f89-4fc8-caa8-7f643a2bc7e2"
      },
      "execution_count": 57,
      "outputs": [
        {
          "output_type": "execute_result",
          "data": {
            "text/plain": [
              "[['Green', 3, 'Apple'], ['Yellow', 3, 'Apple'], ['Yellow', 3, 'Lemon']]"
            ]
          },
          "metadata": {},
          "execution_count": 57
        }
      ]
    },
    {
      "cell_type": "code",
      "source": [
        "# On the other hand, partitioning by Green doesn't help so much.\n",
        "true_rows, false_rows = partition(training_data, Question(0,'Green'))\n",
        "\n",
        "# We've isolated one apple in the true rows.\n",
        "true_rows"
      ],
      "metadata": {
        "colab": {
          "base_uri": "https://localhost:8080/"
        },
        "id": "8bTgqtq_hbIs",
        "outputId": "5e3bff80-1428-42f8-f9bc-dfac5f7c5906"
      },
      "execution_count": 58,
      "outputs": [
        {
          "output_type": "execute_result",
          "data": {
            "text/plain": [
              "[['Green', 3, 'Apple']]"
            ]
          },
          "metadata": {},
          "execution_count": 58
        }
      ]
    },
    {
      "cell_type": "code",
      "source": [
        "# But, the false-rows are badly mixed up.\n",
        "false_rows\n",
        "#######"
      ],
      "metadata": {
        "colab": {
          "base_uri": "https://localhost:8080/"
        },
        "id": "HkH6SsrFhcpU",
        "outputId": "b43827fd-6203-4d72-ca12-0483842629d2"
      },
      "execution_count": 59,
      "outputs": [
        {
          "output_type": "execute_result",
          "data": {
            "text/plain": [
              "[['Yellow', 3, 'Apple'],\n",
              " ['Red', 1, 'Grape'],\n",
              " ['Red', 1, 'Grape'],\n",
              " ['Yellow', 3, 'Lemon']]"
            ]
          },
          "metadata": {},
          "execution_count": 59
        }
      ]
    },
    {
      "cell_type": "code",
      "source": [
        "def find_best_split(rows):\n",
        "    \"\"\"Find the best question to ask by iterating over every feature / value\n",
        "    and calculating the information gain.\"\"\"\n",
        "    best_gain = 0  # keep track of the best information gain\n",
        "    best_question = None  # keep train of the feature / value that produced it\n",
        "    current_uncertainty = gini(rows)\n",
        "    n_features = len(rows[0]) - 1  # number of columns\n",
        "\n",
        "    for col in range(n_features):  # for each feature\n",
        "\n",
        "        values = set([row[col] for row in rows])  # unique values in the column\n",
        "\n",
        "        for val in values:  # for each value\n",
        "\n",
        "            question = Question(col, val)\n",
        "\n",
        "            # try splitting the dataset\n",
        "            true_rows, false_rows = partition(rows, question)\n",
        "\n",
        "            # Skip this split if it doesn't divide the\n",
        "            # dataset.\n",
        "            if len(true_rows) == 0 or len(false_rows) == 0:\n",
        "                continue\n",
        "\n",
        "            # Calculate the information gain from this split\n",
        "            gain = info_gain(true_rows, false_rows, current_uncertainty)\n",
        "\n",
        "            # You actually can use '>' instead of '>=' here\n",
        "            # but I wanted the tree to look a certain way for our\n",
        "            # toy dataset.\n",
        "            if gain >= best_gain:\n",
        "                best_gain, best_question = gain, question\n",
        "\n",
        "    return best_gain, best_question\n",
        "\n",
        "    \n",
        "#######\n",
        "# Demo:\n",
        "# Find the best question to ask first for our toy dataset.\n",
        "best_gain, best_question = find_best_split(training_data)\n",
        "best_question\n",
        "# FYI: is color == Red is just as good. See the note in the code above\n",
        "# where I used '>='.\n",
        "#######"
      ],
      "metadata": {
        "colab": {
          "base_uri": "https://localhost:8080/"
        },
        "id": "FFU6_xqzheaz",
        "outputId": "863814aa-d6e8-41b4-e0a0-fa2ec7d46852"
      },
      "execution_count": 60,
      "outputs": [
        {
          "output_type": "execute_result",
          "data": {
            "text/plain": [
              "Is diameter >= 3?"
            ]
          },
          "metadata": {},
          "execution_count": 60
        }
      ]
    },
    {
      "cell_type": "code",
      "source": [
        "class Leaf:\n",
        "    \"\"\"A Leaf node classifies data.\n",
        "\n",
        "    This holds a dictionary of class (e.g., \"Apple\") -> number of times\n",
        "    it appears in the rows from the training data that reach this leaf.\n",
        "    \"\"\"\n",
        "\n",
        "    def __init__(self, rows):\n",
        "        self.predictions = class_counts(rows)\n"
      ],
      "metadata": {
        "id": "skFZGKL3hnAU"
      },
      "execution_count": 61,
      "outputs": []
    },
    {
      "cell_type": "code",
      "source": [
        "class Decision_Node:\n",
        "    \"\"\"A Decision Node asks a question.\n",
        "\n",
        "    This holds a reference to the question, and to the two child nodes.\n",
        "    \"\"\"\n",
        "\n",
        "    def __init__(self,\n",
        "                 question,\n",
        "                 true_branch,\n",
        "                 false_branch):\n",
        "        self.question = question\n",
        "        self.true_branch = true_branch\n",
        "        self.false_branch = false_branch\n"
      ],
      "metadata": {
        "id": "rM88Gm5_homa"
      },
      "execution_count": 62,
      "outputs": []
    },
    {
      "cell_type": "code",
      "source": [
        "def build_tree(rows):\n",
        "    \"\"\"Builds the tree.\n",
        "\n",
        "    Rules of recursion: 1) Believe that it works. 2) Start by checking\n",
        "    for the base case (no further information gain). 3) Prepare for\n",
        "    giant stack traces.\n",
        "    \"\"\"\n",
        "\n",
        "    # Try partitioing the dataset on each of the unique attribute,\n",
        "    # calculate the information gain,\n",
        "    # and return the question that produces the highest gain.\n",
        "    gain, question = find_best_split(rows)\n",
        "\n",
        "    # Base case: no further info gain\n",
        "    # Since we can ask no further questions,\n",
        "    # we'll return a leaf.\n",
        "    if gain == 0:\n",
        "        return Leaf(rows)\n",
        "\n",
        "    # If we reach here, we have found a useful feature / value\n",
        "    # to partition on.\n",
        "    true_rows, false_rows = partition(rows, question)\n",
        "\n",
        "    # Recursively build the true branch.\n",
        "    true_branch = build_tree(true_rows)\n",
        "\n",
        "    # Recursively build the false branch.\n",
        "    false_branch = build_tree(false_rows)\n",
        "\n",
        "    # Return a Question node.\n",
        "    # This records the best feature / value to ask at this point,\n",
        "    # as well as the branches to follow\n",
        "    # dependingo on the answer.\n",
        "    return Decision_Node(question, true_branch, false_branch)\n"
      ],
      "metadata": {
        "id": "1oSifH0yhq0z"
      },
      "execution_count": 63,
      "outputs": []
    },
    {
      "cell_type": "code",
      "source": [
        "def print_tree(node, spacing=\"\"):\n",
        "    \"\"\"World's most elegant tree printing function.\"\"\"\n",
        "\n",
        "    # Base case: we've reached a leaf\n",
        "    if isinstance(node, Leaf):\n",
        "        print (spacing + \"Predict\", node.predictions)\n",
        "        return\n",
        "\n",
        "    # Print the question at this node\n",
        "    print (spacing + str(node.question))\n",
        "\n",
        "    # Call this function recursively on the true branch\n",
        "    print (spacing + '--> True:')\n",
        "    print_tree(node.true_branch, spacing + \"  \")\n",
        "\n",
        "    # Call this function recursively on the false branch\n",
        "    print (spacing + '--> False:')\n",
        "    print_tree(node.false_branch, spacing + \"  \")\n"
      ],
      "metadata": {
        "id": "6-x0TRkrhtK7"
      },
      "execution_count": 64,
      "outputs": []
    },
    {
      "cell_type": "code",
      "source": [
        "my_tree = build_tree(training_data)\n",
        "print_tree(my_tree)"
      ],
      "metadata": {
        "colab": {
          "base_uri": "https://localhost:8080/"
        },
        "id": "0_VAM7ZShupK",
        "outputId": "7f2859fb-1cc0-42c5-fbd1-66125c4b6d4b"
      },
      "execution_count": 65,
      "outputs": [
        {
          "output_type": "stream",
          "name": "stdout",
          "text": [
            "Is diameter >= 3?\n",
            "--> True:\n",
            "  Is color == Yellow?\n",
            "  --> True:\n",
            "    Predict {'Apple': 1, 'Lemon': 1}\n",
            "  --> False:\n",
            "    Predict {'Apple': 1}\n",
            "--> False:\n",
            "  Predict {'Grape': 2}\n"
          ]
        }
      ]
    },
    {
      "cell_type": "code",
      "source": [
        "def classify(row, node):\n",
        "    \"\"\"See the 'rules of recursion' above.\"\"\"\n",
        "\n",
        "    # Base case: we've reached a leaf\n",
        "    if isinstance(node, Leaf):\n",
        "        return node.predictions\n",
        "\n",
        "    # Decide whether to follow the true-branch or the false-branch.\n",
        "    # Compare the feature / value stored in the node,\n",
        "    # to the example we're considering.\n",
        "    if node.question.match(row):\n",
        "        return classify(row, node.true_branch)\n",
        "    else:\n",
        "        return classify(row, node.false_branch)\n"
      ],
      "metadata": {
        "id": "L--w1QkUh2u7"
      },
      "execution_count": 66,
      "outputs": []
    },
    {
      "cell_type": "code",
      "source": [
        "#######\n",
        "# Demo:\n",
        "# The tree predicts the 1st row of our\n",
        "# training data is an apple with confidence 1.\n",
        "classify(training_data[0], my_tree)\n",
        "#######"
      ],
      "metadata": {
        "colab": {
          "base_uri": "https://localhost:8080/"
        },
        "id": "NgxSDRPPh4Oq",
        "outputId": "6ec47a74-a283-4c23-c895-b6535879b6c7"
      },
      "execution_count": 67,
      "outputs": [
        {
          "output_type": "execute_result",
          "data": {
            "text/plain": [
              "{'Apple': 1}"
            ]
          },
          "metadata": {},
          "execution_count": 67
        }
      ]
    },
    {
      "cell_type": "code",
      "source": [
        "def print_leaf(counts):\n",
        "    \"\"\"A nicer way to print the predictions at a leaf.\"\"\"\n",
        "    total = sum(counts.values()) * 1.0\n",
        "    probs = {}\n",
        "    for lbl in counts.keys():\n",
        "        probs[lbl] = str(int(counts[lbl] / total * 100)) + \"%\"\n",
        "    return probs"
      ],
      "metadata": {
        "id": "HkUdhFc8h6iU"
      },
      "execution_count": 68,
      "outputs": []
    },
    {
      "cell_type": "code",
      "source": [
        "#######\n",
        "# Demo:\n",
        "# Printing that a bit nicer\n",
        "print_leaf(classify(training_data[0], my_tree))\n",
        "#######"
      ],
      "metadata": {
        "colab": {
          "base_uri": "https://localhost:8080/"
        },
        "id": "DifWCBQrh8Nz",
        "outputId": "0d3dfc67-1ff2-4a6a-8c6a-c3d690124d07"
      },
      "execution_count": 69,
      "outputs": [
        {
          "output_type": "execute_result",
          "data": {
            "text/plain": [
              "{'Apple': '100%'}"
            ]
          },
          "metadata": {},
          "execution_count": 69
        }
      ]
    },
    {
      "cell_type": "code",
      "source": [
        "#######\n",
        "# Demo:\n",
        "# On the second example, the confidence is lower\n",
        "print_leaf(classify(training_data[1], my_tree))\n",
        "#######"
      ],
      "metadata": {
        "colab": {
          "base_uri": "https://localhost:8080/"
        },
        "id": "JsJgGSFOh_VT",
        "outputId": "abacd444-6c16-45b2-9c5b-1bcbc5e6ac30"
      },
      "execution_count": 70,
      "outputs": [
        {
          "output_type": "execute_result",
          "data": {
            "text/plain": [
              "{'Apple': '50%', 'Lemon': '50%'}"
            ]
          },
          "metadata": {},
          "execution_count": 70
        }
      ]
    },
    {
      "cell_type": "code",
      "source": [
        "# Evaluate\n",
        "testing_data = [\n",
        "    ['Green', 3, 'Apple'],\n",
        "    ['Yellow', 4, 'Apple'],\n",
        "    ['Red', 2, 'Grape'],\n",
        "    ['Red', 1, 'Grape'],\n",
        "    ['Yellow', 3, 'Lemon'],\n",
        "]"
      ],
      "metadata": {
        "id": "J3ehd3NliB3D"
      },
      "execution_count": 71,
      "outputs": []
    },
    {
      "cell_type": "code",
      "source": [
        "for row in testing_data:\n",
        "    print (\"Actual: %s. Predicted: %s\" %\n",
        "           (row[-1], print_leaf(classify(row, my_tree))))"
      ],
      "metadata": {
        "colab": {
          "base_uri": "https://localhost:8080/"
        },
        "id": "Z0isJUTliDtK",
        "outputId": "aa6e26cd-0139-41fb-9c47-dc4255e6e5e9"
      },
      "execution_count": 72,
      "outputs": [
        {
          "output_type": "stream",
          "name": "stdout",
          "text": [
            "Actual: Apple. Predicted: {'Apple': '100%'}\n",
            "Actual: Apple. Predicted: {'Apple': '50%', 'Lemon': '50%'}\n",
            "Actual: Grape. Predicted: {'Grape': '100%'}\n",
            "Actual: Grape. Predicted: {'Grape': '100%'}\n",
            "Actual: Lemon. Predicted: {'Apple': '50%', 'Lemon': '50%'}\n"
          ]
        }
      ]
    }
  ]
}