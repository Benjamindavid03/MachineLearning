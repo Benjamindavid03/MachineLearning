{
  "nbformat": 4,
  "nbformat_minor": 0,
  "metadata": {
    "colab": {
      "name": "Pokemon_Prediction.ipynb",
      "provenance": [],
      "collapsed_sections": [],
      "authorship_tag": "ABX9TyMX7Z/nkVOiaq14DEUvkDhP",
      "include_colab_link": true
    },
    "kernelspec": {
      "name": "python3",
      "display_name": "Python 3"
    },
    "language_info": {
      "name": "python"
    }
  },
  "cells": [
    {
      "cell_type": "markdown",
      "metadata": {
        "id": "view-in-github",
        "colab_type": "text"
      },
      "source": [
        "<a href=\"https://colab.research.google.com/github/Benjamindavid03/MachineLearningLab/blob/main/Pokemon_Prediction.ipynb\" target=\"_parent\"><img src=\"https://colab.research.google.com/assets/colab-badge.svg\" alt=\"Open In Colab\"/></a>"
      ]
    },
    {
      "cell_type": "markdown",
      "source": [
        "# Predicting the Pokemon "
      ],
      "metadata": {
        "id": "PgryAVt4zItk"
      }
    },
    {
      "cell_type": "code",
      "source": [
        "# importing libraries\n",
        "from sklearn.ensemble import VotingClassifier\n",
        "from sklearn.linear_model import LogisticRegression\n",
        "from sklearn.svm import SVC\n",
        "import pandas as pd\n",
        "from sklearn import datasets\n",
        "from sklearn.tree import DecisionTreeClassifier\n",
        "from sklearn.datasets import load_iris\n",
        "from sklearn.metrics import accuracy_score\n",
        "from sklearn.model_selection import train_test_split"
      ],
      "metadata": {
        "id": "iDmgw4M3zxCT"
      },
      "execution_count": 39,
      "outputs": []
    },
    {
      "cell_type": "markdown",
      "source": [
        "# Import the Pokemon Data"
      ],
      "metadata": {
        "id": "fp5RMDnGzx16"
      }
    },
    {
      "cell_type": "code",
      "source": [
        "# loading dataset\n",
        "nRowsRead = 1000 # specify 'None' if want to read whole file\n",
        "df1 = pd.read_csv('https://raw.githubusercontent.com/Benjamindavid03/MachineLearningLab/main/pokePd.csv', delimiter=',', nrows = nRowsRead)"
      ],
      "metadata": {
        "id": "L09h6HyyzJ9z"
      },
      "execution_count": 40,
      "outputs": []
    },
    {
      "cell_type": "markdown",
      "source": [
        "# Pre process the pokemon data to fit into a ML algorithm"
      ],
      "metadata": {
        "id": "GdFayg2czpWK"
      }
    },
    {
      "cell_type": "code",
      "source": [
        "#preparing the data\n",
        "X = df1.drop(columns=['Name','ID','Type','Total']) # features\n",
        "y = df1['Name'] #label\n",
        "#df1['Type']=df1['Type'].apply(np.int64)\n",
        "X\n",
        "X = X.values # converting to values"
      ],
      "metadata": {
        "id": "8xpJZ3TfzUHj"
      },
      "execution_count": 41,
      "outputs": []
    },
    {
      "cell_type": "markdown",
      "source": [
        "# Learn the features of the pokemon species"
      ],
      "metadata": {
        "id": "t_L5wdhTzliy"
      }
    },
    {
      "cell_type": "code",
      "source": [
        "from sklearn.tree import DecisionTreeClassifier\n",
        "model = DecisionTreeClassifier()\n",
        "model.fit(X,y)"
      ],
      "metadata": {
        "colab": {
          "base_uri": "https://localhost:8080/"
        },
        "id": "3cN8YsQezgYD",
        "outputId": "64c83367-2bcd-439d-8680-fac8130a4c10"
      },
      "execution_count": 42,
      "outputs": [
        {
          "output_type": "execute_result",
          "data": {
            "text/plain": [
              "DecisionTreeClassifier()"
            ]
          },
          "metadata": {},
          "execution_count": 42
        }
      ]
    },
    {
      "cell_type": "markdown",
      "source": [
        "# Predict a pokemon"
      ],
      "metadata": {
        "id": "NFlF2WSCzjGj"
      }
    },
    {
      "cell_type": "code",
      "source": [
        "y_pred = model.predict([ [20,15,21,12,15,21] ])\n",
        "print(\"The predicted pokemon is \")\n",
        "y_pred[0]"
      ],
      "metadata": {
        "colab": {
          "base_uri": "https://localhost:8080/",
          "height": 53
        },
        "id": "wtgTMG5cziTD",
        "outputId": "f3aa5ba0-021b-475c-d7ae-76d739f058a3"
      },
      "execution_count": 51,
      "outputs": [
        {
          "output_type": "stream",
          "name": "stdout",
          "text": [
            "The predicted pokemon is \n"
          ]
        },
        {
          "output_type": "execute_result",
          "data": {
            "text/plain": [
              "'Magikarp'"
            ],
            "application/vnd.google.colaboratory.intrinsic+json": {
              "type": "string"
            }
          },
          "metadata": {},
          "execution_count": 51
        }
      ]
    },
    {
      "cell_type": "markdown",
      "source": [
        "<img src='https://assets.pokemon.com/assets/cms2/img/pokedex/full/129.png'/>"
      ],
      "metadata": {
        "id": "CJ4HLSYs0aOj"
      }
    }
  ]
}