{
  "nbformat": 4,
  "nbformat_minor": 0,
  "metadata": {
    "colab": {
      "name": "Dimensionality Reduction_Image.ipynb",
      "provenance": [],
      "collapsed_sections": [],
      "authorship_tag": "ABX9TyNGZoDphxCyxhciAS+EHMYG",
      "include_colab_link": true
    },
    "kernelspec": {
      "name": "python3",
      "display_name": "Python 3"
    },
    "language_info": {
      "name": "python"
    }
  },
  "cells": [
    {
      "cell_type": "markdown",
      "metadata": {
        "id": "view-in-github",
        "colab_type": "text"
      },
      "source": [
        "<a href=\"https://colab.research.google.com/github/Benjamindavid03/MachineLearningLab/blob/main/Dimensionality_Reduction_Image.ipynb\" target=\"_parent\"><img src=\"https://colab.research.google.com/assets/colab-badge.svg\" alt=\"Open In Colab\"/></a>"
      ]
    },
    {
      "cell_type": "markdown",
      "source": [
        "# Dimensionality Reduction using PCA in Image Processing applications\n"
      ],
      "metadata": {
        "id": "ppwn6IjgUBEn"
      }
    },
    {
      "cell_type": "code",
      "source": [
        "# Importing required libraries\n",
        "import cv2\n",
        "import numpy as np\n",
        "import skimage \n",
        "import matplotlib.pyplot as plt\n",
        "from sklearn.decomposition import PCA"
      ],
      "metadata": {
        "id": "EmQGCz2VCL0T"
      },
      "execution_count": 1,
      "outputs": []
    },
    {
      "cell_type": "code",
      "source": [
        "# Loading the image \n",
        "image = cv2.imread(\"dog.png\")  #you can use any image you want.\n",
        "#viewing the original image\n",
        "plt.axis(\"off\")\n",
        "plt.imshow(image)"
      ],
      "metadata": {
        "id": "AopAM_8yCN70"
      },
      "execution_count": null,
      "outputs": []
    },
    {
      "cell_type": "code",
      "source": [
        "blue,green,red =cv2.split(image)\n",
        "#it will split the original image into Blue, Green and Red arrays."
      ],
      "metadata": {
        "id": "GeMP1CRyFozf"
      },
      "execution_count": null,
      "outputs": []
    },
    {
      "cell_type": "code",
      "source": [
        "#initialize PCA with first 20 principal components\n",
        "pca = PCA(20)\n",
        " \n",
        "#Applying to red channel and then applying inverse transform to transformed array.\n",
        "red_transformed = pca.fit_transform(red)\n",
        "red_inverted = pca.inverse_transform(red_transformed)\n",
        " \n",
        "#Applying to Green channel and then applying inverse transform to transformed array.\n",
        "green_transformed = pca.fit_transform(green)\n",
        "green_inverted = pca.inverse_transform(green_transformed)\n",
        " \n",
        "#Applying to Blue channel and then applying inverse transform to transformed array.\n",
        "blue_transformed = pca.fit_transform(blue)\n",
        "blue_inverted = pca.inverse_transform(blue_transformed)"
      ],
      "metadata": {
        "id": "IKJpCPxKGLPg"
      },
      "execution_count": null,
      "outputs": []
    },
    {
      "cell_type": "code",
      "source": [
        "#stack the transformed channels \n",
        "img_compressed = (np.dstack((red_inverted, green_inverted, blue_inverted))).astype(np.uint8)"
      ],
      "metadata": {
        "id": "ZGIkiUh1GRx-"
      },
      "execution_count": null,
      "outputs": []
    },
    {
      "cell_type": "code",
      "source": [
        "#viewing the compressed image\n",
        "plt.axis(\"off\")\n",
        "plt.imshow(img_compressed)"
      ],
      "metadata": {
        "id": "pVfpFZ77GTxJ"
      },
      "execution_count": null,
      "outputs": []
    },
    {
      "cell_type": "markdown",
      "source": [
        "# References\n",
        "1. https://www.javatpoint.com/principal-component-analysis\n",
        "2. https://www.askpython.com/python-modules/read-images-in-python-opencv\n",
        "3. https://www.askpython.com/python/examples/principal-component-analysis-for-image-data\n",
        "4. https://www.sartorius.com/en/knowledge/science-snippets/what-is-principal-component-analysis-pca-and-how-it-is-used-507186\n",
        "5. https://intellipaat.com/blog/a-brief-introduction-to-principal-component-analysis/\n",
        "6. https://en.wikipedia.org/wiki/Principal_component_analysis\n"
      ],
      "metadata": {
        "id": "_4Nl2Q0lUJwC"
      }
    }
  ]
}