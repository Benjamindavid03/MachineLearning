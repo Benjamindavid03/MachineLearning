{
  "nbformat": 4,
  "nbformat_minor": 0,
  "metadata": {
    "colab": {
      "name": "Linear Regression.ipynb",
      "provenance": [],
      "collapsed_sections": [],
      "authorship_tag": "ABX9TyMdEpmT8Zz4ZXcU3ECdwK+e",
      "include_colab_link": true
    },
    "kernelspec": {
      "name": "python3",
      "display_name": "Python 3"
    },
    "language_info": {
      "name": "python"
    }
  },
  "cells": [
    {
      "cell_type": "markdown",
      "metadata": {
        "id": "view-in-github",
        "colab_type": "text"
      },
      "source": [
        "<a href=\"https://colab.research.google.com/github/Benjamindavid03/MachineLearningLab/blob/main/Linear_Regression.ipynb\" target=\"_parent\"><img src=\"https://colab.research.google.com/assets/colab-badge.svg\" alt=\"Open In Colab\"/></a>"
      ]
    },
    {
      "cell_type": "markdown",
      "source": [
        "# Linear Regression Algorithm"
      ],
      "metadata": {
        "id": "btKykRp7lZxx"
      }
    },
    {
      "cell_type": "code",
      "execution_count": null,
      "metadata": {
        "id": "bTip127ClNty"
      },
      "outputs": [],
      "source": [
        "%matplotlib inline\n",
        "from google.colab import files\n",
        "import numpy as np;\n",
        "import pandas as pd;\n",
        "import matplotlib.pyplot as plt;\n",
        "plt.rcParams['figure.figsize'] = (20.0,10.0)"
      ]
    },
    {
      "cell_type": "code",
      "source": [
        "uploaded = files.upload()"
      ],
      "metadata": {
        "id": "xbb6muMjlcLg"
      },
      "execution_count": null,
      "outputs": []
    },
    {
      "cell_type": "code",
      "source": [
        "data = pd.read_csv(\"regression.csv\")\n",
        "data.head()"
      ],
      "metadata": {
        "id": "Jos3_dzklej4"
      },
      "execution_count": null,
      "outputs": []
    },
    {
      "cell_type": "code",
      "source": [
        "#collecting x and y\n",
        "x = data['x'].values\n",
        "y = data['y'].values"
      ],
      "metadata": {
        "id": "EaVRymAolf5Y"
      },
      "execution_count": null,
      "outputs": []
    },
    {
      "cell_type": "code",
      "source": [
        "#find the mean of x and y\n",
        "mean_x = np.mean(x)\n",
        "mean_y = np.mean(y)\n",
        "\n",
        "#total number of values\n",
        "n = len(x);\n",
        "print(\"n\",n)\n",
        "# using the formula to calculate b1 and b0\n",
        "\n",
        "numer = 0\n",
        "denom = 0\n",
        "for i in range(n):\n",
        "  numer += (x[i] - mean_x) * (y[i] - mean_y)\n",
        "  denom += (x[i] - mean_x) ** 2\n",
        "\n",
        "m = numer / denom\n",
        "c = mean_y - (b1 * mean_x)\n",
        "\n",
        "#print the coefficients\n",
        "print(m,c)"
      ],
      "metadata": {
        "id": "hxG8mdDRlhXI"
      },
      "execution_count": null,
      "outputs": []
    },
    {
      "cell_type": "code",
      "source": [
        "#Plotting values and regression line\n",
        "max_x = np.max(x)# + 100\n",
        "min_x = np.min(x)# + 100\n",
        "\n",
        "#calculating the values for x and y\n",
        "x = np.linspace(min_x,max_x,10)\n",
        "\n",
        "print(\"x = \",x)\n",
        "#y = mx+c\n",
        "y = (m * x) + c;\n",
        "print(\"y = \",y)\n",
        "\n",
        "#plotting the line\n",
        "plt.plot(x,y,color='#110000',label='Regression Line')\n",
        "plt.scatter(x,y,color='#ff3411',label='Scatter Plot')\n",
        "\n",
        "plt.xlabel(\"x points\")\n",
        "plt.ylabel(\"y points\")\n",
        "plt.legend()\n",
        "plt.show()\n"
      ],
      "metadata": {
        "id": "R53GjQBkli0w"
      },
      "execution_count": null,
      "outputs": []
    }
  ]
}