{
  "nbformat": 4,
  "nbformat_minor": 0,
  "metadata": {
    "colab": {
      "name": "Spark Example.ipynb",
      "provenance": [],
      "collapsed_sections": [],
      "include_colab_link": true
    },
    "kernelspec": {
      "name": "python3",
      "display_name": "Python 3"
    },
    "language_info": {
      "name": "python"
    }
  },
  "cells": [
    {
      "cell_type": "markdown",
      "metadata": {
        "id": "view-in-github",
        "colab_type": "text"
      },
      "source": [
        "<a href=\"https://colab.research.google.com/github/Benjamindavid03/MachineLearningLab/blob/main/Spark_Example.ipynb\" target=\"_parent\"><img src=\"https://colab.research.google.com/assets/colab-badge.svg\" alt=\"Open In Colab\"/></a>"
      ]
    },
    {
      "cell_type": "markdown",
      "source": [
        "# Prepare and Import the Data"
      ],
      "metadata": {
        "id": "u8fXkFgnTCFN"
      }
    },
    {
      "cell_type": "code",
      "execution_count": 2,
      "metadata": {
        "colab": {
          "base_uri": "https://localhost:8080/"
        },
        "id": "X4nt00sqOmWD",
        "outputId": "54e6406f-c59b-4a00-c34b-010283d11994"
      },
      "outputs": [
        {
          "output_type": "stream",
          "name": "stdout",
          "text": [
            "Mounted at /content/drive\n"
          ]
        }
      ],
      "source": [
        "from google.colab import drive\n",
        "drive.mount('/content/drive')"
      ]
    },
    {
      "cell_type": "code",
      "source": [
        "!unzip \"/content/drive/MyDrive/Colab Datasets/DelayedFlights.csv.zip\""
      ],
      "metadata": {
        "colab": {
          "base_uri": "https://localhost:8080/"
        },
        "id": "xjTWSmVHOs7k",
        "outputId": "d7349e8a-54c7-427c-d9bd-0b07b8de8c2b"
      },
      "execution_count": 3,
      "outputs": [
        {
          "output_type": "stream",
          "name": "stdout",
          "text": [
            "Archive:  /content/drive/MyDrive/Colab Datasets/DelayedFlights.csv.zip\n",
            "  inflating: DelayedFlights.csv      \n"
          ]
        }
      ]
    },
    {
      "cell_type": "markdown",
      "source": [
        "# Setting up Pyspark in python"
      ],
      "metadata": {
        "id": "AAPvua04PYTC"
      }
    },
    {
      "cell_type": "code",
      "source": [
        "!apt-get install openjdk-8-jdk-headless -qq > /dev/null"
      ],
      "metadata": {
        "id": "iqTHOT5rPX2L"
      },
      "execution_count": 4,
      "outputs": []
    },
    {
      "cell_type": "code",
      "source": [
        "!wget -q https://downloads.apache.org/spark/spark-3.0.3/spark-3.0.3-bin-hadoop2.7.tgz"
      ],
      "metadata": {
        "id": "24HshynIPdyT"
      },
      "execution_count": 5,
      "outputs": []
    },
    {
      "cell_type": "code",
      "source": [
        "!tar xf spark-3.0.3-bin-hadoop2.7.tgz"
      ],
      "metadata": {
        "id": "KaZ4T2ftPfx7"
      },
      "execution_count": 6,
      "outputs": []
    },
    {
      "cell_type": "code",
      "source": [
        "!pip install -q findspark"
      ],
      "metadata": {
        "id": "CJxYq_8sPiLr"
      },
      "execution_count": 7,
      "outputs": []
    },
    {
      "cell_type": "code",
      "source": [
        "import os\n",
        "os.environ[\"JAVA_HOME\"] = \"/usr/lib/jvm/java-8-openjdk-amd64\"\n",
        "os.environ[\"SPARK_HOME\"] = \"/content/spark-3.0.3-bin-hadoop2.7\"\n",
        "!export SPARK_HOME=/content/spark-3.0.3-bin-hadoop2.7\n",
        "! echo $SPARK_HOME"
      ],
      "metadata": {
        "colab": {
          "base_uri": "https://localhost:8080/"
        },
        "id": "O1QG9F1ePj9L",
        "outputId": "022e7344-2f3b-4676-9524-238e9b22bbdf"
      },
      "execution_count": 8,
      "outputs": [
        {
          "output_type": "stream",
          "name": "stdout",
          "text": [
            "/content/spark-3.0.3-bin-hadoop2.7\n"
          ]
        }
      ]
    },
    {
      "cell_type": "markdown",
      "source": [
        "# Initialize Spark"
      ],
      "metadata": {
        "id": "fVWfujTfPmeq"
      }
    },
    {
      "cell_type": "code",
      "source": [
        "import findspark\n",
        "findspark.init()"
      ],
      "metadata": {
        "id": "2QPHyUXrPoI7"
      },
      "execution_count": 9,
      "outputs": []
    },
    {
      "cell_type": "markdown",
      "source": [
        "# create a SparkSession, which is the entry point to Spark.\n",
        "\n"
      ],
      "metadata": {
        "id": "xUc3tUnJQzxb"
      }
    },
    {
      "cell_type": "code",
      "source": [
        "from pyspark.sql import SparkSession\n",
        "\n",
        "spark = SparkSession.builder\\\n",
        "        .master(\"local\")\\\n",
        "        .appName(\"Colab\")\\\n",
        "        .config('spark.ui.port', '4050')\\\n",
        "        .getOrCreate()"
      ],
      "metadata": {
        "id": "Tbrd7wvVQus6"
      },
      "execution_count": 10,
      "outputs": []
    },
    {
      "cell_type": "code",
      "source": [
        "spark"
      ],
      "metadata": {
        "colab": {
          "base_uri": "https://localhost:8080/",
          "height": 219
        },
        "id": "qj1zxngYQ20K",
        "outputId": "42d8d2ee-0b40-4d04-8c63-a1128ecc6412"
      },
      "execution_count": 11,
      "outputs": [
        {
          "output_type": "execute_result",
          "data": {
            "text/plain": [
              "<pyspark.sql.session.SparkSession at 0x7f08cc531cd0>"
            ],
            "text/html": [
              "\n",
              "            <div>\n",
              "                <p><b>SparkSession - in-memory</b></p>\n",
              "                \n",
              "        <div>\n",
              "            <p><b>SparkContext</b></p>\n",
              "\n",
              "            <p><a href=\"http://bca542a17d5a:4050\">Spark UI</a></p>\n",
              "\n",
              "            <dl>\n",
              "              <dt>Version</dt>\n",
              "                <dd><code>v3.0.3</code></dd>\n",
              "              <dt>Master</dt>\n",
              "                <dd><code>local</code></dd>\n",
              "              <dt>AppName</dt>\n",
              "                <dd><code>Colab</code></dd>\n",
              "            </dl>\n",
              "        </div>\n",
              "        \n",
              "            </div>\n",
              "        "
            ]
          },
          "metadata": {},
          "execution_count": 11
        }
      ]
    },
    {
      "cell_type": "markdown",
      "source": [
        "# View Spark UI"
      ],
      "metadata": {
        "id": "YLOpkWQQQ9-L"
      }
    },
    {
      "cell_type": "code",
      "source": [
        "!wget https://bin.equinox.io/c/4VmDzA7iaHb/ngrok-stable-linux-amd64.zip\n",
        "!unzip ngrok-stable-linux-amd64.zip\n",
        "get_ipython().system_raw('./ngrok http 4050 &')\n",
        "!ngrok config add-authtoken 2AyXjKIeBsO3IMCwnIGArgk0wPq_5JvTpU4uDDtEFwPh2EbAy\n",
        "!curl -s http://localhost:4040/api/tunnels"
      ],
      "metadata": {
        "colab": {
          "base_uri": "https://localhost:8080/"
        },
        "id": "pU-x5iEjQ_fy",
        "outputId": "f54e667b-2a39-4467-a9cb-19ce769f9b84"
      },
      "execution_count": 12,
      "outputs": [
        {
          "output_type": "stream",
          "name": "stdout",
          "text": [
            "--2022-06-26 09:18:17--  https://bin.equinox.io/c/4VmDzA7iaHb/ngrok-stable-linux-amd64.zip\n",
            "Resolving bin.equinox.io (bin.equinox.io)... 54.161.241.46, 52.202.168.65, 18.205.222.128, ...\n",
            "Connecting to bin.equinox.io (bin.equinox.io)|54.161.241.46|:443... connected.\n",
            "HTTP request sent, awaiting response... 200 OK\n",
            "Length: 13832437 (13M) [application/octet-stream]\n",
            "Saving to: ‘ngrok-stable-linux-amd64.zip’\n",
            "\n",
            "ngrok-stable-linux- 100%[===================>]  13.19M  38.2MB/s    in 0.3s    \n",
            "\n",
            "2022-06-26 09:18:17 (38.2 MB/s) - ‘ngrok-stable-linux-amd64.zip’ saved [13832437/13832437]\n",
            "\n",
            "Archive:  ngrok-stable-linux-amd64.zip\n",
            "  inflating: ngrok                   \n",
            "/bin/bash: ngrok: command not found\n",
            "{\"tunnels\":[{\"name\":\"command_line\",\"uri\":\"/api/tunnels/command_line\",\"public_url\":\"https://b8a4-104-197-125-38.ngrok.io\",\"proto\":\"https\",\"config\":{\"addr\":\"http://localhost:4050\",\"inspect\":true},\"metrics\":{\"conns\":{\"count\":0,\"gauge\":0,\"rate1\":0,\"rate5\":0,\"rate15\":0,\"p50\":0,\"p90\":0,\"p95\":0,\"p99\":0},\"http\":{\"count\":0,\"rate1\":0,\"rate5\":0,\"rate15\":0,\"p50\":0,\"p90\":0,\"p95\":0,\"p99\":0}}},{\"name\":\"command_line (http)\",\"uri\":\"/api/tunnels/command_line%20%28http%29\",\"public_url\":\"http://b8a4-104-197-125-38.ngrok.io\",\"proto\":\"http\",\"config\":{\"addr\":\"http://localhost:4050\",\"inspect\":true},\"metrics\":{\"conns\":{\"count\":0,\"gauge\":0,\"rate1\":0,\"rate5\":0,\"rate15\":0,\"p50\":0,\"p90\":0,\"p95\":0,\"p99\":0},\"http\":{\"count\":0,\"rate1\":0,\"rate5\":0,\"rate15\":0,\"p50\":0,\"p90\":0,\"p95\":0,\"p99\":0}}}],\"uri\":\"/api/tunnels\"}\n"
          ]
        }
      ]
    },
    {
      "cell_type": "code",
      "source": [
        "df = spark.read.csv(\"DelayedFlights.csv\", header=True, inferSchema=True) #Load the CSV using spark"
      ],
      "metadata": {
        "id": "XgHic_AiR_r7"
      },
      "execution_count": 13,
      "outputs": []
    },
    {
      "cell_type": "code",
      "source": [
        "df.printSchema() #Show column details"
      ],
      "metadata": {
        "id": "F6w5LQzaSRJU",
        "colab": {
          "base_uri": "https://localhost:8080/"
        },
        "outputId": "f5bbf72b-5777-474f-a391-bf7943c0781a"
      },
      "execution_count": 14,
      "outputs": [
        {
          "output_type": "stream",
          "name": "stdout",
          "text": [
            "root\n",
            " |-- _c0: integer (nullable = true)\n",
            " |-- Year: integer (nullable = true)\n",
            " |-- Month: integer (nullable = true)\n",
            " |-- DayofMonth: integer (nullable = true)\n",
            " |-- DayOfWeek: integer (nullable = true)\n",
            " |-- DepTime: double (nullable = true)\n",
            " |-- CRSDepTime: integer (nullable = true)\n",
            " |-- ArrTime: double (nullable = true)\n",
            " |-- CRSArrTime: integer (nullable = true)\n",
            " |-- UniqueCarrier: string (nullable = true)\n",
            " |-- FlightNum: integer (nullable = true)\n",
            " |-- TailNum: string (nullable = true)\n",
            " |-- ActualElapsedTime: double (nullable = true)\n",
            " |-- CRSElapsedTime: double (nullable = true)\n",
            " |-- AirTime: double (nullable = true)\n",
            " |-- ArrDelay: double (nullable = true)\n",
            " |-- DepDelay: double (nullable = true)\n",
            " |-- Origin: string (nullable = true)\n",
            " |-- Dest: string (nullable = true)\n",
            " |-- Distance: integer (nullable = true)\n",
            " |-- TaxiIn: double (nullable = true)\n",
            " |-- TaxiOut: double (nullable = true)\n",
            " |-- Cancelled: integer (nullable = true)\n",
            " |-- CancellationCode: string (nullable = true)\n",
            " |-- Diverted: integer (nullable = true)\n",
            " |-- CarrierDelay: double (nullable = true)\n",
            " |-- WeatherDelay: double (nullable = true)\n",
            " |-- NASDelay: double (nullable = true)\n",
            " |-- SecurityDelay: double (nullable = true)\n",
            " |-- LateAircraftDelay: double (nullable = true)\n",
            "\n"
          ]
        }
      ]
    },
    {
      "cell_type": "code",
      "source": [
        "df.show(5) # Show only 5 rows in DF"
      ],
      "metadata": {
        "id": "vE1t5L1QST3C",
        "colab": {
          "base_uri": "https://localhost:8080/"
        },
        "outputId": "d92f5598-419d-4ec3-96ff-fcd77c811891"
      },
      "execution_count": 15,
      "outputs": [
        {
          "output_type": "stream",
          "name": "stdout",
          "text": [
            "+---+----+-----+----------+---------+-------+----------+-------+----------+-------------+---------+-------+-----------------+--------------+-------+--------+--------+------+----+--------+------+-------+---------+----------------+--------+------------+------------+--------+-------------+-----------------+\n",
            "|_c0|Year|Month|DayofMonth|DayOfWeek|DepTime|CRSDepTime|ArrTime|CRSArrTime|UniqueCarrier|FlightNum|TailNum|ActualElapsedTime|CRSElapsedTime|AirTime|ArrDelay|DepDelay|Origin|Dest|Distance|TaxiIn|TaxiOut|Cancelled|CancellationCode|Diverted|CarrierDelay|WeatherDelay|NASDelay|SecurityDelay|LateAircraftDelay|\n",
            "+---+----+-----+----------+---------+-------+----------+-------+----------+-------------+---------+-------+-----------------+--------------+-------+--------+--------+------+----+--------+------+-------+---------+----------------+--------+------------+------------+--------+-------------+-----------------+\n",
            "|  0|2008|    1|         3|        4| 2003.0|      1955| 2211.0|      2225|           WN|      335| N712SW|            128.0|         150.0|  116.0|   -14.0|     8.0|   IAD| TPA|     810|   4.0|    8.0|        0|               N|       0|        null|        null|    null|         null|             null|\n",
            "|  1|2008|    1|         3|        4|  754.0|       735| 1002.0|      1000|           WN|     3231| N772SW|            128.0|         145.0|  113.0|     2.0|    19.0|   IAD| TPA|     810|   5.0|   10.0|        0|               N|       0|        null|        null|    null|         null|             null|\n",
            "|  2|2008|    1|         3|        4|  628.0|       620|  804.0|       750|           WN|      448| N428WN|             96.0|          90.0|   76.0|    14.0|     8.0|   IND| BWI|     515|   3.0|   17.0|        0|               N|       0|        null|        null|    null|         null|             null|\n",
            "|  4|2008|    1|         3|        4| 1829.0|      1755| 1959.0|      1925|           WN|     3920| N464WN|             90.0|          90.0|   77.0|    34.0|    34.0|   IND| BWI|     515|   3.0|   10.0|        0|               N|       0|         2.0|         0.0|     0.0|          0.0|             32.0|\n",
            "|  5|2008|    1|         3|        4| 1940.0|      1915| 2121.0|      2110|           WN|      378| N726SW|            101.0|         115.0|   87.0|    11.0|    25.0|   IND| JAX|     688|   4.0|   10.0|        0|               N|       0|        null|        null|    null|         null|             null|\n",
            "+---+----+-----+----------+---------+-------+----------+-------+----------+-------------+---------+-------+-----------------+--------------+-------+--------+--------+------+----+--------+------+-------+---------+----------------+--------+------------+------------+--------+-------------+-----------------+\n",
            "only showing top 5 rows\n",
            "\n"
          ]
        }
      ]
    },
    {
      "cell_type": "code",
      "source": [
        "df.count() #Number of rows in DF"
      ],
      "metadata": {
        "id": "RWdyJanuSZ0z",
        "colab": {
          "base_uri": "https://localhost:8080/"
        },
        "outputId": "d61874a8-3d8f-4c83-c0cc-189998a9df01"
      },
      "execution_count": 16,
      "outputs": [
        {
          "output_type": "execute_result",
          "data": {
            "text/plain": [
              "1936758"
            ]
          },
          "metadata": {},
          "execution_count": 16
        }
      ]
    },
    {
      "cell_type": "code",
      "source": [
        "df.select(\"Year\",\"Month\",\"DayOfMonth\",\"FlightNum\").show(5) #Display specific columns"
      ],
      "metadata": {
        "id": "WMNe3zH-So1a",
        "colab": {
          "base_uri": "https://localhost:8080/"
        },
        "outputId": "94f6d70a-308a-45b7-a972-3fc8ea819f99"
      },
      "execution_count": 17,
      "outputs": [
        {
          "output_type": "stream",
          "name": "stdout",
          "text": [
            "+----+-----+----------+---------+\n",
            "|Year|Month|DayOfMonth|FlightNum|\n",
            "+----+-----+----------+---------+\n",
            "|2008|    1|         3|      335|\n",
            "|2008|    1|         3|     3231|\n",
            "|2008|    1|         3|      448|\n",
            "|2008|    1|         3|     3920|\n",
            "|2008|    1|         3|      378|\n",
            "+----+-----+----------+---------+\n",
            "only showing top 5 rows\n",
            "\n"
          ]
        }
      ]
    },
    {
      "cell_type": "code",
      "source": [
        "df.describe().show() # Describing the columns"
      ],
      "metadata": {
        "id": "dgegpf_JTZ6D",
        "colab": {
          "base_uri": "https://localhost:8080/"
        },
        "outputId": "47a8076e-e1be-4980-daab-6cea0b4fa923"
      },
      "execution_count": 18,
      "outputs": [
        {
          "output_type": "stream",
          "name": "stdout",
          "text": [
            "+-------+------------------+-------+------------------+------------------+------------------+------------------+------------------+-----------------+-----------------+-------------+------------------+-------+------------------+-----------------+------------------+-----------------+------------------+-------+-------+-----------------+-----------------+------------------+--------------------+----------------+--------------------+------------------+------------------+------------------+-------------------+------------------+\n",
            "|summary|               _c0|   Year|             Month|        DayofMonth|         DayOfWeek|           DepTime|        CRSDepTime|          ArrTime|       CRSArrTime|UniqueCarrier|         FlightNum|TailNum| ActualElapsedTime|   CRSElapsedTime|           AirTime|         ArrDelay|          DepDelay| Origin|   Dest|         Distance|           TaxiIn|           TaxiOut|           Cancelled|CancellationCode|            Diverted|      CarrierDelay|      WeatherDelay|          NASDelay|      SecurityDelay| LateAircraftDelay|\n",
            "+-------+------------------+-------+------------------+------------------+------------------+------------------+------------------+-----------------+-----------------+-------------+------------------+-------+------------------+-----------------+------------------+-----------------+------------------+-------+-------+-----------------+-----------------+------------------+--------------------+----------------+--------------------+------------------+------------------+------------------+-------------------+------------------+\n",
            "|  count|           1936758|1936758|           1936758|           1936758|           1936758|           1936758|           1936758|          1929648|          1936758|      1936758|           1936758|1936753|           1928371|          1936560|           1928371|          1928371|           1936758|1936758|1936758|          1936758|          1929648|           1936303|             1936758|         1936758|             1936758|           1247488|           1247488|           1247488|            1247488|           1247488|\n",
            "|   mean|3341651.1513358923| 2008.0|  6.11110629206127|15.753470490376186|3.9848272215733718|1518.5341168075722|1467.4726439751378|1610.140628757162|1634.224640868916|         null|2184.2632362948802|   null|133.30586334268665|134.3027440409799|108.27714739539228|42.19988477321014|43.185176464999756|   null|   null|765.6861590348407|6.812975216205236|18.232202811233574|3.268348446217854...|            null|0.004003597764924684|19.179398920069772|3.7035706956700185|15.021635478657911|0.09013713959573158|25.296466178432176|\n",
            "| stddev|2066064.9575203708|    0.0|3.4825463936658796| 8.776272060384269|1.9959662750518288| 450.4852547937541| 424.7667995772775|548.1781425365665|464.6347119906777|         null|1944.7022503716541|   null| 72.06006897518112|71.34143888170317| 68.64261013867606|56.78471513732194| 53.40250234365989|   null|   null|574.4796530720926|5.273595064525683|14.338534198201899|0.018075624257674595|            null| 0.06314721711010828|43.546207245474356| 21.49290048410928|33.833052163653946|   2.02271404750559|  42.0548615209541|\n",
            "|    min|                 0|   2008|                 1|                 1|                 1|               1.0|                 0|              1.0|                0|           9E|                 1| 80009E|              14.0|            -25.0|               0.0|           -109.0|               6.0|    ABE|    ABE|               11|              0.0|               0.0|                   0|               A|                   0|               0.0|               0.0|               0.0|                0.0|               0.0|\n",
            "|    max|           7009727|   2008|                12|                31|                 7|            2400.0|              2359|           2400.0|             2400|           YV|              9742| Unknow|            1114.0|            660.0|            1091.0|           2461.0|            2467.0|    YUM|    YUM|             4962|            240.0|             422.0|                   1|               N|                   1|            2436.0|            1352.0|            1357.0|              392.0|            1316.0|\n",
            "+-------+------------------+-------+------------------+------------------+------------------+------------------+------------------+-----------------+-----------------+-------------+------------------+-------+------------------+-----------------+------------------+-----------------+------------------+-------+-------+-----------------+-----------------+------------------+--------------------+----------------+--------------------+------------------+------------------+------------------+-------------------+------------------+\n",
            "\n"
          ]
        }
      ]
    },
    {
      "cell_type": "markdown",
      "source": [
        "# Distinct values for Categorical columns"
      ],
      "metadata": {
        "id": "5O0EGI1mVhwR"
      }
    },
    {
      "cell_type": "code",
      "source": [
        "df.select(\"AirTime\").distinct().show()"
      ],
      "metadata": {
        "id": "arlu2VDsUphq",
        "colab": {
          "base_uri": "https://localhost:8080/"
        },
        "outputId": "9cbaa0aa-492d-4822-c0f7-d696f23e6910"
      },
      "execution_count": 19,
      "outputs": [
        {
          "output_type": "stream",
          "name": "stdout",
          "text": [
            "+-------+\n",
            "|AirTime|\n",
            "+-------+\n",
            "|  305.0|\n",
            "|  299.0|\n",
            "|  496.0|\n",
            "|  596.0|\n",
            "|  558.0|\n",
            "|  147.0|\n",
            "|  170.0|\n",
            "|  184.0|\n",
            "|  576.0|\n",
            "|  169.0|\n",
            "|  160.0|\n",
            "|  608.0|\n",
            "|   70.0|\n",
            "|   67.0|\n",
            "|  311.0|\n",
            "|  379.0|\n",
            "|  486.0|\n",
            "|    8.0|\n",
            "|  571.0|\n",
            "|  168.0|\n",
            "+-------+\n",
            "only showing top 20 rows\n",
            "\n"
          ]
        }
      ]
    },
    {
      "cell_type": "markdown",
      "source": [
        "# Aggregate with Groupby"
      ],
      "metadata": {
        "id": "eBZQJcs_Va5S"
      }
    },
    {
      "cell_type": "code",
      "source": [
        "from pyspark.sql import functions as F\n",
        "df.groupBy(\"Year\").agg(F.sum(\"FlightNum\")).show()"
      ],
      "metadata": {
        "id": "O6ntCcr-U5Ey",
        "colab": {
          "base_uri": "https://localhost:8080/"
        },
        "outputId": "ca089ce0-525c-4606-d59f-8070f661973d"
      },
      "execution_count": 20,
      "outputs": [
        {
          "output_type": "stream",
          "name": "stdout",
          "text": [
            "+----+--------------+\n",
            "|Year|sum(FlightNum)|\n",
            "+----+--------------+\n",
            "|2008|    4230389297|\n",
            "+----+--------------+\n",
            "\n"
          ]
        }
      ]
    },
    {
      "cell_type": "code",
      "source": [
        "from pyspark.sql import functions as F\n",
        "df.groupBy(\"Month\").agg(F.sum(\"FlightNum\")).show()"
      ],
      "metadata": {
        "id": "r62euck1VD6p",
        "colab": {
          "base_uri": "https://localhost:8080/"
        },
        "outputId": "bed7ca00-ee89-4b13-c95f-be54dff72d0a"
      },
      "execution_count": 21,
      "outputs": [
        {
          "output_type": "stream",
          "name": "stdout",
          "text": [
            "+-----+--------------+\n",
            "|Month|sum(FlightNum)|\n",
            "+-----+--------------+\n",
            "|   12|     462827129|\n",
            "|    1|     420956179|\n",
            "|    6|     436885627|\n",
            "|    3|     425587779|\n",
            "|    5|     323301264|\n",
            "|    9|     209158942|\n",
            "|    4|     331227729|\n",
            "|    8|     338770016|\n",
            "|    7|     398696159|\n",
            "|   10|     216036590|\n",
            "|   11|     239755667|\n",
            "|    2|     427186216|\n",
            "+-----+--------------+\n",
            "\n"
          ]
        }
      ]
    },
    {
      "cell_type": "markdown",
      "source": [
        "# Counting and Removing Null values"
      ],
      "metadata": {
        "id": "6nJsCkICVXiS"
      }
    },
    {
      "cell_type": "code",
      "source": [
        "df.select([F.count(F.when(F.isnull(c), c)).alias(c) for c in df.columns]).show()"
      ],
      "metadata": {
        "id": "eFKdWqN9VO56",
        "colab": {
          "base_uri": "https://localhost:8080/"
        },
        "outputId": "3519c0d0-a99b-4ef8-ff1b-e68828d217ab"
      },
      "execution_count": 22,
      "outputs": [
        {
          "output_type": "stream",
          "name": "stdout",
          "text": [
            "+---+----+-----+----------+---------+-------+----------+-------+----------+-------------+---------+-------+-----------------+--------------+-------+--------+--------+------+----+--------+------+-------+---------+----------------+--------+------------+------------+--------+-------------+-----------------+\n",
            "|_c0|Year|Month|DayofMonth|DayOfWeek|DepTime|CRSDepTime|ArrTime|CRSArrTime|UniqueCarrier|FlightNum|TailNum|ActualElapsedTime|CRSElapsedTime|AirTime|ArrDelay|DepDelay|Origin|Dest|Distance|TaxiIn|TaxiOut|Cancelled|CancellationCode|Diverted|CarrierDelay|WeatherDelay|NASDelay|SecurityDelay|LateAircraftDelay|\n",
            "+---+----+-----+----------+---------+-------+----------+-------+----------+-------------+---------+-------+-----------------+--------------+-------+--------+--------+------+----+--------+------+-------+---------+----------------+--------+------------+------------+--------+-------------+-----------------+\n",
            "|  0|   0|    0|         0|        0|      0|         0|   7110|         0|            0|        0|      5|             8387|           198|   8387|    8387|       0|     0|   0|       0|  7110|    455|        0|               0|       0|      689270|      689270|  689270|       689270|           689270|\n",
            "+---+----+-----+----------+---------+-------+----------+-------+----------+-------------+---------+-------+-----------------+--------------+-------+--------+--------+------+----+--------+------+-------+---------+----------------+--------+------------+------------+--------+-------------+-----------------+\n",
            "\n"
          ]
        }
      ]
    },
    {
      "cell_type": "code",
      "source": [
        "df = df.fillna({'ActualElapsedTime':0, 'CRSElapsedTime':0})"
      ],
      "metadata": {
        "id": "1zBZf96gVtOi"
      },
      "execution_count": 23,
      "outputs": []
    },
    {
      "cell_type": "code",
      "source": [
        "df.select([F.count(F.when(F.isnull(c), c)).alias(c) for c in df.columns]).show()"
      ],
      "metadata": {
        "id": "vGnQpRO1VzGq",
        "colab": {
          "base_uri": "https://localhost:8080/"
        },
        "outputId": "9a04f689-b7b6-4b72-9fd9-ab02a06ec604"
      },
      "execution_count": 24,
      "outputs": [
        {
          "output_type": "stream",
          "name": "stdout",
          "text": [
            "+---+----+-----+----------+---------+-------+----------+-------+----------+-------------+---------+-------+-----------------+--------------+-------+--------+--------+------+----+--------+------+-------+---------+----------------+--------+------------+------------+--------+-------------+-----------------+\n",
            "|_c0|Year|Month|DayofMonth|DayOfWeek|DepTime|CRSDepTime|ArrTime|CRSArrTime|UniqueCarrier|FlightNum|TailNum|ActualElapsedTime|CRSElapsedTime|AirTime|ArrDelay|DepDelay|Origin|Dest|Distance|TaxiIn|TaxiOut|Cancelled|CancellationCode|Diverted|CarrierDelay|WeatherDelay|NASDelay|SecurityDelay|LateAircraftDelay|\n",
            "+---+----+-----+----------+---------+-------+----------+-------+----------+-------------+---------+-------+-----------------+--------------+-------+--------+--------+------+----+--------+------+-------+---------+----------------+--------+------------+------------+--------+-------------+-----------------+\n",
            "|  0|   0|    0|         0|        0|      0|         0|   7110|         0|            0|        0|      5|                0|             0|   8387|    8387|       0|     0|   0|       0|  7110|    455|        0|               0|       0|      689270|      689270|  689270|       689270|           689270|\n",
            "+---+----+-----+----------+---------+-------+----------+-------+----------+-------------+---------+-------+-----------------+--------------+-------+--------+--------+------+----+--------+------+-------+---------+----------------+--------+------------+------------+--------+-------------+-----------------+\n",
            "\n"
          ]
        }
      ]
    },
    {
      "cell_type": "code",
      "source": [
        "df.write.csv(\"/content/drive/My Drive/PySpark on Colab/preprocessed_data\")"
      ],
      "metadata": {
        "id": "x7IPjU8mV2r6"
      },
      "execution_count": 27,
      "outputs": []
    },
    {
      "cell_type": "code",
      "source": [
        "df.rdd.getNumPartitions()"
      ],
      "metadata": {
        "id": "vojxuaTlV_7h",
        "colab": {
          "base_uri": "https://localhost:8080/"
        },
        "outputId": "65158c77-a235-4429-c537-da220863242b"
      },
      "execution_count": 28,
      "outputs": [
        {
          "output_type": "execute_result",
          "data": {
            "text/plain": [
              "2"
            ]
          },
          "metadata": {},
          "execution_count": 28
        }
      ]
    },
    {
      "cell_type": "code",
      "source": [
        "# A JSON dataset is pointed to by path.\n",
        "# The path can be either a single text file or a directory storing text files\n",
        "path = \"/content/drive/MyDrive/Colab Datasets/people.json\"\n",
        "peopleDF = spark.read.json(path)\n",
        "peopleDF.count()"
      ],
      "metadata": {
        "colab": {
          "base_uri": "https://localhost:8080/"
        },
        "id": "f3ngG1PDRTNK",
        "outputId": "4b9ad0a7-27c1-44b4-d26b-2dd7d7d3861f"
      },
      "execution_count": 67,
      "outputs": [
        {
          "output_type": "execute_result",
          "data": {
            "text/plain": [
              "88"
            ]
          },
          "metadata": {},
          "execution_count": 67
        }
      ]
    },
    {
      "cell_type": "code",
      "source": [
        "peopleDF.printSchema()"
      ],
      "metadata": {
        "colab": {
          "base_uri": "https://localhost:8080/"
        },
        "id": "Q-N4wwe7XMB9",
        "outputId": "7d8603ac-44ae-42cc-c99f-779867341674"
      },
      "execution_count": 68,
      "outputs": [
        {
          "output_type": "stream",
          "name": "stdout",
          "text": [
            "root\n",
            " |-- _corrupt_record: string (nullable = true)\n",
            " |-- country: string (nullable = true)\n",
            " |-- email: string (nullable = true)\n",
            " |-- first_name: string (nullable = true)\n",
            " |-- id: long (nullable = true)\n",
            " |-- last_name: string (nullable = true)\n",
            " |-- modified: string (nullable = true)\n",
            " |-- vip: boolean (nullable = true)\n",
            "\n"
          ]
        }
      ]
    },
    {
      "cell_type": "code",
      "source": [
        "# The inferred schema can be visualized using the printSchema() method\n",
        "peopleDF.printSchema()\n",
        "# root\n",
        "#  |-- age: long (nullable = true)\n",
        "#  |-- name: string (nullable = true)\n",
        "\n",
        "# Creates a temporary view using the DataFrame\n",
        "peopleDF.createOrReplaceTempView(\"people\")\n",
        "peopleDF.show()"
      ],
      "metadata": {
        "colab": {
          "base_uri": "https://localhost:8080/"
        },
        "id": "6JtRyZTdUy1b",
        "outputId": "ae6f2b38-c299-48fe-ba80-b0ae4bc47da0"
      },
      "execution_count": 69,
      "outputs": [
        {
          "output_type": "stream",
          "name": "stdout",
          "text": [
            "root\n",
            " |-- _corrupt_record: string (nullable = true)\n",
            " |-- country: string (nullable = true)\n",
            " |-- email: string (nullable = true)\n",
            " |-- first_name: string (nullable = true)\n",
            " |-- id: long (nullable = true)\n",
            " |-- last_name: string (nullable = true)\n",
            " |-- modified: string (nullable = true)\n",
            " |-- vip: boolean (nullable = true)\n",
            "\n",
            "+--------------------+-----------+--------------------+----------+----+----------+----------+-----+\n",
            "|     _corrupt_record|    country|               email|first_name|  id| last_name|  modified|  vip|\n",
            "+--------------------+-----------+--------------------+----------+----+----------+----------+-----+\n",
            "|[{\"id\":1,\"first_n...|       null|                null|      null|null|      null|      null| null|\n",
            "|                null|      China|awilliamson1@naro...|    Albert|   2|Williamson|2015-03-11| true|\n",
            "|                null|       Peru|    mfuller2@npr.org|   Mildred|   3|    Fuller|2015-02-15| true|\n",
            "|                null|    Belarus|rrobinson3@google.pl|   Russell|   4|  Robinson|2014-10-31|false|\n",
            "|                null|Philippines| lharper4@boston.com|     Laura|   5|    Harper|2015-01-14|false|\n",
            "|                null|      China|lsanders5@cornell...|     Larry|   6|   Sanders|2015-01-11|false|\n",
            "|                null|Philippines| mrice6@geocities.jp|   Michael|   7|      Rice|2014-12-06| true|\n",
            "|                null|  Indonesia|sharris7@deliciou...|      Sara|   8|    Harris|2014-11-05| true|\n",
            "|                null|      China|   pwebb8@reddit.com|   Phyllis|   9|      Webb|2015-04-02| true|\n",
            "|                null|    Finland|ralvarez9@nsw.gov.au|     Roger|  10|   Alvarez|2015-03-21| true|\n",
            "|                null|     Sweden|mcarpentera@so-ne...|     Maria|  11| Carpenter|2015-08-18| true|\n",
            "|                null|     Russia|ledwardsb@storify...|      Lori|  12|   Edwards|2015-02-05| true|\n",
            "|                null|     Russia|pmitchellc@ebay.c...|   Phillip|  13|  Mitchell|2015-03-28|false|\n",
            "|                null|  Indonesia|   clopezd@hexun.com|     Craig|  14|     Lopez|2015-01-20| true|\n",
            "|                null|  Mauritius|mgeorgee@squaresp...|     Marie|  15|    George|2014-10-26| true|\n",
            "|                null|     Norway|    jduncanf@pbs.org|      Jean|  16|    Duncan|2014-11-19| true|\n",
            "|                null|     Sweden|    kbutlerg@wix.com|  Kimberly|  17|    Butler|2014-12-29|false|\n",
            "|                null|  Indonesia|hramirezh@instagr...|   Heather|  18|   Ramirez|2015-07-13|false|\n",
            "|                null|     Canada|jsandersi@earthli...|     Jason|  19|   Sanders|2015-02-25|false|\n",
            "|                null|Philippines|   jevansj@google.de|      Juan|  20|     Evans|2015-07-09| true|\n",
            "+--------------------+-----------+--------------------+----------+----+----------+----------+-----+\n",
            "only showing top 20 rows\n",
            "\n"
          ]
        }
      ]
    },
    {
      "cell_type": "code",
      "source": [
        "# SQL statements can be run by using the sql methods provided by spark\n",
        "teenagerNamesDF = spark.sql('SELECT id,email,first_name FROM people WHERE id BETWEEN 10 AND 25')\n",
        "teenagerNamesDF.show()"
      ],
      "metadata": {
        "colab": {
          "base_uri": "https://localhost:8080/"
        },
        "id": "gWF8OIAVVzDx",
        "outputId": "bb841759-fe7a-44b0-84e7-7359aa9be7cd"
      },
      "execution_count": 74,
      "outputs": [
        {
          "output_type": "stream",
          "name": "stdout",
          "text": [
            "+---+--------------------+----------+\n",
            "| id|               email|first_name|\n",
            "+---+--------------------+----------+\n",
            "| 10|ralvarez9@nsw.gov.au|     Roger|\n",
            "| 11|mcarpentera@so-ne...|     Maria|\n",
            "| 12|ledwardsb@storify...|      Lori|\n",
            "| 13|pmitchellc@ebay.c...|   Phillip|\n",
            "| 14|   clopezd@hexun.com|     Craig|\n",
            "| 15|mgeorgee@squaresp...|     Marie|\n",
            "| 16|    jduncanf@pbs.org|      Jean|\n",
            "| 17|    kbutlerg@wix.com|  Kimberly|\n",
            "| 18|hramirezh@instagr...|   Heather|\n",
            "| 19|jsandersi@earthli...|     Jason|\n",
            "| 20|   jevansj@google.de|      Juan|\n",
            "| 21|btuckerk@business...|     Billy|\n",
            "| 22|fduncanl@smugmug.com|      Fred|\n",
            "| 23|dpetersonm@delici...|    Daniel|\n",
            "| 24|kgilbertn@guardia...|     Kelly|\n",
            "| 25|   aharto@oakley.com|     Aaron|\n",
            "+---+--------------------+----------+\n",
            "\n"
          ]
        }
      ]
    }
  ]
}