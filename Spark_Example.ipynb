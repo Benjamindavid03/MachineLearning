{
  "nbformat": 4,
  "nbformat_minor": 0,
  "metadata": {
    "colab": {
      "name": "Spark Example.ipynb",
      "provenance": [],
      "collapsed_sections": [],
      "authorship_tag": "ABX9TyMIZcy5FrS/S023r4DdOWg1",
      "include_colab_link": true
    },
    "kernelspec": {
      "name": "python3",
      "display_name": "Python 3"
    },
    "language_info": {
      "name": "python"
    }
  },
  "cells": [
    {
      "cell_type": "markdown",
      "metadata": {
        "id": "view-in-github",
        "colab_type": "text"
      },
      "source": [
        "<a href=\"https://colab.research.google.com/github/Benjamindavid03/MachineLearningLab/blob/main/Spark_Example.ipynb\" target=\"_parent\"><img src=\"https://colab.research.google.com/assets/colab-badge.svg\" alt=\"Open In Colab\"/></a>"
      ]
    },
    {
      "cell_type": "markdown",
      "source": [
        "# Prepare and Import the Data"
      ],
      "metadata": {
        "id": "u8fXkFgnTCFN"
      }
    },
    {
      "cell_type": "code",
      "execution_count": 1,
      "metadata": {
        "colab": {
          "base_uri": "https://localhost:8080/"
        },
        "id": "X4nt00sqOmWD",
        "outputId": "c0ebaf6b-4521-4028-a559-958f97d697d2"
      },
      "outputs": [
        {
          "output_type": "stream",
          "name": "stdout",
          "text": [
            "Mounted at /content/drive\n"
          ]
        }
      ],
      "source": [
        "from google.colab import drive\n",
        "drive.mount('/content/drive')"
      ]
    },
    {
      "cell_type": "code",
      "source": [
        "!unzip \"/content/drive/MyDrive/Colab Datasets/DelayedFlights.csv.zip\""
      ],
      "metadata": {
        "colab": {
          "base_uri": "https://localhost:8080/"
        },
        "id": "xjTWSmVHOs7k",
        "outputId": "6ec8cb28-539e-4dc3-f0ae-b9e33fbeae26"
      },
      "execution_count": 2,
      "outputs": [
        {
          "output_type": "stream",
          "name": "stdout",
          "text": [
            "Archive:  /content/drive/MyDrive/Colab Datasets/DelayedFlights.csv.zip\n",
            "  inflating: DelayedFlights.csv      \n"
          ]
        }
      ]
    },
    {
      "cell_type": "markdown",
      "source": [
        "# Setting up Pyspark in python"
      ],
      "metadata": {
        "id": "AAPvua04PYTC"
      }
    },
    {
      "cell_type": "code",
      "source": [
        "!apt-get install openjdk-8-jdk-headless -qq > /dev/null"
      ],
      "metadata": {
        "id": "iqTHOT5rPX2L"
      },
      "execution_count": 11,
      "outputs": []
    },
    {
      "cell_type": "code",
      "source": [
        "!wget -q https://downloads.apache.org/spark/spark-3.0.3/spark-3.0.3-bin-hadoop2.7.tgz"
      ],
      "metadata": {
        "id": "24HshynIPdyT"
      },
      "execution_count": 18,
      "outputs": []
    },
    {
      "cell_type": "code",
      "source": [
        "!tar xf spark-3.0.3-bin-hadoop2.7.tgz"
      ],
      "metadata": {
        "id": "KaZ4T2ftPfx7"
      },
      "execution_count": 19,
      "outputs": []
    },
    {
      "cell_type": "code",
      "source": [
        "!pip install -q findspark"
      ],
      "metadata": {
        "id": "CJxYq_8sPiLr"
      },
      "execution_count": 20,
      "outputs": []
    },
    {
      "cell_type": "code",
      "source": [
        "import os\n",
        "os.environ[\"JAVA_HOME\"] = \"/usr/lib/jvm/java-8-openjdk-amd64\"\n",
        "os.environ[\"SPARK_HOME\"] = \"/content/spark-3.0.3-bin-hadoop2.7\"\n",
        "!export SPARK_HOME=/content/spark-3.0.3-bin-hadoop2.7\n",
        "! echo $SPARK_HOME"
      ],
      "metadata": {
        "colab": {
          "base_uri": "https://localhost:8080/"
        },
        "id": "O1QG9F1ePj9L",
        "outputId": "c168388f-7879-4538-ad75-2400894781c2"
      },
      "execution_count": 24,
      "outputs": [
        {
          "output_type": "stream",
          "name": "stdout",
          "text": [
            "/content/spark-3.0.3-bin-hadoop2.7\n"
          ]
        }
      ]
    },
    {
      "cell_type": "markdown",
      "source": [
        "# Initialize Spark"
      ],
      "metadata": {
        "id": "fVWfujTfPmeq"
      }
    },
    {
      "cell_type": "code",
      "source": [
        "import findspark\n",
        "findspark.init()"
      ],
      "metadata": {
        "id": "2QPHyUXrPoI7"
      },
      "execution_count": 25,
      "outputs": []
    },
    {
      "cell_type": "markdown",
      "source": [
        "# create a SparkSession, which is the entry point to Spark.\n",
        "\n"
      ],
      "metadata": {
        "id": "xUc3tUnJQzxb"
      }
    },
    {
      "cell_type": "code",
      "source": [
        "from pyspark.sql import SparkSession\n",
        "\n",
        "spark = SparkSession.builder\\\n",
        "        .master(\"local\")\\\n",
        "        .appName(\"Colab\")\\\n",
        "        .config('spark.ui.port', '4050')\\\n",
        "        .getOrCreate()"
      ],
      "metadata": {
        "id": "Tbrd7wvVQus6"
      },
      "execution_count": 26,
      "outputs": []
    },
    {
      "cell_type": "code",
      "source": [
        "spark"
      ],
      "metadata": {
        "colab": {
          "base_uri": "https://localhost:8080/",
          "height": 222
        },
        "id": "qj1zxngYQ20K",
        "outputId": "bb06f083-8c1b-4a7c-8cfb-e507eb326c3e"
      },
      "execution_count": 27,
      "outputs": [
        {
          "output_type": "execute_result",
          "data": {
            "text/plain": [
              "<pyspark.sql.session.SparkSession at 0x7f1e8af64090>"
            ],
            "text/html": [
              "\n",
              "            <div>\n",
              "                <p><b>SparkSession - in-memory</b></p>\n",
              "                \n",
              "        <div>\n",
              "            <p><b>SparkContext</b></p>\n",
              "\n",
              "            <p><a href=\"http://47d3fe1b4afc:4050\">Spark UI</a></p>\n",
              "\n",
              "            <dl>\n",
              "              <dt>Version</dt>\n",
              "                <dd><code>v3.0.3</code></dd>\n",
              "              <dt>Master</dt>\n",
              "                <dd><code>local</code></dd>\n",
              "              <dt>AppName</dt>\n",
              "                <dd><code>Colab</code></dd>\n",
              "            </dl>\n",
              "        </div>\n",
              "        \n",
              "            </div>\n",
              "        "
            ]
          },
          "metadata": {},
          "execution_count": 27
        }
      ]
    },
    {
      "cell_type": "markdown",
      "source": [
        "# View Spark UI"
      ],
      "metadata": {
        "id": "YLOpkWQQQ9-L"
      }
    },
    {
      "cell_type": "code",
      "source": [
        "!wget https://bin.equinox.io/c/4VmDzA7iaHb/ngrok-stable-linux-amd64.zip\n",
        "!unzip ngrok-stable-linux-amd64.zip\n",
        "get_ipython().system_raw('./ngrok http 4050 &')\n",
        "!ngrok config add-authtoken 2AyXjKIeBsO3IMCwnIGArgk0wPq_5JvTpU4uDDtEFwPh2EbAy\n",
        "!curl -s http://localhost:4040/api/tunnels"
      ],
      "metadata": {
        "colab": {
          "base_uri": "https://localhost:8080/"
        },
        "id": "pU-x5iEjQ_fy",
        "outputId": "842fea9b-99cf-4965-cd07-3081412f292c"
      },
      "execution_count": 30,
      "outputs": [
        {
          "output_type": "stream",
          "name": "stdout",
          "text": [
            "--2022-06-23 11:16:18--  https://bin.equinox.io/c/4VmDzA7iaHb/ngrok-stable-linux-amd64.zip\n",
            "Resolving bin.equinox.io (bin.equinox.io)... 54.161.241.46, 52.202.168.65, 54.237.133.81, ...\n",
            "Connecting to bin.equinox.io (bin.equinox.io)|54.161.241.46|:443... connected.\n",
            "HTTP request sent, awaiting response... 200 OK\n",
            "Length: 13832437 (13M) [application/octet-stream]\n",
            "Saving to: ‘ngrok-stable-linux-amd64.zip.2’\n",
            "\n",
            "ngrok-stable-linux- 100%[===================>]  13.19M  19.2MB/s    in 0.7s    \n",
            "\n",
            "2022-06-23 11:16:19 (19.2 MB/s) - ‘ngrok-stable-linux-amd64.zip.2’ saved [13832437/13832437]\n",
            "\n",
            "Archive:  ngrok-stable-linux-amd64.zip\n",
            "replace ngrok? [y]es, [n]o, [A]ll, [N]one, [r]ename: A\n",
            "  inflating: ngrok                   \n",
            "/bin/bash: ngrok: command not found\n",
            "{\"tunnels\":[{\"name\":\"command_line\",\"uri\":\"/api/tunnels/command_line\",\"public_url\":\"https://aa3c-34-125-199-62.ngrok.io\",\"proto\":\"https\",\"config\":{\"addr\":\"http://localhost:4050\",\"inspect\":true},\"metrics\":{\"conns\":{\"count\":0,\"gauge\":0,\"rate1\":0,\"rate5\":0,\"rate15\":0,\"p50\":0,\"p90\":0,\"p95\":0,\"p99\":0},\"http\":{\"count\":0,\"rate1\":0,\"rate5\":0,\"rate15\":0,\"p50\":0,\"p90\":0,\"p95\":0,\"p99\":0}}},{\"name\":\"command_line (http)\",\"uri\":\"/api/tunnels/command_line%20%28http%29\",\"public_url\":\"http://aa3c-34-125-199-62.ngrok.io\",\"proto\":\"http\",\"config\":{\"addr\":\"http://localhost:4050\",\"inspect\":true},\"metrics\":{\"conns\":{\"count\":2,\"gauge\":0,\"rate1\":0.020595341160681846,\"rate5\":0.005957556479904579,\"rate15\":0.002138461920106077,\"p50\":32261733163,\"p90\":33868329310,\"p95\":33868329310,\"p99\":33868329310},\"http\":{\"count\":8,\"rate1\":0.060677833112354265,\"rate5\":0.022548001602221607,\"rate15\":0.008399779334944766,\"p50\":3846978,\"p90\":112003244,\"p95\":112003244,\"p99\":112003244}}}],\"uri\":\"/api/tunnels\"}\n"
          ]
        }
      ]
    },
    {
      "cell_type": "code",
      "source": [
        "df = spark.read.csv(\"DelayedFlights.csv\", header=True, inferSchema=True) v #Load the CSV using spark"
      ],
      "metadata": {
        "id": "XgHic_AiR_r7"
      },
      "execution_count": 32,
      "outputs": []
    },
    {
      "cell_type": "code",
      "source": [
        "df.printSchema() #Show column details"
      ],
      "metadata": {
        "colab": {
          "base_uri": "https://localhost:8080/"
        },
        "id": "F6w5LQzaSRJU",
        "outputId": "451b8f6b-bafa-4e6c-c1b4-83970f3192df"
      },
      "execution_count": 33,
      "outputs": [
        {
          "output_type": "stream",
          "name": "stdout",
          "text": [
            "root\n",
            " |-- _c0: integer (nullable = true)\n",
            " |-- Year: integer (nullable = true)\n",
            " |-- Month: integer (nullable = true)\n",
            " |-- DayofMonth: integer (nullable = true)\n",
            " |-- DayOfWeek: integer (nullable = true)\n",
            " |-- DepTime: double (nullable = true)\n",
            " |-- CRSDepTime: integer (nullable = true)\n",
            " |-- ArrTime: double (nullable = true)\n",
            " |-- CRSArrTime: integer (nullable = true)\n",
            " |-- UniqueCarrier: string (nullable = true)\n",
            " |-- FlightNum: integer (nullable = true)\n",
            " |-- TailNum: string (nullable = true)\n",
            " |-- ActualElapsedTime: double (nullable = true)\n",
            " |-- CRSElapsedTime: double (nullable = true)\n",
            " |-- AirTime: double (nullable = true)\n",
            " |-- ArrDelay: double (nullable = true)\n",
            " |-- DepDelay: double (nullable = true)\n",
            " |-- Origin: string (nullable = true)\n",
            " |-- Dest: string (nullable = true)\n",
            " |-- Distance: integer (nullable = true)\n",
            " |-- TaxiIn: double (nullable = true)\n",
            " |-- TaxiOut: double (nullable = true)\n",
            " |-- Cancelled: integer (nullable = true)\n",
            " |-- CancellationCode: string (nullable = true)\n",
            " |-- Diverted: integer (nullable = true)\n",
            " |-- CarrierDelay: double (nullable = true)\n",
            " |-- WeatherDelay: double (nullable = true)\n",
            " |-- NASDelay: double (nullable = true)\n",
            " |-- SecurityDelay: double (nullable = true)\n",
            " |-- LateAircraftDelay: double (nullable = true)\n",
            "\n"
          ]
        }
      ]
    },
    {
      "cell_type": "code",
      "source": [
        "df.show(5) # Show only 5 rows in DF"
      ],
      "metadata": {
        "colab": {
          "base_uri": "https://localhost:8080/"
        },
        "id": "vE1t5L1QST3C",
        "outputId": "578e4559-e85f-4a98-b087-9e64467a7933"
      },
      "execution_count": 35,
      "outputs": [
        {
          "output_type": "stream",
          "name": "stdout",
          "text": [
            "+---+----+-----+----------+---------+-------+----------+-------+----------+-------------+---------+-------+-----------------+--------------+-------+--------+--------+------+----+--------+------+-------+---------+----------------+--------+------------+------------+--------+-------------+-----------------+\n",
            "|_c0|Year|Month|DayofMonth|DayOfWeek|DepTime|CRSDepTime|ArrTime|CRSArrTime|UniqueCarrier|FlightNum|TailNum|ActualElapsedTime|CRSElapsedTime|AirTime|ArrDelay|DepDelay|Origin|Dest|Distance|TaxiIn|TaxiOut|Cancelled|CancellationCode|Diverted|CarrierDelay|WeatherDelay|NASDelay|SecurityDelay|LateAircraftDelay|\n",
            "+---+----+-----+----------+---------+-------+----------+-------+----------+-------------+---------+-------+-----------------+--------------+-------+--------+--------+------+----+--------+------+-------+---------+----------------+--------+------------+------------+--------+-------------+-----------------+\n",
            "|  0|2008|    1|         3|        4| 2003.0|      1955| 2211.0|      2225|           WN|      335| N712SW|            128.0|         150.0|  116.0|   -14.0|     8.0|   IAD| TPA|     810|   4.0|    8.0|        0|               N|       0|        null|        null|    null|         null|             null|\n",
            "|  1|2008|    1|         3|        4|  754.0|       735| 1002.0|      1000|           WN|     3231| N772SW|            128.0|         145.0|  113.0|     2.0|    19.0|   IAD| TPA|     810|   5.0|   10.0|        0|               N|       0|        null|        null|    null|         null|             null|\n",
            "|  2|2008|    1|         3|        4|  628.0|       620|  804.0|       750|           WN|      448| N428WN|             96.0|          90.0|   76.0|    14.0|     8.0|   IND| BWI|     515|   3.0|   17.0|        0|               N|       0|        null|        null|    null|         null|             null|\n",
            "|  4|2008|    1|         3|        4| 1829.0|      1755| 1959.0|      1925|           WN|     3920| N464WN|             90.0|          90.0|   77.0|    34.0|    34.0|   IND| BWI|     515|   3.0|   10.0|        0|               N|       0|         2.0|         0.0|     0.0|          0.0|             32.0|\n",
            "|  5|2008|    1|         3|        4| 1940.0|      1915| 2121.0|      2110|           WN|      378| N726SW|            101.0|         115.0|   87.0|    11.0|    25.0|   IND| JAX|     688|   4.0|   10.0|        0|               N|       0|        null|        null|    null|         null|             null|\n",
            "+---+----+-----+----------+---------+-------+----------+-------+----------+-------------+---------+-------+-----------------+--------------+-------+--------+--------+------+----+--------+------+-------+---------+----------------+--------+------------+------------+--------+-------------+-----------------+\n",
            "only showing top 5 rows\n",
            "\n"
          ]
        }
      ]
    },
    {
      "cell_type": "code",
      "source": [
        "df.count() #Number of rows in DF"
      ],
      "metadata": {
        "id": "RWdyJanuSZ0z"
      },
      "execution_count": null,
      "outputs": []
    },
    {
      "cell_type": "code",
      "source": [
        "df.select(\"Year\",\"Month\",\"DayOfMonth\",\"FlightNum\").show(5) #Display specific columns"
      ],
      "metadata": {
        "colab": {
          "base_uri": "https://localhost:8080/"
        },
        "id": "WMNe3zH-So1a",
        "outputId": "55e06733-c567-49f8-efa4-2b049286c823"
      },
      "execution_count": 37,
      "outputs": [
        {
          "output_type": "stream",
          "name": "stdout",
          "text": [
            "+----+-----+----------+---------+\n",
            "|Year|Month|DayOfMonth|FlightNum|\n",
            "+----+-----+----------+---------+\n",
            "|2008|    1|         3|      335|\n",
            "|2008|    1|         3|     3231|\n",
            "|2008|    1|         3|      448|\n",
            "|2008|    1|         3|     3920|\n",
            "|2008|    1|         3|      378|\n",
            "+----+-----+----------+---------+\n",
            "only showing top 5 rows\n",
            "\n"
          ]
        }
      ]
    },
    {
      "cell_type": "code",
      "source": [
        "df.describe().show() # Describing the columns"
      ],
      "metadata": {
        "colab": {
          "base_uri": "https://localhost:8080/"
        },
        "id": "dgegpf_JTZ6D",
        "outputId": "5d0940dc-4b5a-41ac-f650-61e765658d9a"
      },
      "execution_count": 38,
      "outputs": [
        {
          "output_type": "stream",
          "name": "stdout",
          "text": [
            "+-------+------------------+-------+------------------+------------------+------------------+------------------+------------------+-----------------+-----------------+-------------+------------------+-------+------------------+-----------------+------------------+-----------------+------------------+-------+-------+-----------------+-----------------+------------------+--------------------+----------------+--------------------+------------------+------------------+------------------+-------------------+------------------+\n",
            "|summary|               _c0|   Year|             Month|        DayofMonth|         DayOfWeek|           DepTime|        CRSDepTime|          ArrTime|       CRSArrTime|UniqueCarrier|         FlightNum|TailNum| ActualElapsedTime|   CRSElapsedTime|           AirTime|         ArrDelay|          DepDelay| Origin|   Dest|         Distance|           TaxiIn|           TaxiOut|           Cancelled|CancellationCode|            Diverted|      CarrierDelay|      WeatherDelay|          NASDelay|      SecurityDelay| LateAircraftDelay|\n",
            "+-------+------------------+-------+------------------+------------------+------------------+------------------+------------------+-----------------+-----------------+-------------+------------------+-------+------------------+-----------------+------------------+-----------------+------------------+-------+-------+-----------------+-----------------+------------------+--------------------+----------------+--------------------+------------------+------------------+------------------+-------------------+------------------+\n",
            "|  count|           1936758|1936758|           1936758|           1936758|           1936758|           1936758|           1936758|          1929648|          1936758|      1936758|           1936758|1936753|           1928371|          1936560|           1928371|          1928371|           1936758|1936758|1936758|          1936758|          1929648|           1936303|             1936758|         1936758|             1936758|           1247488|           1247488|           1247488|            1247488|           1247488|\n",
            "|   mean|3341651.1513358923| 2008.0|  6.11110629206127|15.753470490376186|3.9848272215733718|1518.5341168075722|1467.4726439751378|1610.140628757162|1634.224640868916|         null|2184.2632362948802|   null|133.30586334268665|134.3027440409799|108.27714739539228|42.19988477321014|43.185176464999756|   null|   null|765.6861590348407|6.812975216205236|18.232202811233574|3.268348446217854...|            null|0.004003597764924684|19.179398920069772|3.7035706956700185|15.021635478657911|0.09013713959573158|25.296466178432176|\n",
            "| stddev|2066064.9575203708|    0.0|3.4825463936658796| 8.776272060384269|1.9959662750518288| 450.4852547937541| 424.7667995772775|548.1781425365665|464.6347119906777|         null|1944.7022503716541|   null| 72.06006897518112|71.34143888170317| 68.64261013867606|56.78471513732194| 53.40250234365989|   null|   null|574.4796530720926|5.273595064525683|14.338534198201899|0.018075624257674595|            null| 0.06314721711010828|43.546207245474356| 21.49290048410928|33.833052163653946|   2.02271404750559|  42.0548615209541|\n",
            "|    min|                 0|   2008|                 1|                 1|                 1|               1.0|                 0|              1.0|                0|           9E|                 1| 80009E|              14.0|            -25.0|               0.0|           -109.0|               6.0|    ABE|    ABE|               11|              0.0|               0.0|                   0|               A|                   0|               0.0|               0.0|               0.0|                0.0|               0.0|\n",
            "|    max|           7009727|   2008|                12|                31|                 7|            2400.0|              2359|           2400.0|             2400|           YV|              9742| Unknow|            1114.0|            660.0|            1091.0|           2461.0|            2467.0|    YUM|    YUM|             4962|            240.0|             422.0|                   1|               N|                   1|            2436.0|            1352.0|            1357.0|              392.0|            1316.0|\n",
            "+-------+------------------+-------+------------------+------------------+------------------+------------------+------------------+-----------------+-----------------+-------------+------------------+-------+------------------+-----------------+------------------+-----------------+------------------+-------+-------+-----------------+-----------------+------------------+--------------------+----------------+--------------------+------------------+------------------+------------------+-------------------+------------------+\n",
            "\n"
          ]
        }
      ]
    },
    {
      "cell_type": "markdown",
      "source": [
        "# Distinct values for Categorical columns"
      ],
      "metadata": {
        "id": "5O0EGI1mVhwR"
      }
    },
    {
      "cell_type": "code",
      "source": [
        "df.select(\"AirTime\").distinct().show()"
      ],
      "metadata": {
        "colab": {
          "base_uri": "https://localhost:8080/"
        },
        "id": "arlu2VDsUphq",
        "outputId": "5ed6ed15-2ed1-44bd-897e-be1092f10ec6"
      },
      "execution_count": 39,
      "outputs": [
        {
          "output_type": "stream",
          "name": "stdout",
          "text": [
            "+-------+\n",
            "|AirTime|\n",
            "+-------+\n",
            "|  305.0|\n",
            "|  299.0|\n",
            "|  496.0|\n",
            "|  596.0|\n",
            "|  558.0|\n",
            "|  147.0|\n",
            "|  170.0|\n",
            "|  184.0|\n",
            "|  576.0|\n",
            "|  169.0|\n",
            "|  160.0|\n",
            "|  608.0|\n",
            "|   70.0|\n",
            "|   67.0|\n",
            "|  311.0|\n",
            "|  379.0|\n",
            "|  486.0|\n",
            "|    8.0|\n",
            "|  571.0|\n",
            "|  168.0|\n",
            "+-------+\n",
            "only showing top 20 rows\n",
            "\n"
          ]
        }
      ]
    },
    {
      "cell_type": "markdown",
      "source": [
        "# Aggregate with Groupby"
      ],
      "metadata": {
        "id": "eBZQJcs_Va5S"
      }
    },
    {
      "cell_type": "code",
      "source": [
        "from pyspark.sql import functions as F\n",
        "df.groupBy(\"Year\").agg(F.sum(\"FlightNum\")).show()"
      ],
      "metadata": {
        "colab": {
          "base_uri": "https://localhost:8080/"
        },
        "id": "O6ntCcr-U5Ey",
        "outputId": "4fdd0248-bc6a-4296-b1a6-a6776eb8913f"
      },
      "execution_count": 43,
      "outputs": [
        {
          "output_type": "stream",
          "name": "stdout",
          "text": [
            "+----+--------------+\n",
            "|Year|sum(FlightNum)|\n",
            "+----+--------------+\n",
            "|2008|    4230389297|\n",
            "+----+--------------+\n",
            "\n"
          ]
        }
      ]
    },
    {
      "cell_type": "code",
      "source": [
        "from pyspark.sql import functions as F\n",
        "df.groupBy(\"Month\").agg(F.sum(\"FlightNum\")).show()"
      ],
      "metadata": {
        "colab": {
          "base_uri": "https://localhost:8080/"
        },
        "id": "r62euck1VD6p",
        "outputId": "5d123d0b-df4b-42db-d58a-11d4c3069a9e"
      },
      "execution_count": 42,
      "outputs": [
        {
          "output_type": "stream",
          "name": "stdout",
          "text": [
            "+-----+--------------+\n",
            "|Month|sum(FlightNum)|\n",
            "+-----+--------------+\n",
            "|   12|     462827129|\n",
            "|    1|     420956179|\n",
            "|    6|     436885627|\n",
            "|    3|     425587779|\n",
            "|    5|     323301264|\n",
            "|    9|     209158942|\n",
            "|    4|     331227729|\n",
            "|    8|     338770016|\n",
            "|    7|     398696159|\n",
            "|   10|     216036590|\n",
            "|   11|     239755667|\n",
            "|    2|     427186216|\n",
            "+-----+--------------+\n",
            "\n"
          ]
        }
      ]
    },
    {
      "cell_type": "markdown",
      "source": [
        "# Counting and Removing Null values"
      ],
      "metadata": {
        "id": "6nJsCkICVXiS"
      }
    },
    {
      "cell_type": "code",
      "source": [
        "df.select([F.count(F.when(F.isnull(c), c)).alias(c) for c in df.columns]).show()"
      ],
      "metadata": {
        "colab": {
          "base_uri": "https://localhost:8080/"
        },
        "id": "eFKdWqN9VO56",
        "outputId": "7522c630-5121-488f-cd5a-f2ac653855f3"
      },
      "execution_count": 44,
      "outputs": [
        {
          "output_type": "stream",
          "name": "stdout",
          "text": [
            "+---+----+-----+----------+---------+-------+----------+-------+----------+-------------+---------+-------+-----------------+--------------+-------+--------+--------+------+----+--------+------+-------+---------+----------------+--------+------------+------------+--------+-------------+-----------------+\n",
            "|_c0|Year|Month|DayofMonth|DayOfWeek|DepTime|CRSDepTime|ArrTime|CRSArrTime|UniqueCarrier|FlightNum|TailNum|ActualElapsedTime|CRSElapsedTime|AirTime|ArrDelay|DepDelay|Origin|Dest|Distance|TaxiIn|TaxiOut|Cancelled|CancellationCode|Diverted|CarrierDelay|WeatherDelay|NASDelay|SecurityDelay|LateAircraftDelay|\n",
            "+---+----+-----+----------+---------+-------+----------+-------+----------+-------------+---------+-------+-----------------+--------------+-------+--------+--------+------+----+--------+------+-------+---------+----------------+--------+------------+------------+--------+-------------+-----------------+\n",
            "|  0|   0|    0|         0|        0|      0|         0|   7110|         0|            0|        0|      5|             8387|           198|   8387|    8387|       0|     0|   0|       0|  7110|    455|        0|               0|       0|      689270|      689270|  689270|       689270|           689270|\n",
            "+---+----+-----+----------+---------+-------+----------+-------+----------+-------------+---------+-------+-----------------+--------------+-------+--------+--------+------+----+--------+------+-------+---------+----------------+--------+------------+------------+--------+-------------+-----------------+\n",
            "\n"
          ]
        }
      ]
    },
    {
      "cell_type": "code",
      "source": [
        "df = df.fillna({'ActualElapsedTime':0, 'CRSElapsedTime':0})"
      ],
      "metadata": {
        "id": "1zBZf96gVtOi"
      },
      "execution_count": 48,
      "outputs": []
    },
    {
      "cell_type": "code",
      "source": [
        "df.select([F.count(F.when(F.isnull(c), c)).alias(c) for c in df.columns]).show()"
      ],
      "metadata": {
        "colab": {
          "base_uri": "https://localhost:8080/"
        },
        "id": "vGnQpRO1VzGq",
        "outputId": "49640345-f146-4007-f356-fd0368d11f0f"
      },
      "execution_count": 49,
      "outputs": [
        {
          "output_type": "stream",
          "name": "stdout",
          "text": [
            "+---+----+-----+----------+---------+-------+----------+-------+----------+-------------+---------+-------+-----------------+--------------+-------+--------+--------+------+----+--------+------+-------+---------+----------------+--------+------------+------------+--------+-------------+-----------------+\n",
            "|_c0|Year|Month|DayofMonth|DayOfWeek|DepTime|CRSDepTime|ArrTime|CRSArrTime|UniqueCarrier|FlightNum|TailNum|ActualElapsedTime|CRSElapsedTime|AirTime|ArrDelay|DepDelay|Origin|Dest|Distance|TaxiIn|TaxiOut|Cancelled|CancellationCode|Diverted|CarrierDelay|WeatherDelay|NASDelay|SecurityDelay|LateAircraftDelay|\n",
            "+---+----+-----+----------+---------+-------+----------+-------+----------+-------------+---------+-------+-----------------+--------------+-------+--------+--------+------+----+--------+------+-------+---------+----------------+--------+------------+------------+--------+-------------+-----------------+\n",
            "|  0|   0|    0|         0|        0|      0|         0|   7110|         0|            0|        0|      5|                0|             0|   8387|    8387|       0|     0|   0|       0|  7110|    455|        0|               0|       0|      689270|      689270|  689270|       689270|           689270|\n",
            "+---+----+-----+----------+---------+-------+----------+-------+----------+-------------+---------+-------+-----------------+--------------+-------+--------+--------+------+----+--------+------+-------+---------+----------------+--------+------------+------------+--------+-------------+-----------------+\n",
            "\n"
          ]
        }
      ]
    },
    {
      "cell_type": "code",
      "source": [
        "df.write.csv(\"/content/drive/My Drive/PySpark on Colab/preprocessed_data\")\n"
      ],
      "metadata": {
        "id": "x7IPjU8mV2r6"
      },
      "execution_count": 50,
      "outputs": []
    },
    {
      "cell_type": "code",
      "source": [
        "df.rdd.getNumPartitions()"
      ],
      "metadata": {
        "colab": {
          "base_uri": "https://localhost:8080/"
        },
        "id": "vojxuaTlV_7h",
        "outputId": "9b06bf64-cadc-40d3-ec36-f5a50cd9914b"
      },
      "execution_count": 51,
      "outputs": [
        {
          "output_type": "execute_result",
          "data": {
            "text/plain": [
              "2"
            ]
          },
          "metadata": {},
          "execution_count": 51
        }
      ]
    },
    {
      "cell_type": "code",
      "source": [
        "# Spark df to Pandas df\n",
        "df_pd = df.toPandas()\n",
        "# Store result\n",
        "df_pd.to_csv(\"/content/drive/My Drive/PySpark on Colab/pandas_preprocessed_data.csv\")"
      ],
      "metadata": {
        "id": "76lSLz7EWDih"
      },
      "execution_count": null,
      "outputs": []
    },
    {
      "cell_type": "code",
      "source": [
        "import pandas as pd\n",
        "test = pd.read_csv('/content/drive/My Drive/PySpark on Colab/pandas_preprocessed_data.csv')\n",
        "test"
      ],
      "metadata": {
        "id": "YxdiJZVoWJzB"
      },
      "execution_count": null,
      "outputs": []
    }
  ]
}