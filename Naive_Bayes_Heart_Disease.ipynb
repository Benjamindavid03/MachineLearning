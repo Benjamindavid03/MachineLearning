{
  "nbformat": 4,
  "nbformat_minor": 0,
  "metadata": {
    "colab": {
      "provenance": [],
      "include_colab_link": true
    },
    "kernelspec": {
      "name": "python3",
      "display_name": "Python 3"
    },
    "language_info": {
      "name": "python"
    }
  },
  "cells": [
    {
      "cell_type": "markdown",
      "metadata": {
        "id": "view-in-github",
        "colab_type": "text"
      },
      "source": [
        "<a href=\"https://colab.research.google.com/github/Benjamindavid03/MachineLearning/blob/main/Naive_Bayes_Heart_Disease.ipynb\" target=\"_parent\"><img src=\"https://colab.research.google.com/assets/colab-badge.svg\" alt=\"Open In Colab\"/></a>"
      ]
    },
    {
      "cell_type": "code",
      "execution_count": 1,
      "metadata": {
        "id": "uuaJAFBEOqK-"
      },
      "outputs": [],
      "source": [
        "from sklearn.model_selection import train_test_split\n",
        "from sklearn.naive_bayes import GaussianNB\n",
        "from sklearn.metrics import accuracy_score\n",
        "import pandas as pd"
      ]
    },
    {
      "cell_type": "code",
      "source": [
        "url = 'https://raw.githubusercontent.com/Benjamindavid03/MachineLearning/main/heart.csv'\n",
        "df1 = pd.read_csv(url, delimiter=',')\n",
        "df1.dataframeName = 'heart.csv'\n",
        "nRow, nCol = df1.shape \n",
        "nRow,nCol\n",
        "#preparing the data\n",
        "X = df1.drop(columns=['target']) # features\n",
        "y = df1['target'] #label"
      ],
      "metadata": {
        "id": "YU2UQXuhQslp"
      },
      "execution_count": 2,
      "outputs": []
    },
    {
      "cell_type": "code",
      "source": [
        "X_train, X_test, y_train, y_test = train_test_split(X, y, test_size=0.3, random_state=0)"
      ],
      "metadata": {
        "id": "sE__wjldRp18"
      },
      "execution_count": 3,
      "outputs": []
    },
    {
      "cell_type": "code",
      "source": [
        "gnb = GaussianNB()\n",
        "y_pred = gnb.fit(X_train, y_train).predict(X_test)"
      ],
      "metadata": {
        "id": "U6gm2dThPuyA"
      },
      "execution_count": 4,
      "outputs": []
    },
    {
      "cell_type": "code",
      "source": [
        "print(\"Number of correctly labeled points out of a total points (Total | Predicted Correctly) : \", (X_test.shape[0], (y_test == y_pred).sum()))\n",
        "print(\"Number of mislabeled points out of a total points  (Total | Predicted Incorrectly) : \", (X_test.shape[0], (y_test != y_pred).sum()))\n",
        "score = accuracy_score(y_test, y_pred)\n",
        "print(\"Accuracy : \",score)"
      ],
      "metadata": {
        "colab": {
          "base_uri": "https://localhost:8080/"
        },
        "id": "kesXqbznPxlo",
        "outputId": "6d232922-8b2f-4de4-b5dc-a0b8fcd3b4f8"
      },
      "execution_count": 6,
      "outputs": [
        {
          "output_type": "stream",
          "name": "stdout",
          "text": [
            "Number of correctly labeled points out of a total points (Total | Predicted Correctly) :  (91, 73)\n",
            "Number of mislabeled points out of a total points  (Total | Predicted Incorrectly) :  (91, 18)\n",
            "Accuracy :  0.8021978021978022\n"
          ]
        }
      ]
    }
  ]
}