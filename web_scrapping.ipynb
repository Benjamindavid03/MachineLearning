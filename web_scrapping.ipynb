{
  "nbformat": 4,
  "nbformat_minor": 0,
  "metadata": {
    "colab": {
      "name": "web scrapping.ipynb",
      "provenance": [],
      "collapsed_sections": [],
      "authorship_tag": "ABX9TyPFNWPTEvBlw97nBra8NIqX",
      "include_colab_link": true
    },
    "kernelspec": {
      "name": "python3",
      "display_name": "Python 3"
    },
    "language_info": {
      "name": "python"
    }
  },
  "cells": [
    {
      "cell_type": "markdown",
      "metadata": {
        "id": "view-in-github",
        "colab_type": "text"
      },
      "source": [
        "<a href=\"https://colab.research.google.com/github/Benjamindavid03/MachineLearning/blob/main/web_scrapping.ipynb\" target=\"_parent\"><img src=\"https://colab.research.google.com/assets/colab-badge.svg\" alt=\"Open In Colab\"/></a>"
      ]
    },
    {
      "cell_type": "code",
      "execution_count": 3,
      "metadata": {
        "id": "1P7lLB5xKMbg"
      },
      "outputs": [],
      "source": [
        "import numpy as np # linear algebra\n",
        "import pandas as pd # pandas for dataframe based data processing and CSV file I/O\n",
        "import requests # for http requests\n",
        "from bs4 import BeautifulSoup # for html parsing and scraping"
      ]
    },
    {
      "cell_type": "markdown",
      "source": [
        "# Getting JSON Data from An API"
      ],
      "metadata": {
        "id": "D0CEwjz6VDta"
      }
    },
    {
      "cell_type": "code",
      "source": [
        "url = \"https://jsonplaceholder.typicode.com/posts/1\"\n",
        "response = requests.get(url, timeout=240)\n",
        "response.status_code\n",
        "response.json()\n",
        "\n",
        "content = response.json()\n",
        "content.keys()"
      ],
      "metadata": {
        "colab": {
          "base_uri": "https://localhost:8080/"
        },
        "id": "rLFbHGdzKP8B",
        "outputId": "6513eb97-e4e2-41f9-a2b4-bbf7030e3233"
      },
      "execution_count": 57,
      "outputs": [
        {
          "output_type": "execute_result",
          "data": {
            "text/plain": [
              "dict_keys(['userId', 'id', 'title', 'body'])"
            ]
          },
          "metadata": {},
          "execution_count": 57
        }
      ]
    },
    {
      "cell_type": "markdown",
      "source": [
        "# Getting HTML from website"
      ],
      "metadata": {
        "id": "tB3RS2kmVNcP"
      }
    },
    {
      "cell_type": "code",
      "source": [
        "response = requests.get(\"https://www.srmist.edu.in/vadapalani/\", timeout=240)\n",
        "response.status_code\n",
        "response.content"
      ],
      "metadata": {
        "id": "uraD1nUMKgax"
      },
      "execution_count": null,
      "outputs": []
    },
    {
      "cell_type": "markdown",
      "source": [
        "# Data From SRM IST website"
      ],
      "metadata": {
        "id": "weN4XN6NLAdZ"
      }
    },
    {
      "cell_type": "code",
      "source": [
        "page_response = requests.get(\"https://www.srmist.edu.in/vadapalani/\"+ticker, timeout=240)\n",
        "page_content = BeautifulSoup(page_response.content, \"html.parser\")\n",
        "print(\"Stock Details :\")\n",
        "content = str(page_content.find(\"a\"))\n",
        "HTML(content)"
      ],
      "metadata": {
        "colab": {
          "base_uri": "https://localhost:8080/",
          "height": 174
        },
        "id": "ZnfR-ue5LETZ",
        "outputId": "407fb164-69c3-4c35-b859-3275ab66c6d9"
      },
      "execution_count": 53,
      "outputs": [
        {
          "output_type": "stream",
          "name": "stdout",
          "text": [
            "Stock Details :\n"
          ]
        },
        {
          "output_type": "execute_result",
          "data": {
            "text/plain": [
              "<IPython.core.display.HTML object>"
            ],
            "text/html": [
              "<a href=\"https://www.srmist.edu.in\" rel=\"home\" title=\"Home\">\n",
              "<img alt=\"Home\" class=\"img-responsive\" src=\"https://www.srmist.edu.in/vadapalani/sites/vadapalani/files/ramapuram-logo.png\" title=\"SRM University\"/>\n",
              "</a>"
            ]
          },
          "metadata": {},
          "execution_count": 53
        }
      ]
    },
    {
      "cell_type": "markdown",
      "source": [
        "# Getting all images from a website"
      ],
      "metadata": {
        "id": "I1amOoKKVUJd"
      }
    },
    {
      "cell_type": "code",
      "source": [
        "import re\n",
        "import requests\n",
        "import cv2\n",
        "from bs4 import BeautifulSoup\n",
        "from IPython.display import Image\n",
        "from google.colab.patches import cv2_imshow\n",
        "\n",
        "site = 'https://www.srmist.edu.in/vadapalani'\n",
        "\n",
        "response = requests.get(site)\n",
        "\n",
        "soup = BeautifulSoup(response.text, 'html.parser')\n",
        "img_tags = soup.find_all('img')\n",
        "\n",
        "urls = [img['src'] for img in img_tags]\n",
        "\n",
        "\n",
        "for url in urls:\n",
        "    filename = re.search(r'/([\\w_-]+[.](jpg|gif|png|jpeg))$', url)\n",
        "    if not filename:\n",
        "         print(\"Regex didn't match with the url: {}\".format(url))\n",
        "         continue\n",
        "    with open(filename.group(1), 'wb') as f:\n",
        "        if 'http' not in url:\n",
        "            # sometimes an image source can be relative \n",
        "            # if it is provide the base url which also happens \n",
        "            # to be the site variable atm. \n",
        "            url = '{}{}'.format(site, url)\n",
        "        response = requests.get(url)\n",
        "        print(url)"
      ],
      "metadata": {
        "id": "6-9aV8FpQUNr"
      },
      "execution_count": null,
      "outputs": []
    },
    {
      "cell_type": "markdown",
      "source": [
        "# Stock Market Data from MoneyControl"
      ],
      "metadata": {
        "id": "hc0KOuZWK8Ja"
      }
    },
    {
      "cell_type": "code",
      "source": [
        "ticker = str(input(\"Enter the Ticker Name : \")) # DN, TCS, ONG #ITC\n",
        "page_response = requests.get(\"https://www.moneycontrol.com/india/stockpricequote/diversified/itc/\"+ticker, timeout=240)\n",
        "page_content = BeautifulSoup(page_response.content, \"html.parser\")\n",
        "print(\"Stock Details :\")\n",
        "HTML(str(page_content.find(\"div\",attrs={'id':\"stk_overview\"})))"
      ],
      "metadata": {
        "colab": {
          "base_uri": "https://localhost:8080/",
          "height": 484
        },
        "id": "kYyedgVpLFWV",
        "outputId": "3f3e993b-2c65-4ab5-88bd-369e40e22eb6"
      },
      "execution_count": 55,
      "outputs": [
        {
          "output_type": "stream",
          "name": "stdout",
          "text": [
            "Enter the Ticker Name : ITC\n",
            "Stock Details :\n"
          ]
        },
        {
          "output_type": "execute_result",
          "data": {
            "text/plain": [
              "<IPython.core.display.HTML object>"
            ],
            "text/html": [
              "<div class=\"clearfix\" id=\"stk_overview\">\n",
              "<div class=\"nsestock_overview bsestock_overview\">\n",
              "<div class=\"mob-hide\">\n",
              "<div class=\"oview_table\">\n",
              "<table border=\"0\" cellpadding=\"0\" cellspacing=\"0\" width=\"100%\">\n",
              "<tbody>\n",
              "<tr><td>Open</td><td class=\"nseopn bseopn\">292.00</td></tr>\n",
              "<tr><td>Previous Close</td><td class=\"nseprvclose bseprvclose\">290.85</td></tr>\n",
              "<tr><td>Volume</td><td class=\"nsevol bsevol\">11,025,420.00</td></tr>\n",
              "<tr><td>Value (Lacs)</td><td class=\"nsevalue bsevalue\">32,365.12</td></tr>\n",
              "<tr><td>\n",
              "<span class=\"info_icn\" data-target=\"#VWAP\" data-toggle=\"modal\" onclick=\"show_vwap_cp_chart('BSE');\" style=\"vertical-align:text-top; cursor: pointer;\">\n",
              "<svg id=\"info\" viewbox=\"0 0 15.274 15.274\" width=\"14\" xmlns=\"http://www.w3.org/2000/svg\">\n",
              "<g data-name=\"Ellipse 278\" fill=\"none\" id=\"Ellipse_278\" stroke=\"#333\" stroke-width=\"1\" transform=\"translate(0 0)\">\n",
              "<circle cx=\"7.637\" cy=\"7.637\" r=\"7.637\" stroke=\"none\"></circle>\n",
              "<circle cx=\"7.637\" cy=\"7.637\" fill=\"none\" r=\"7.137\"></circle>\n",
              "</g>\n",
              "<text fill=\"#444\" font-family=\"Lato-Heavy, Lato\" font-size=\"11\" font-weight=\"800\" id=\"i\" transform=\"translate(6.221 12.194)\"><tspan x=\"0\" y=\"0\">i</tspan></text>\n",
              "</svg>\n",
              "</span> VWAP\n",
              "                        </td>\n",
              "<td class=\"nsevwap bsevwap\">291.84</td></tr>\n",
              "<tr><td>Beta</td><td><span class=\"nsebeta\">0.77</span><span class=\"bsebeta\">0.73</span></td></tr>\n",
              "</tbody>\n",
              "</table>\n",
              "</div>\n",
              "<div class=\"oview_table\">\n",
              "<table border=\"0\" cellpadding=\"0\" cellspacing=\"0\" width=\"100%\">\n",
              "<tbody>\n",
              "<tr><td>High</td><td class=\"nseHP bseHP\">294.00</td></tr>\n",
              "<tr><td>Low</td><td class=\"nseLP bseLP\">289.50</td></tr>\n",
              "<tr><td>UC Limit</td><td class=\"nseupper_circuit_limit bseupper_circuit_limit\">319.90</td></tr>\n",
              "<tr><td>LC Limit</td><td class=\"nselower_circuit_limit bselower_circuit_limit\">261.80</td></tr>\n",
              "<tr><td>52 Week High</td><td class=\"nseH52 bseH52\">296.95</td></tr>\n",
              "<tr><td>52 Week Low</td><td class=\"nseL52 bseL52\">200.90</td></tr>\n",
              "</tbody>\n",
              "</table>\n",
              "</div>\n",
              "<div class=\"oview_table\">\n",
              "<table border=\"0\" cellpadding=\"0\" cellspacing=\"0\" width=\"100%\">\n",
              "<tbody>\n",
              "<!-- <tr><td>TTM EPS</td><td class=\"nseceps bseceps\" >12.34</td></tr> -->\n",
              "<tr><td>TTM EPS</td><td class=\"nseceps bseceps\">12.34</td></tr>\n",
              "<tr><td>TTM PE</td><td class=\"nsepe bsepe\">23.79</td></tr>\n",
              "<tr><td>Sector PE</td><td class=\"nsesc_ttm bsesc_ttm\">23.89</td></tr>\n",
              "<tr><td>Book Value Per Share</td><td class=\"nsebv bsebv\">49.82</td></tr>\n",
              "<tr><td>P/B</td><td class=\"nsepb bsepb\">5.89</td></tr>\n",
              "<tr><td>Face Value</td><td class=\"nsefv bsefv\">1.00</td></tr>\n",
              "</tbody>\n",
              "</table>\n",
              "</div>\n",
              "<div class=\"oview_table\">\n",
              "<table border=\"0\" cellpadding=\"0\" cellspacing=\"0\" width=\"100%\">\n",
              "<tbody>\n",
              "<tr><td>Mkt Cap (Rs. Cr.)</td><td class=\"nsemktcap bsemktcap\">362,711</td></tr>\n",
              "<tr><td>Dividend Yield</td><td class=\"nsedy bsedy\">3.92</td></tr>\n",
              "<tr><td>20D Avg Volume</td><td class=\"nsev20a bsev20a\">15,500,906</td></tr>\n",
              "<tr><td>20D Avg Delivery(%)</td><td class=\"nsed20ad bsed20ad\">52.87</td></tr>\n",
              "<!-- <tr><td>P/C</td><td class=\"nsep_c bsep_c\" >21.35</td></tr> -->\n",
              "</tbody>\n",
              "</table>\n",
              "</div>\n",
              "</div>\n",
              "<style>\n",
              ".vmappop .modal-dialog { width:850px;}\n",
              ".vwap_chartbx { max-width:580px; margin: 0 auto;}\n",
              "@media all and (max-width:980px){\n",
              ".vmappop .modal-dialog { width:auto;}   \n",
              "}\n",
              "</style>\n",
              "<div class=\"modal vmappop fade in\" id=\"VWAP\" role=\"dialog\">\n",
              "<div class=\"modal-dialog\">\n",
              "<!-- Modal content-->\n",
              "<div class=\"modal-content\">\n",
              "<button class=\"close\" data-dismiss=\"modal\" type=\"button\"><svg aria-hidden=\"true\" data-icon=\"times\" data-prefix=\"fas\" focusable=\"false\" role=\"img\" viewbox=\"0 0 352 512\" width=\"16\" xmlns=\"http://www.w3.org/2000/svg\"><path d=\"M242.72 256l100.07-100.07c12.28-12.28 12.28-32.19 0-44.48l-22.24-22.24c-12.28-12.28-32.19-12.28-44.48 0L176 189.28 75.93 89.21c-12.28-12.28-32.19-12.28-44.48 0L9.21 111.45c-12.28 12.28-12.28 32.19 0 44.48L109.28 256 9.21 356.07c-12.28 12.28-12.28 32.19 0 44.48l22.24 22.24c12.28 12.28 32.2 12.28 44.48 0L176 322.72l100.07 100.07c12.28 12.28 32.2 12.28 44.48 0l22.24-22.24c12.28-12.28 12.28-32.19 0-44.48L242.72 256z\" fill=\"currentColor\"></path></svg></button>\n",
              "<div class=\"clearfix\">\n",
              "<div class=\"pc_modalheader\"><div class=\"pc_modaltitle\">VWAP And Current Price Comparison</div>\n",
              "</div>\n",
              "<div class=\"vwap_chartbx\" id=\"bse_vwap_cp_chart\"></div>\n",
              "</div>\n",
              "</div>\n",
              "</div>\n",
              "</div>\n",
              "</div>\n",
              "<div class=\"futstock_overview\" style=\"display: none;\">\n",
              "<div class=\"mob-hide\">\n",
              "<div class=\"oview_table\">\n",
              "<table border=\"0\" cellpadding=\"0\" cellspacing=\"0\" width=\"100%\">\n",
              "<tbody>\n",
              "<tr><td>Open                    </td> <td class=\"futopen\">- -</td></tr>\n",
              "<tr><td>Previous Close          </td> <td class=\"futprvclose\">- -</td></tr>\n",
              "<tr><td>Volume                  </td> <td class=\"futvolume\">- -</td></tr>\n",
              "<tr><td>Value(lacs)                   </td> <td class=\"futvalue\">- -</td></tr>\n",
              "</tbody>\n",
              "</table>\n",
              "</div>\n",
              "<div class=\"oview_table\">\n",
              "<table border=\"0\" cellpadding=\"0\" cellspacing=\"0\" width=\"100%\">\n",
              "<tbody>\n",
              "<tr><td>High                     </td> <td class=\"futHP\">- -</td></tr>\n",
              "<tr><td>Low                     </td> <td class=\"futLP\">- -</td></tr>\n",
              "<tr><td>ATP                     </td> <td class=\"futatp\">- -</td></tr>\n",
              "<tr><td>Spot                    </td> <td class=\"nsespot\">- -</td></tr>\n",
              "</tbody>\n",
              "</table>\n",
              "</div>\n",
              "<div class=\"oview_table\">\n",
              "<table border=\"0\" cellpadding=\"0\" cellspacing=\"0\" width=\"100%\">\n",
              "<tbody>\n",
              "<tr><td>OI                      </td> <td class=\"futoi\">- -</td></tr>\n",
              "<tr><td style=\"width: 45%;\">OI Chg(Chg%)            </td> <td class=\"futoichgperch\">- -</td></tr>\n",
              "<tr><td>Lot Size                </td> <td class=\"futlot\">- -</td></tr>\n",
              "<tr><td>Contracts Traded </td><td class=\"futcontractstraded\">- -</td></tr>\n",
              "</tbody>\n",
              "</table>\n",
              "</div>\n",
              "<div class=\"oview_table\">\n",
              "<table border=\"0\" cellpadding=\"0\" cellspacing=\"0\" width=\"100%\">\n",
              "<tbody>\n",
              "<tr><td>Roll Over %             </td> <td class=\"futrolloverper\">- -</td></tr>\n",
              "<tr><td>Roll Over Cost          </td> <td class=\"futrollover\">- -</td></tr>\n",
              "<tr><td>MWPL                    </td> <td class=\"futmwpl\">- -</td></tr>\n",
              "</tbody>\n",
              "</table>\n",
              "</div>\n",
              "</div>\n",
              "</div>\n",
              "<div class=\"optstock_overview\" style=\"display: none;\">\n",
              "<div class=\"mob-hide\">\n",
              "<div class=\"oview_table\">\n",
              "<table border=\"0\" cellpadding=\"0\" cellspacing=\"0\" width=\"100%\">\n",
              "<tbody>\n",
              "<tr><td>Open</td> <td class=\"optopen\">--</td></tr>\n",
              "<tr><td>Previous Close</td> <td class=\"optprvclose\">--</td></tr>\n",
              "<tr><td>Volume</td> <td class=\"optvolume\">--</td></tr>\n",
              "<tr><td>Value (lacs)</td> <td class=\"optvalue\">--</td></tr>\n",
              "</tbody>\n",
              "</table>\n",
              "</div>\n",
              "<div class=\"oview_table\">\n",
              "<table border=\"0\" cellpadding=\"0\" cellspacing=\"0\" width=\"100%\">\n",
              "<tbody>\n",
              "<tr><td>High</td> <td class=\"optHP\">--</td></tr>\n",
              "<tr><td>Low</td> <td class=\"optLP\">--</td></tr>\n",
              "<tr><td>ATP</td> <td class=\"optatp\">--</td></tr>\n",
              "<tr><td>Spot</td> <td class=\"nsespot\">--</td></tr>\n",
              "</tbody>\n",
              "</table>\n",
              "</div>\n",
              "<div class=\"oview_table\">\n",
              "<table border=\"0\" cellpadding=\"0\" cellspacing=\"0\" width=\"100%\">\n",
              "<tbody>\n",
              "<tr><td>OI</td> <td class=\"optoi\">--</td></tr>\n",
              "<tr><td style=\"width: 45%;\">OI Chg(Chg%)</td> <td class=\"optoichgperch\">--</td></tr>\n",
              "<tr><td>Lot Size</td> <td class=\"optlot\">--</td></tr>\n",
              "<tr><td>Contracts Traded</td> <td class=\"optcontractstraded\">--</td></tr>\n",
              "</tbody>\n",
              "</table>\n",
              "</div>\n",
              "<div class=\"oview_table\">\n",
              "<table border=\"0\" cellpadding=\"0\" cellspacing=\"0\" width=\"100%\">\n",
              "<tbody>\n",
              "<tr><td>PCR</td> <td class=\"optpcr\">--</td></tr>\n",
              "</tbody>\n",
              "</table>\n",
              "</div>\n",
              "</div>\n",
              "</div>\n",
              "</div>"
            ]
          },
          "metadata": {},
          "execution_count": 55
        }
      ]
    },
    {
      "cell_type": "code",
      "source": [
        "page_response = requests.get(\"https://www.moneycontrol.com/india/stockpricequote/auto-2-3-wheelers/heromotocorp/HHM\", timeout=240)\n",
        "page_content = BeautifulSoup(page_response.content, \"html.parser\")\n",
        "price_div = page_content.find(\"td\",attrs={\"class\":'nsedy bsedy'})\n",
        "HTML(str(price_div))"
      ],
      "metadata": {
        "colab": {
          "base_uri": "https://localhost:8080/",
          "height": 34
        },
        "id": "memCLX0YN0H9",
        "outputId": "f9d3c945-7c1f-49c4-dece-3a0858dfafd2"
      },
      "execution_count": 30,
      "outputs": [
        {
          "output_type": "execute_result",
          "data": {
            "text/plain": [
              "<IPython.core.display.HTML object>"
            ],
            "text/html": [
              "<td class=\"nsedy bsedy\">3.39</td>"
            ]
          },
          "metadata": {},
          "execution_count": 30
        }
      ]
    }
  ]
}