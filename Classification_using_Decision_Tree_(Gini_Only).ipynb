{
  "nbformat": 4,
  "nbformat_minor": 0,
  "metadata": {
    "colab": {
      "name": "Classification using Decision Tree (Gini Only).ipynb",
      "provenance": [],
      "collapsed_sections": [],
      "include_colab_link": true
    },
    "kernelspec": {
      "name": "python3",
      "display_name": "Python 3"
    },
    "language_info": {
      "name": "python"
    }
  },
  "cells": [
    {
      "cell_type": "markdown",
      "metadata": {
        "id": "view-in-github",
        "colab_type": "text"
      },
      "source": [
        "<a href=\"https://colab.research.google.com/github/Benjamindavid03/MachineLearningLab/blob/main/Classification_using_Decision_Tree_(Gini_Only).ipynb\" target=\"_parent\"><img src=\"https://colab.research.google.com/assets/colab-badge.svg\" alt=\"Open In Colab\"/></a>"
      ]
    },
    {
      "cell_type": "markdown",
      "source": [
        "# Classification using Decision Tree \n",
        "\n",
        "## Step 1 : Importing the Dataset"
      ],
      "metadata": {
        "id": "NAMMwDTIeVnJ"
      }
    },
    {
      "cell_type": "code",
      "execution_count": null,
      "metadata": {
        "id": "_linMIViAq-5"
      },
      "outputs": [],
      "source": [
        "# Importing the required packages\n",
        "import numpy as np\n",
        "import pandas as pd\n",
        "from sklearn.metrics import confusion_matrix\n",
        "from sklearn.model_selection import train_test_split\n",
        "from sklearn.tree import DecisionTreeClassifier\n",
        "from sklearn.metrics import accuracy_score\n",
        "import warnings\n",
        "warnings.filterwarnings('always')\n",
        "\n",
        "# Function importing Dataset\n",
        "def importdata():\n",
        "\tdata1 = \"https://archive.ics.uci.edu/ml/machine-learning-databases/balance-scale/balance-scale.data\"\n",
        "\tbalance_data = pd.read_csv(data1,\tsep= ',', header = None)\n",
        "\treturn balance_data"
      ]
    },
    {
      "cell_type": "code",
      "source": [
        "# Function to split the dataset\n",
        "def splitdataset(balance_data):\n",
        "\t# Separating the target variable\n",
        "\tX = balance_data.values[:, 1:5]\n",
        "\tY = balance_data.values[:, 0]\n",
        "\t# Splitting the dataset into train and test\n",
        "\tX_train, X_test, y_train, y_test = train_test_split(\n",
        "\tX, Y, test_size = 0.3, random_state = 100)\n",
        "\treturn X, Y, X_train, X_test, y_train, y_test"
      ],
      "metadata": {
        "id": "tfq7AAF5A6Rg"
      },
      "execution_count": null,
      "outputs": []
    },
    {
      "cell_type": "markdown",
      "source": [
        "## Step 2 : Training and Testing the Decision Tree using Gini "
      ],
      "metadata": {
        "id": "CvSMXfUAeeNw"
      }
    },
    {
      "cell_type": "code",
      "source": [
        "def train_using_gini(X_train, X_test, y_train):\n",
        "\t# Creating the classifier object\n",
        "\tclf_gini = DecisionTreeClassifier(criterion = \"gini\",\n",
        "\trandom_state = 100,max_depth=3, min_samples_leaf=5)\n",
        "\t# Performing training\n",
        "\tclf_gini.fit(X_train, y_train)\n",
        "\treturn clf_gini"
      ],
      "metadata": {
        "id": "AJn_kZS2A9zX"
      },
      "execution_count": null,
      "outputs": []
    },
    {
      "cell_type": "code",
      "source": [
        "# Function to make predictions\n",
        "def prediction(X_test, clf_object):\n",
        "\t# Predicton on test with giniIndex\n",
        "\ty_pred = clf_object.predict(X_test)\n",
        "\tprint(\"Predicted values:\\n\")\n",
        "\treturn y_pred"
      ],
      "metadata": {
        "id": "5McpS6l2BAP3"
      },
      "execution_count": null,
      "outputs": []
    },
    {
      "cell_type": "code",
      "source": [
        "# Function to calculate accuracy\n",
        "def cal_accuracy(y_test, y_pred):\n",
        "\tprint(\"Confusion Matrix: \",\n",
        "\tconfusion_matrix(y_test, y_pred))\n",
        "\tprint (\"Accuracy : \",\n",
        "\taccuracy_score(y_test,y_pred)*100)"
      ],
      "metadata": {
        "id": "sXuxIqMgBC1P"
      },
      "execution_count": null,
      "outputs": []
    },
    {
      "cell_type": "markdown",
      "source": [
        "## Step 3 : Calling Functions"
      ],
      "metadata": {
        "id": "YqtYdQ2VeRJJ"
      }
    },
    {
      "cell_type": "code",
      "source": [
        "# Building Phase\n",
        "data = importdata() # calling importdata function\n",
        "X, Y, X_train, X_test, y_train, y_test = splitdataset(data) # calling splitdataset function\n",
        "clf_gini = train_using_gini(X_train, X_test, y_train) # calling train_using_gini function"
      ],
      "metadata": {
        "id": "VRmpQEwPBFOf"
      },
      "execution_count": null,
      "outputs": []
    },
    {
      "cell_type": "code",
      "source": [
        "## Operational Phase\n",
        "print(\"Solving Classification problem Using Decision Tree Classification (Gini Index):\")\n",
        "# Prediction using gini\n",
        "y_pred_gini = prediction(X_test, clf_gini) # calling prediction function\n",
        "cal_accuracy(y_test, y_pred_gini) #calling cal_accuracy function"
      ],
      "metadata": {
        "id": "RsjJhQ51BKDX",
        "outputId": "45f25928-9523-4955-b91d-26db87864257",
        "colab": {
          "base_uri": "https://localhost:8080/"
        }
      },
      "execution_count": null,
      "outputs": [
        {
          "output_type": "stream",
          "name": "stdout",
          "text": [
            "Solving Classification problem Using Decision Tree Classification (Gini Index):\n",
            "Predicted values:\n",
            "\n",
            "Confusion Matrix:  [[ 0  6  7]\n",
            " [ 0 67 18]\n",
            " [ 0 19 71]]\n",
            "Accuracy :  73.40425531914893\n"
          ]
        }
      ]
    }
  ]
}