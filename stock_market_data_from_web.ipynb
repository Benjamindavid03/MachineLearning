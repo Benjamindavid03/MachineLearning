{
  "nbformat": 4,
  "nbformat_minor": 0,
  "metadata": {
    "colab": {
      "name": "stock market data from web.ipynb",
      "provenance": [],
      "collapsed_sections": [],
      "authorship_tag": "ABX9TyPQTVoJKGKmTlvxsfqQCg/v",
      "include_colab_link": true
    },
    "kernelspec": {
      "name": "python3",
      "display_name": "Python 3"
    },
    "language_info": {
      "name": "python"
    }
  },
  "cells": [
    {
      "cell_type": "markdown",
      "metadata": {
        "id": "view-in-github",
        "colab_type": "text"
      },
      "source": [
        "<a href=\"https://colab.research.google.com/github/Benjamindavid03/MachineLearningLab/blob/main/stock_market_data_from_web.ipynb\" target=\"_parent\"><img src=\"https://colab.research.google.com/assets/colab-badge.svg\" alt=\"Open In Colab\"/></a>"
      ]
    },
    {
      "cell_type": "code",
      "execution_count": 1,
      "metadata": {
        "id": "-UvSb7xp07KJ"
      },
      "outputs": [],
      "source": [
        "import numpy as np # linear algebra\n",
        "import pandas as pd # pandas for dataframe based data processing and CSV file I/O"
      ]
    },
    {
      "cell_type": "code",
      "source": [
        "!pip install fastnumbers;\n",
        "!pip install pytidylib"
      ],
      "metadata": {
        "colab": {
          "base_uri": "https://localhost:8080/"
        },
        "id": "o9B9qMyD1Ct5",
        "outputId": "4846efc2-c45e-4605-b471-3bb8ce4b8e3b"
      },
      "execution_count": 8,
      "outputs": [
        {
          "output_type": "stream",
          "name": "stdout",
          "text": [
            "Looking in indexes: https://pypi.org/simple, https://us-python.pkg.dev/colab-wheels/public/simple/\n",
            "Requirement already satisfied: fastnumbers in /usr/local/lib/python3.7/dist-packages (3.2.1)\n",
            "Looking in indexes: https://pypi.org/simple, https://us-python.pkg.dev/colab-wheels/public/simple/\n",
            "Collecting pytidylib\n",
            "  Downloading pytidylib-0.3.2.tar.gz (87 kB)\n",
            "\u001b[K     |████████████████████████████████| 87 kB 3.9 MB/s \n",
            "\u001b[?25hBuilding wheels for collected packages: pytidylib\n",
            "  Building wheel for pytidylib (setup.py) ... \u001b[?25l\u001b[?25hdone\n",
            "  Created wheel for pytidylib: filename=pytidylib-0.3.2-py3-none-any.whl size=8564 sha256=a89e60344b4d2b6212e4e7fd2cc0a040d05e50a9e2c7f8c019c47376f6a745d2\n",
            "  Stored in directory: /root/.cache/pip/wheels/31/22/54/7f13131eb68ef3457b29ae9bd3e546140224f88d9087eb7998\n",
            "Successfully built pytidylib\n",
            "Installing collected packages: pytidylib\n",
            "Successfully installed pytidylib-0.3.2\n"
          ]
        }
      ]
    },
    {
      "cell_type": "code",
      "source": [
        "import requests # for http requests\n",
        "from bs4 import BeautifulSoup # for html parsing and scraping\n",
        "from fastnumbers import isfloat \n",
        "from fastnumbers import fast_float\n",
        "from multiprocessing.dummy import Pool as ThreadPool \n",
        "import bs4\n",
        "\n",
        "import matplotlib.pyplot as plt\n",
        "import seaborn as sns\n",
        "import json\n",
        "from tidylib import tidy_document # for tidying incorrect html\n",
        "\n",
        "sns.set_style('whitegrid')\n",
        "%matplotlib inline\n",
        "from IPython.core.interactiveshell import InteractiveShell\n",
        "InteractiveShell.ast_node_interactivity = \"all\""
      ],
      "metadata": {
        "id": "2TvGs9EA0-3c"
      },
      "execution_count": 9,
      "outputs": []
    },
    {
      "cell_type": "code",
      "source": [
        "url = \"https://jsonplaceholder.typicode.com/posts/1\"\n",
        "response = requests.get(url, timeout=240)\n",
        "response.status_code\n",
        "response.json()\n",
        "\n",
        "content = response.json()\n",
        "content.keys()"
      ],
      "metadata": {
        "colab": {
          "base_uri": "https://localhost:8080/"
        },
        "id": "DrmPwrzY2Tj4",
        "outputId": "018d8e88-a677-41f5-c7ed-436fb131d8ba"
      },
      "execution_count": 16,
      "outputs": [
        {
          "output_type": "execute_result",
          "data": {
            "text/plain": [
              "200"
            ]
          },
          "metadata": {},
          "execution_count": 16
        },
        {
          "output_type": "execute_result",
          "data": {
            "text/plain": [
              "{'body': 'quia et suscipit\\nsuscipit recusandae consequuntur expedita et cum\\nreprehenderit molestiae ut ut quas totam\\nnostrum rerum est autem sunt rem eveniet architecto',\n",
              " 'id': 1,\n",
              " 'title': 'sunt aut facere repellat provident occaecati excepturi optio reprehenderit',\n",
              " 'userId': 1}"
            ]
          },
          "metadata": {},
          "execution_count": 16
        },
        {
          "output_type": "execute_result",
          "data": {
            "text/plain": [
              "dict_keys(['userId', 'id', 'title', 'body'])"
            ]
          },
          "metadata": {},
          "execution_count": 16
        }
      ]
    },
    {
      "cell_type": "code",
      "source": [
        "response = requests.get(\"http://www.example.com/\", timeout=240)\n",
        "response.status_code\n",
        "response.content"
      ],
      "metadata": {
        "colab": {
          "base_uri": "https://localhost:8080/"
        },
        "id": "7YD0M_WN14ZJ",
        "outputId": "a64ba597-0699-4eb9-b48d-ba3e9ec558c6"
      },
      "execution_count": 17,
      "outputs": [
        {
          "output_type": "execute_result",
          "data": {
            "text/plain": [
              "200"
            ]
          },
          "metadata": {},
          "execution_count": 17
        },
        {
          "output_type": "execute_result",
          "data": {
            "text/plain": [
              "b'<!doctype html>\\n<html>\\n<head>\\n    <title>Example Domain</title>\\n\\n    <meta charset=\"utf-8\" />\\n    <meta http-equiv=\"Content-type\" content=\"text/html; charset=utf-8\" />\\n    <meta name=\"viewport\" content=\"width=device-width, initial-scale=1\" />\\n    <style type=\"text/css\">\\n    body {\\n        background-color: #f0f0f2;\\n        margin: 0;\\n        padding: 0;\\n        font-family: -apple-system, system-ui, BlinkMacSystemFont, \"Segoe UI\", \"Open Sans\", \"Helvetica Neue\", Helvetica, Arial, sans-serif;\\n        \\n    }\\n    div {\\n        width: 600px;\\n        margin: 5em auto;\\n        padding: 2em;\\n        background-color: #fdfdff;\\n        border-radius: 0.5em;\\n        box-shadow: 2px 3px 7px 2px rgba(0,0,0,0.02);\\n    }\\n    a:link, a:visited {\\n        color: #38488f;\\n        text-decoration: none;\\n    }\\n    @media (max-width: 700px) {\\n        div {\\n            margin: 0 auto;\\n            width: auto;\\n        }\\n    }\\n    </style>    \\n</head>\\n\\n<body>\\n<div>\\n    <h1>Example Domain</h1>\\n    <p>This domain is for use in illustrative examples in documents. You may use this\\n    domain in literature without prior coordination or asking for permission.</p>\\n    <p><a href=\"https://www.iana.org/domains/example\">More information...</a></p>\\n</div>\\n</body>\\n</html>\\n'"
            ]
          },
          "metadata": {},
          "execution_count": 17
        }
      ]
    },
    {
      "cell_type": "code",
      "source": [
        "from IPython.core.display import HTML\n",
        "HTML(\"<b>Rendered HTML</b>\")"
      ],
      "metadata": {
        "colab": {
          "base_uri": "https://localhost:8080/",
          "height": 34
        },
        "id": "8UVqHgNy2B7R",
        "outputId": "2bcafbbb-4ee3-4c84-968f-fd4e998cac0e"
      },
      "execution_count": 18,
      "outputs": [
        {
          "output_type": "execute_result",
          "data": {
            "text/plain": [
              "<IPython.core.display.HTML object>"
            ],
            "text/html": [
              "<b>Rendered HTML</b>"
            ]
          },
          "metadata": {},
          "execution_count": 18
        }
      ]
    },
    {
      "cell_type": "code",
      "source": [
        "ticker = str(input(\"Enter the Ticker Name : \")) # DN, TCS, ONG\n",
        "page_response = requests.get(\"https://www.moneycontrol.com/india/stockpricequote/auto-2-3-wheelers/heromotocorp/\"+ticker, timeout=240)\n",
        "page_content = BeautifulSoup(page_response.content, \"html.parser\")\n",
        "HTML(str(page_content.find(\"h1\")))\n",
        "print(\"Price (NSE) : \")\n",
        "HTML(str(page_content.find(\"div\",attrs={'id':\"nsecp\"})))\n",
        "print(\"Price Change (NSE) : \")\n",
        "HTML(str(page_content.find(\"div\",attrs={'id':\"nsechange\"})))\n",
        "print(\"Stock Details :\")\n",
        "HTML(str(page_content.find(\"div\",attrs={'id':\"stk_overview\"})))"
      ],
      "metadata": {
        "colab": {
          "base_uri": "https://localhost:8080/",
          "height": 611
        },
        "id": "hJ868KA85rPK",
        "outputId": "f6b5457f-b43a-4c04-f727-d786661ff8a7"
      },
      "execution_count": 96,
      "outputs": [
        {
          "name": "stdout",
          "output_type": "stream",
          "text": [
            "Enter the Ticker Name : GA\n"
          ]
        },
        {
          "output_type": "execute_result",
          "data": {
            "text/plain": [
              "<IPython.core.display.HTML object>"
            ],
            "text/html": [
              "<h1>Butterfly Gandhimathi Appliances Ltd.</h1>"
            ]
          },
          "metadata": {},
          "execution_count": 96
        },
        {
          "output_type": "stream",
          "name": "stdout",
          "text": [
            "Price (NSE) : \n"
          ]
        },
        {
          "output_type": "execute_result",
          "data": {
            "text/plain": [
              "<IPython.core.display.HTML object>"
            ],
            "text/html": [
              "<div class=\"inprice1 nsecp\" id=\"nsecp\" rel=\"1085.10\">1,085.10</div>"
            ]
          },
          "metadata": {},
          "execution_count": 96
        },
        {
          "output_type": "stream",
          "name": "stdout",
          "text": [
            "Price Change (NSE) : \n"
          ]
        },
        {
          "output_type": "execute_result",
          "data": {
            "text/plain": [
              "<IPython.core.display.HTML object>"
            ],
            "text/html": [
              "<div class=\"pricupdn nsechange red\" id=\"nsechange\"><span class=\"reddownarow\"></span>-11.70 (-1.07%)</div>"
            ]
          },
          "metadata": {},
          "execution_count": 96
        },
        {
          "output_type": "stream",
          "name": "stdout",
          "text": [
            "Stock Details :\n"
          ]
        },
        {
          "output_type": "execute_result",
          "data": {
            "text/plain": [
              "<IPython.core.display.HTML object>"
            ],
            "text/html": [
              "<div class=\"clearfix\" id=\"stk_overview\">\n",
              "<div class=\"nsestock_overview bsestock_overview\">\n",
              "<div class=\"mob-hide\">\n",
              "<div class=\"oview_table\">\n",
              "<table border=\"0\" cellpadding=\"0\" cellspacing=\"0\" width=\"100%\">\n",
              "<tbody>\n",
              "<tr><td>Open</td><td class=\"nseopn bseopn\">1,100.00</td></tr>\n",
              "<tr><td>Previous Close</td><td class=\"nseprvclose bseprvclose\">1,096.80</td></tr>\n",
              "<tr><td>Volume</td><td class=\"nsevol bsevol\">5,675.00</td></tr>\n",
              "<tr><td>Value (Lacs)</td><td class=\"nsevalue bsevalue\">61.58</td></tr>\n",
              "<tr><td>\n",
              "<span class=\"info_icn\" data-target=\"#VWAP\" data-toggle=\"modal\" onclick=\"show_vwap_cp_chart('BSE');\" style=\"vertical-align:text-top; cursor: pointer;\">\n",
              "<svg id=\"info\" viewbox=\"0 0 15.274 15.274\" width=\"14\" xmlns=\"http://www.w3.org/2000/svg\">\n",
              "<g data-name=\"Ellipse 278\" fill=\"none\" id=\"Ellipse_278\" stroke=\"#333\" stroke-width=\"1\" transform=\"translate(0 0)\">\n",
              "<circle cx=\"7.637\" cy=\"7.637\" r=\"7.637\" stroke=\"none\"></circle>\n",
              "<circle cx=\"7.637\" cy=\"7.637\" fill=\"none\" r=\"7.137\"></circle>\n",
              "</g>\n",
              "<text fill=\"#444\" font-family=\"Lato-Heavy, Lato\" font-size=\"11\" font-weight=\"800\" id=\"i\" transform=\"translate(6.221 12.194)\"><tspan x=\"0\" y=\"0\">i</tspan></text>\n",
              "</svg>\n",
              "</span> VWAP\n",
              "                        </td>\n",
              "<td class=\"nsevwap bsevwap\">1,095.50</td></tr>\n",
              "<tr><td>Beta</td><td><span class=\"nsebeta\">0.13</span><span class=\"bsebeta\">0.10</span></td></tr>\n",
              "</tbody>\n",
              "</table>\n",
              "</div>\n",
              "<div class=\"oview_table\">\n",
              "<table border=\"0\" cellpadding=\"0\" cellspacing=\"0\" width=\"100%\">\n",
              "<tbody>\n",
              "<tr><td>High</td><td class=\"nseHP bseHP\">1,116.75</td></tr>\n",
              "<tr><td>Low</td><td class=\"nseLP bseLP\">1,078.00</td></tr>\n",
              "<tr><td>UC Limit</td><td class=\"nseupper_circuit_limit bseupper_circuit_limit\">1,316.15</td></tr>\n",
              "<tr><td>LC Limit</td><td class=\"nselower_circuit_limit bselower_circuit_limit\">877.45</td></tr>\n",
              "<tr><td>52 Week High</td><td class=\"nseH52 bseH52\">1,477.80</td></tr>\n",
              "<tr><td>52 Week Low</td><td class=\"nseL52 bseL52\">654.50</td></tr>\n",
              "</tbody>\n",
              "</table>\n",
              "</div>\n",
              "<div class=\"oview_table\">\n",
              "<table border=\"0\" cellpadding=\"0\" cellspacing=\"0\" width=\"100%\">\n",
              "<tbody>\n",
              "<!-- <tr><td>TTM EPS</td><td class=\"nseceps bseceps\" >--</td></tr> -->\n",
              "<tr><td>TTM EPS</td><td class=\"nseceps bseceps\">0.00</td></tr>\n",
              "<tr><td>TTM PE</td><td class=\"nsepe bsepe\">--</td></tr>\n",
              "<tr><td>Sector PE</td><td class=\"nsesc_ttm bsesc_ttm\">35.72</td></tr>\n",
              "<tr><td>Book Value Per Share</td><td class=\"nsebv bsebv\">--</td></tr>\n",
              "<tr><td>P/B</td><td class=\"nsepb bsepb\">0.00</td></tr>\n",
              "<tr><td>Face Value</td><td class=\"nsefv bsefv\">10.00</td></tr>\n",
              "</tbody>\n",
              "</table>\n",
              "</div>\n",
              "<div class=\"oview_table\">\n",
              "<table border=\"0\" cellpadding=\"0\" cellspacing=\"0\" width=\"100%\">\n",
              "<tbody>\n",
              "<tr><td>Mkt Cap (Rs. Cr.)</td><td class=\"nsemktcap bsemktcap\">1,940</td></tr>\n",
              "<tr><td>Dividend Yield</td><td class=\"nsedy bsedy\">0.28</td></tr>\n",
              "<tr><td>20D Avg Volume</td><td class=\"nsev20a bsev20a\">55,109</td></tr>\n",
              "<tr><td>20D Avg Delivery(%)</td><td class=\"nsed20ad bsed20ad\">41.88</td></tr>\n",
              "<!-- <tr><td>P/C</td><td class=\"nsep_c bsep_c\" >--</td></tr> -->\n",
              "</tbody>\n",
              "</table>\n",
              "</div>\n",
              "</div>\n",
              "<style>\n",
              ".vmappop .modal-dialog { width:850px;}\n",
              ".vwap_chartbx { max-width:580px; margin: 0 auto;}\n",
              "@media all and (max-width:980px){\n",
              ".vmappop .modal-dialog { width:auto;}   \n",
              "}\n",
              "</style>\n",
              "<div class=\"modal vmappop fade in\" id=\"VWAP\" role=\"dialog\">\n",
              "<div class=\"modal-dialog\">\n",
              "<!-- Modal content-->\n",
              "<div class=\"modal-content\">\n",
              "<button class=\"close\" data-dismiss=\"modal\" type=\"button\"><svg aria-hidden=\"true\" data-icon=\"times\" data-prefix=\"fas\" focusable=\"false\" role=\"img\" viewbox=\"0 0 352 512\" width=\"16\" xmlns=\"http://www.w3.org/2000/svg\"><path d=\"M242.72 256l100.07-100.07c12.28-12.28 12.28-32.19 0-44.48l-22.24-22.24c-12.28-12.28-32.19-12.28-44.48 0L176 189.28 75.93 89.21c-12.28-12.28-32.19-12.28-44.48 0L9.21 111.45c-12.28 12.28-12.28 32.19 0 44.48L109.28 256 9.21 356.07c-12.28 12.28-12.28 32.19 0 44.48l22.24 22.24c12.28 12.28 32.2 12.28 44.48 0L176 322.72l100.07 100.07c12.28 12.28 32.2 12.28 44.48 0l22.24-22.24c12.28-12.28 12.28-32.19 0-44.48L242.72 256z\" fill=\"currentColor\"></path></svg></button>\n",
              "<div class=\"clearfix\">\n",
              "<div class=\"pc_modalheader\"><div class=\"pc_modaltitle\">VWAP And Current Price Comparison</div>\n",
              "</div>\n",
              "<div class=\"vwap_chartbx\" id=\"bse_vwap_cp_chart\"></div>\n",
              "</div>\n",
              "</div>\n",
              "</div>\n",
              "</div>\n",
              "</div>\n",
              "</div>"
            ]
          },
          "metadata": {},
          "execution_count": 96
        }
      ]
    },
    {
      "cell_type": "code",
      "source": [
        "page_response = requests.get(\"https://www.moneycontrol.com/india/stockpricequote/auto-2-3-wheelers/heromotocorp/HHM\", timeout=240)\n",
        "page_content = BeautifulSoup(page_response.content, \"html.parser\")\n",
        "price_div = page_content.find(\"td\",attrs={\"class\":'nsedy bsedy'})\n",
        "HTML(str(price_div))"
      ],
      "metadata": {
        "colab": {
          "base_uri": "https://localhost:8080/",
          "height": 34
        },
        "id": "g3lbBirU2LaZ",
        "outputId": "6f256b96-741f-4c19-f692-0ba78d12e461"
      },
      "execution_count": 73,
      "outputs": [
        {
          "output_type": "execute_result",
          "data": {
            "text/plain": [
              "<IPython.core.display.HTML object>"
            ],
            "text/html": [
              "<td class=\"nsedy bsedy\">3.57</td>"
            ]
          },
          "metadata": {},
          "execution_count": 73
        }
      ]
    }
  ]
}