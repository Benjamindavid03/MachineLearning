{
  "nbformat": 4,
  "nbformat_minor": 0,
  "metadata": {
    "colab": {
      "name": "Web Scrapper.ipynb",
      "provenance": [],
      "collapsed_sections": [],
      "authorship_tag": "ABX9TyNDp62IU2MHfMiFMIkgJaH8",
      "include_colab_link": true
    },
    "kernelspec": {
      "name": "python3",
      "display_name": "Python 3"
    },
    "language_info": {
      "name": "python"
    }
  },
  "cells": [
    {
      "cell_type": "markdown",
      "metadata": {
        "id": "view-in-github",
        "colab_type": "text"
      },
      "source": [
        "<a href=\"https://colab.research.google.com/github/Benjamindavid03/MachineLearningLab/blob/main/Web_Scrapper.ipynb\" target=\"_parent\"><img src=\"https://colab.research.google.com/assets/colab-badge.svg\" alt=\"Open In Colab\"/></a>"
      ]
    },
    {
      "cell_type": "code",
      "execution_count": null,
      "metadata": {
        "id": "IPlbHWgVgtUb"
      },
      "outputs": [],
      "source": [
        "!pip install BeautifulSoup\n",
        "!pip install urllib2\n",
        "from bs4 import BeautifulSoup\n",
        "from urllib.request import urlopen"
      ]
    },
    {
      "cell_type": "code",
      "source": [
        "url = str(input(\"Enter the website to scrap\"))"
      ],
      "metadata": {
        "id": "kxx4DF4yqRb6"
      },
      "execution_count": null,
      "outputs": []
    },
    {
      "cell_type": "markdown",
      "source": [
        "## Getting html code from website"
      ],
      "metadata": {
        "id": "o1UAjn1xlQb_"
      }
    },
    {
      "cell_type": "code",
      "source": [
        "html_page = urlopen(url).read()\n",
        "soup = BeautifulSoup(html_page)\n",
        "print(soup)"
      ],
      "metadata": {
        "id": "HGQoLIfmqGMZ"
      },
      "execution_count": null,
      "outputs": []
    },
    {
      "cell_type": "markdown",
      "source": [
        "## Getting all the images from the website"
      ],
      "metadata": {
        "id": "tEli76nZlOKX"
      }
    },
    {
      "cell_type": "code",
      "source": [
        "soup = BeautifulSoup(html_page)\n",
        "images = []\n",
        "for img in soup.findAll('img'):\n",
        "    if img.get('src') != \"\":\n",
        "      images.append(img.get('src'))\n",
        "print(images)"
      ],
      "metadata": {
        "colab": {
          "base_uri": "https://localhost:8080/"
        },
        "id": "WI7SztDHlDmI",
        "outputId": "2cf67159-f9f9-41fd-f626-24b45c401196"
      },
      "execution_count": 66,
      "outputs": [
        {
          "output_type": "stream",
          "name": "stdout",
          "text": [
            "['https://avatars.githubusercontent.com/u/3227458?s=64&v=4', 'https://avatars.githubusercontent.com/u/3227458?s=64&v=4', 'https://avatars.githubusercontent.com/u/3227458?v=4', 'https://github.githubassets.com/images/modules/profile/achievements/arctic-code-vault-contributor-default.png', 'https://github.githubassets.com/images/modules/profile/achievements/arctic-code-vault-contributor-default.png']\n"
          ]
        }
      ]
    },
    {
      "cell_type": "markdown",
      "source": [
        "## Getting all the links from the website"
      ],
      "metadata": {
        "id": "rs5DqoIVlLDP"
      }
    },
    {
      "cell_type": "code",
      "source": [
        "soup = BeautifulSoup(html_page)\n",
        "images = []\n",
        "for img in soup.findAll('a'):\n",
        "    images.append(img.get('href'))\n",
        "print(images)"
      ],
      "metadata": {
        "colab": {
          "base_uri": "https://localhost:8080/"
        },
        "id": "auHnGlZFlGDn",
        "outputId": "65362266-7682-49ac-cd76-11ee6dc06268"
      },
      "execution_count": 58,
      "outputs": [
        {
          "output_type": "stream",
          "name": "stdout",
          "text": [
            "['http://www.google.com/imghp?hl=en&tab=wi', 'http://maps.google.com/maps?hl=en&tab=wl', 'https://play.google.com/?hl=en&tab=w8', 'http://www.youtube.com/?gl=US&tab=w1', 'https://news.google.com/?tab=wn', 'https://mail.google.com/mail/?tab=wm', 'https://drive.google.com/?tab=wo', 'https://www.google.com/intl/en/about/products?tab=wh', 'http://www.google.com/history/optout?hl=en', '/preferences?hl=en', 'https://accounts.google.com/ServiceLogin?hl=en&passive=true&continue=http://www.google.com/&ec=GAZAAQ', '/advanced_search?hl=en&authuser=0', '/intl/en/ads/', '/services/', '/intl/en/about.html', '/intl/en/policies/privacy/', '/intl/en/policies/terms/']\n"
          ]
        }
      ]
    }
  ]
}