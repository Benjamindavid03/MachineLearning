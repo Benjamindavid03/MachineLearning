{
  "nbformat": 4,
  "nbformat_minor": 0,
  "metadata": {
    "colab": {
      "name": "GBT in pySpark.ipynb",
      "provenance": [],
      "collapsed_sections": [],
      "authorship_tag": "ABX9TyMgp/P1K0D4dYc5eDMlEmxb",
      "include_colab_link": true
    },
    "kernelspec": {
      "name": "python3",
      "display_name": "Python 3"
    },
    "language_info": {
      "name": "python"
    }
  },
  "cells": [
    {
      "cell_type": "markdown",
      "metadata": {
        "id": "view-in-github",
        "colab_type": "text"
      },
      "source": [
        "<a href=\"https://colab.research.google.com/github/Benjamindavid03/MachineLearningLab/blob/main/GBT_in_pySpark.ipynb\" target=\"_parent\"><img src=\"https://colab.research.google.com/assets/colab-badge.svg\" alt=\"Open In Colab\"/></a>"
      ]
    },
    {
      "cell_type": "markdown",
      "source": [
        "# Gradient Boosted Trees in pySpark"
      ],
      "metadata": {
        "id": "s_fDXdeTpcJT"
      }
    },
    {
      "cell_type": "code",
      "source": [
        "!apt-get install openjdk-8-jdk-headless -qq > /dev/null\n",
        "!wget -q https://downloads.apache.org/spark/spark-3.0.3/spark-3.0.3-bin-hadoop2.7.tgz\n",
        "!tar xf spark-3.0.3-bin-hadoop2.7.tgz\n",
        "!pip install -q findspark\n",
        "\n",
        "import os\n",
        "os.environ[\"JAVA_HOME\"] = \"/usr/lib/jvm/java-8-openjdk-amd64\"\n",
        "os.environ[\"SPARK_HOME\"] = \"/content/spark-3.0.3-bin-hadoop2.7\"\n",
        "!export SPARK_HOME=/content/spark-3.0.3-bin-hadoop2.7\n",
        "! echo $SPARK_HOME"
      ],
      "metadata": {
        "colab": {
          "base_uri": "https://localhost:8080/"
        },
        "id": "JGG74sBTpAVH",
        "outputId": "319336b1-8e8a-4f6d-99eb-62e50dc2bb0e"
      },
      "execution_count": 4,
      "outputs": [
        {
          "output_type": "stream",
          "name": "stdout",
          "text": [
            "/content/spark-3.0.3-bin-hadoop2.7\n"
          ]
        }
      ]
    },
    {
      "cell_type": "code",
      "source": [
        "import findspark\n",
        "findspark.init()"
      ],
      "metadata": {
        "id": "DKnXXCLLpMaQ"
      },
      "execution_count": 6,
      "outputs": []
    },
    {
      "cell_type": "code",
      "execution_count": 7,
      "metadata": {
        "id": "-nQn-LfeoyVS"
      },
      "outputs": [],
      "source": [
        "from pyspark import SparkContext\n",
        "from pyspark.sql import SQLContext\n",
        "from pyspark.ml.classification import GBTClassifier\n",
        "from pyspark.ml.evaluation import MulticlassClassificationEvaluator\n",
        "from pyspark.ml.feature import VectorAssembler\n",
        "from sklearn.metrics import confusion_matrix\n",
        "from sklearn.datasets import load_breast_cancer\n",
        "from pandas import DataFrame, Series"
      ]
    },
    {
      "cell_type": "code",
      "source": [
        "bc = load_breast_cancer()\n",
        "\n",
        "df_bc = DataFrame(bc.data, columns=bc.feature_names)\n",
        "df_bc['label'] = Series(bc.target)\n",
        "print(df_bc.head())\n",
        "\n",
        "sc = SparkContext().getOrCreate()\n",
        "sqlContext = SQLContext(sc)\n",
        "\n",
        "data = sqlContext.createDataFrame(df_bc)\n",
        "print(data.printSchema())\n",
        "\n",
        "features = bc.feature_names\n",
        "\n",
        "va = VectorAssembler(inputCols = features, outputCol='features')\n",
        "\n",
        "va_df = va.transform(data)\n",
        "va_df = va_df.select(['features', 'label'])\n",
        "va_df.show(3)"
      ],
      "metadata": {
        "colab": {
          "base_uri": "https://localhost:8080/"
        },
        "id": "7ABH_MsGo2vQ",
        "outputId": "d5f24db2-f8a4-4f02-b53c-4594ec045c15"
      },
      "execution_count": 8,
      "outputs": [
        {
          "output_type": "stream",
          "name": "stdout",
          "text": [
            "   mean radius  mean texture  mean perimeter  mean area  mean smoothness  \\\n",
            "0        17.99         10.38          122.80     1001.0          0.11840   \n",
            "1        20.57         17.77          132.90     1326.0          0.08474   \n",
            "2        19.69         21.25          130.00     1203.0          0.10960   \n",
            "3        11.42         20.38           77.58      386.1          0.14250   \n",
            "4        20.29         14.34          135.10     1297.0          0.10030   \n",
            "\n",
            "   mean compactness  mean concavity  mean concave points  mean symmetry  \\\n",
            "0           0.27760          0.3001              0.14710         0.2419   \n",
            "1           0.07864          0.0869              0.07017         0.1812   \n",
            "2           0.15990          0.1974              0.12790         0.2069   \n",
            "3           0.28390          0.2414              0.10520         0.2597   \n",
            "4           0.13280          0.1980              0.10430         0.1809   \n",
            "\n",
            "   mean fractal dimension  ...  worst texture  worst perimeter  worst area  \\\n",
            "0                 0.07871  ...          17.33           184.60      2019.0   \n",
            "1                 0.05667  ...          23.41           158.80      1956.0   \n",
            "2                 0.05999  ...          25.53           152.50      1709.0   \n",
            "3                 0.09744  ...          26.50            98.87       567.7   \n",
            "4                 0.05883  ...          16.67           152.20      1575.0   \n",
            "\n",
            "   worst smoothness  worst compactness  worst concavity  worst concave points  \\\n",
            "0            0.1622             0.6656           0.7119                0.2654   \n",
            "1            0.1238             0.1866           0.2416                0.1860   \n",
            "2            0.1444             0.4245           0.4504                0.2430   \n",
            "3            0.2098             0.8663           0.6869                0.2575   \n",
            "4            0.1374             0.2050           0.4000                0.1625   \n",
            "\n",
            "   worst symmetry  worst fractal dimension  label  \n",
            "0          0.4601                  0.11890      0  \n",
            "1          0.2750                  0.08902      0  \n",
            "2          0.3613                  0.08758      0  \n",
            "3          0.6638                  0.17300      0  \n",
            "4          0.2364                  0.07678      0  \n",
            "\n",
            "[5 rows x 31 columns]\n",
            "root\n",
            " |-- mean radius: double (nullable = true)\n",
            " |-- mean texture: double (nullable = true)\n",
            " |-- mean perimeter: double (nullable = true)\n",
            " |-- mean area: double (nullable = true)\n",
            " |-- mean smoothness: double (nullable = true)\n",
            " |-- mean compactness: double (nullable = true)\n",
            " |-- mean concavity: double (nullable = true)\n",
            " |-- mean concave points: double (nullable = true)\n",
            " |-- mean symmetry: double (nullable = true)\n",
            " |-- mean fractal dimension: double (nullable = true)\n",
            " |-- radius error: double (nullable = true)\n",
            " |-- texture error: double (nullable = true)\n",
            " |-- perimeter error: double (nullable = true)\n",
            " |-- area error: double (nullable = true)\n",
            " |-- smoothness error: double (nullable = true)\n",
            " |-- compactness error: double (nullable = true)\n",
            " |-- concavity error: double (nullable = true)\n",
            " |-- concave points error: double (nullable = true)\n",
            " |-- symmetry error: double (nullable = true)\n",
            " |-- fractal dimension error: double (nullable = true)\n",
            " |-- worst radius: double (nullable = true)\n",
            " |-- worst texture: double (nullable = true)\n",
            " |-- worst perimeter: double (nullable = true)\n",
            " |-- worst area: double (nullable = true)\n",
            " |-- worst smoothness: double (nullable = true)\n",
            " |-- worst compactness: double (nullable = true)\n",
            " |-- worst concavity: double (nullable = true)\n",
            " |-- worst concave points: double (nullable = true)\n",
            " |-- worst symmetry: double (nullable = true)\n",
            " |-- worst fractal dimension: double (nullable = true)\n",
            " |-- label: long (nullable = true)\n",
            "\n",
            "None\n",
            "+--------------------+-----+\n",
            "|            features|label|\n",
            "+--------------------+-----+\n",
            "|[17.99,10.38,122....|    0|\n",
            "|[20.57,17.77,132....|    0|\n",
            "|[19.69,21.25,130....|    0|\n",
            "+--------------------+-----+\n",
            "only showing top 3 rows\n",
            "\n"
          ]
        }
      ]
    },
    {
      "cell_type": "code",
      "source": [
        "# split data into train and test \n",
        "(train, test) = va_df.randomSplit([0.9, 0.1])\n",
        "\n",
        "# training \n",
        "gbtc = GBTClassifier(labelCol=\"label\", maxIter=10)\n",
        "gbtc = gbtc.fit(train)\n",
        "\n",
        "# prediction\n",
        "pred = gbtc.transform(test)\n",
        "pred.show(3)\n",
        "\n",
        "# accucary check\n",
        "evaluator=MulticlassClassificationEvaluator(metricName=\"accuracy\")\n",
        "acc = evaluator.evaluate(pred)\n",
        "print(\"Prediction Accuracy: \", acc)\n",
        "\n",
        "# confusion matrix\n",
        "y_pred=pred.select(\"prediction\").collect()\n",
        "y_orig=pred.select(\"label\").collect()\n",
        "\n",
        "cm = confusion_matrix(y_orig, y_pred)\n",
        "print(\"Confusion Matrix:\")\n",
        "print(cm)\n",
        "\n",
        "sc.stop() \n"
      ],
      "metadata": {
        "colab": {
          "base_uri": "https://localhost:8080/"
        },
        "id": "iHmss6k2o6Hw",
        "outputId": "8eedffac-d520-4ae2-c05b-54b56922a321"
      },
      "execution_count": 9,
      "outputs": [
        {
          "output_type": "stream",
          "name": "stdout",
          "text": [
            "+--------------------+-----+--------------------+--------------------+----------+\n",
            "|            features|label|       rawPrediction|         probability|prediction|\n",
            "+--------------------+-----+--------------------+--------------------+----------+\n",
            "|[8.888,14.64,58.7...|    1|[-1.3212085674231...|[0.06645791623833...|       1.0|\n",
            "|[9.029,17.33,58.7...|    1|[-1.0936976871069...|[0.10088811290760...|       1.0|\n",
            "|[9.504,12.44,60.3...|    1|[-1.3212085674231...|[0.06645791623833...|       1.0|\n",
            "+--------------------+-----+--------------------+--------------------+----------+\n",
            "only showing top 3 rows\n",
            "\n",
            "Prediction Accuracy:  0.96\n",
            "Confusion Matrix:\n",
            "[[19  2]\n",
            " [ 0 29]]\n"
          ]
        }
      ]
    }
  ]
}