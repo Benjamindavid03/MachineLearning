{
  "nbformat": 4,
  "nbformat_minor": 0,
  "metadata": {
    "colab": {
      "name": "Decision Tree Implementation - Fruit Classification.ipynb",
      "provenance": [],
      "collapsed_sections": [],
      "toc_visible": true,
      "authorship_tag": "ABX9TyNPjzyRgH8G0MdJW1JhANeB",
      "include_colab_link": true
    },
    "kernelspec": {
      "name": "python3",
      "display_name": "Python 3"
    },
    "language_info": {
      "name": "python"
    }
  },
  "cells": [
    {
      "cell_type": "markdown",
      "metadata": {
        "id": "view-in-github",
        "colab_type": "text"
      },
      "source": [
        "<a href=\"https://colab.research.google.com/github/Benjamindavid03/MachineLearningLab/blob/main/Decision_Tree_Implementation_Fruit_Classification.ipynb\" target=\"_parent\"><img src=\"https://colab.research.google.com/assets/colab-badge.svg\" alt=\"Open In Colab\"/></a>"
      ]
    },
    {
      "cell_type": "markdown",
      "source": [
        "# Decision Tree Classification\n",
        "Decision Tree Induction Algorithm for classification"
      ],
      "metadata": {
        "id": "Wb6Y4A2Hf1SF"
      }
    },
    {
      "cell_type": "markdown",
      "source": [
        "## Dataset - Fruit Dataset.\n",
        "### Dataset Format: \n",
        "1. Each row is an example.\n",
        "2. The last column is the label.\n",
        "3. The first two columns are features.\n",
        "<p> <b>Interesting note:</b> I've written this so the 2nd and 5th examples have the same features, but different labels - so we can see how the tree handles this case.</p>"
      ],
      "metadata": {
        "id": "G8E9yKJefgZN"
      }
    },
    {
      "cell_type": "code",
      "execution_count": 147,
      "metadata": {
        "id": "e0ifFuPefbwW"
      },
      "outputs": [],
      "source": [
        "training_data = [\n",
        "    ['Green', 3, 'Apple'],\n",
        "    ['Yellow', 3, 'Apple'],\n",
        "    ['Red', 1, 'Grape'],\n",
        "    ['Red', 1, 'Grape'],\n",
        "    ['Yellow', 3, 'Lemon'],\n",
        "]"
      ]
    },
    {
      "cell_type": "markdown",
      "source": [
        "Column labels.\n",
        "\n",
        "These are used only to print the tree."
      ],
      "metadata": {
        "id": "ruxdqKLUf7N0"
      }
    },
    {
      "cell_type": "code",
      "source": [
        "header = [\"color\", \"diameter\", \"label\"]"
      ],
      "metadata": {
        "id": "Jw2um0wAf6Sc"
      },
      "execution_count": 148,
      "outputs": []
    },
    {
      "cell_type": "markdown",
      "source": [
        "## Utility classes and functions\n",
        "Classes and functions that act as utility classes and utility methods"
      ],
      "metadata": {
        "id": "KGVlhdjMlNHy"
      }
    },
    {
      "cell_type": "markdown",
      "source": [
        "Function : Find the unique values for a column in a dataset"
      ],
      "metadata": {
        "id": "mihWcr7YlfNi"
      }
    },
    {
      "cell_type": "code",
      "source": [
        "def unique_vals(rows, col):\n",
        "    return set([row[col] for row in rows])\n",
        "#######\n",
        "# Demo:\n",
        "unique_vals(training_data, 0)\n",
        "# unique_vals(training_data, 1)\n",
        "#######"
      ],
      "metadata": {
        "colab": {
          "base_uri": "https://localhost:8080/"
        },
        "id": "Cx4917LEgD2M",
        "outputId": "58222c6e-8d5e-46ae-b0e1-2f8d7a5f32e8"
      },
      "execution_count": 149,
      "outputs": [
        {
          "output_type": "execute_result",
          "data": {
            "text/plain": [
              "{'Green', 'Red', 'Yellow'}"
            ]
          },
          "metadata": {},
          "execution_count": 149
        }
      ]
    },
    {
      "cell_type": "markdown",
      "source": [
        "Function : Counts the number of each type of example in a dataset"
      ],
      "metadata": {
        "id": "nWFPex7QlkDZ"
      }
    },
    {
      "cell_type": "code",
      "source": [
        "def class_counts(rows):\n",
        "    counts = {}  # a dictionary of label -> count.\n",
        "    for row in rows:\n",
        "        # in our dataset format, the label is always the last column\n",
        "        label = row[-1]\n",
        "        if label not in counts:\n",
        "            counts[label] = 0\n",
        "        counts[label] += 1\n",
        "    return counts\n",
        "#######\n",
        "# Demo:\n",
        "class_counts(training_data)\n",
        "#######"
      ],
      "metadata": {
        "colab": {
          "base_uri": "https://localhost:8080/"
        },
        "id": "-e9B85djgLvE",
        "outputId": "92cfc107-d7b1-40b4-cc6b-d07a50b8015c"
      },
      "execution_count": 150,
      "outputs": [
        {
          "output_type": "execute_result",
          "data": {
            "text/plain": [
              "{'Apple': 2, 'Grape': 2, 'Lemon': 1}"
            ]
          },
          "metadata": {},
          "execution_count": 150
        }
      ]
    },
    {
      "cell_type": "markdown",
      "source": [
        "Test if a value is numeric for handling diameter from Fruit dataset"
      ],
      "metadata": {
        "id": "87Ledh0ZlyV6"
      }
    },
    {
      "cell_type": "code",
      "source": [
        "def is_numeric(value):\n",
        "    return isinstance(value, int) or isinstance(value, float)\n",
        "    #######\n",
        "# Demo:\n",
        "print(is_numeric(7), is_numeric(\"Red\"))\n",
        "#######"
      ],
      "metadata": {
        "colab": {
          "base_uri": "https://localhost:8080/"
        },
        "id": "piColrXRgPME",
        "outputId": "2e49f9f8-e2c6-4a63-c7fe-0072c6ac6073"
      },
      "execution_count": 151,
      "outputs": [
        {
          "output_type": "stream",
          "name": "stdout",
          "text": [
            "True False\n"
          ]
        }
      ]
    },
    {
      "cell_type": "markdown",
      "source": [
        "A Question is used to partition a dataset.\n",
        "\n",
        "This class just records a 'column number' (e.g., 0 for Color) and a 'column value' (e.g., Green). The 'match' method is used to compare the feature value in an example to the feature value stored in the question."
      ],
      "metadata": {
        "id": "st2OR4DEl2uC"
      }
    },
    {
      "cell_type": "code",
      "source": [
        "class Question:\n",
        "    def __init__(self, column, value):\n",
        "        self.column = column\n",
        "        self.value = value\n",
        "\n",
        "    def match(self, example):\n",
        "        # Compare the feature value in an example to the\n",
        "        # feature value in this question.\n",
        "        val = example[self.column]\n",
        "        if is_numeric(val):\n",
        "            return val >= self.value\n",
        "        else:\n",
        "            return val == self.value\n",
        "\n",
        "    def __repr__(self):\n",
        "        # This is just a helper method to print\n",
        "        # the question in a readable format.\n",
        "        condition = \"==\"\n",
        "        if is_numeric(self.value):\n",
        "            condition = \">=\"\n",
        "        return \"Is %s %s %s?\" % (\n",
        "            header[self.column], condition, str(self.value))\n",
        "#######\n",
        "# Demo:\n",
        "# Let's write a question for a numeric attribute\n",
        "Question(1, 3)\n",
        "# How about one for a categorical attribute\n",
        "q = Question(0, 'Green')\n",
        "q"
      ],
      "metadata": {
        "colab": {
          "base_uri": "https://localhost:8080/"
        },
        "id": "36YvyHUcgdmM",
        "outputId": "5ce02f81-ba98-4018-f25b-8bdd653e5772"
      },
      "execution_count": 152,
      "outputs": [
        {
          "output_type": "execute_result",
          "data": {
            "text/plain": [
              "Is color == Green?"
            ]
          },
          "metadata": {},
          "execution_count": 152
        }
      ]
    },
    {
      "cell_type": "code",
      "source": [
        "# Let's pick an example from the training set...\n",
        "example = training_data[0]\n",
        "# ... and see if it matches the question\n",
        "q.match(example) # this will be true, since the first example is Green.\n",
        "#######"
      ],
      "metadata": {
        "colab": {
          "base_uri": "https://localhost:8080/"
        },
        "id": "pdbdr3s1guXr",
        "outputId": "8b1f0a2b-679d-4687-9cd5-c5973be952b2"
      },
      "execution_count": 153,
      "outputs": [
        {
          "output_type": "execute_result",
          "data": {
            "text/plain": [
              "True"
            ]
          },
          "metadata": {},
          "execution_count": 153
        }
      ]
    },
    {
      "cell_type": "markdown",
      "source": [
        "Partitions a dataset.\n",
        "\n",
        "For each row in the dataset, check if it matches the question. If so, add it to 'true rows', otherwise, add it to 'false rows'."
      ],
      "metadata": {
        "id": "8PZkwb_ImKMS"
      }
    },
    {
      "cell_type": "code",
      "source": [
        "def partition(rows, question):\n",
        "    true_rows, false_rows = [], []\n",
        "    for row in rows:\n",
        "        if question.match(row):\n",
        "            true_rows.append(row)\n",
        "        else:\n",
        "            false_rows.append(row)\n",
        "    return true_rows, false_rows\n",
        "\n",
        "\n",
        "#######\n",
        "# Demo:\n",
        "# Let's partition the training data based on whether rows are Red.\n",
        "true_rows, false_rows = partition(training_data, Question(0, 'Red'))\n",
        "# This will contain all the 'Red' rows.\n",
        "true_rows\n",
        "# This will contain everything else.\n",
        "false_rows\n",
        "#######"
      ],
      "metadata": {
        "colab": {
          "base_uri": "https://localhost:8080/"
        },
        "id": "LlBDlb7sgy67",
        "outputId": "cb78432b-b5ed-4b7e-bf2f-ddb9c1325bf8"
      },
      "execution_count": 154,
      "outputs": [
        {
          "output_type": "execute_result",
          "data": {
            "text/plain": [
              "[['Green', 3, 'Apple'], ['Yellow', 3, 'Apple'], ['Yellow', 3, 'Lemon']]"
            ]
          },
          "metadata": {},
          "execution_count": 154
        }
      ]
    },
    {
      "cell_type": "markdown",
      "source": [
        "Calculate the Gini Impurity for a list of rows.\n",
        "\n",
        "There are a few different ways to do this, I thought this one was\n",
        "the most concise. See: https://en.wikipedia.org/wiki/Decision_tree_learning#Gini_impurity"
      ],
      "metadata": {
        "id": "Mzt5nW4jmPzR"
      }
    },
    {
      "cell_type": "code",
      "source": [
        "def gini(rows):\n",
        "    counts = class_counts(rows)\n",
        "    impurity = 1\n",
        "    for lbl in counts:\n",
        "        prob_of_lbl = counts[lbl] / float(len(rows))\n",
        "        impurity -= prob_of_lbl**2\n",
        "    return impurity\n",
        "#######\n",
        "# Demo:\n",
        "# Let's look at some example to understand how Gini Impurity works.\n",
        "#\n",
        "# First, we'll look at a dataset with no mixing.\n",
        "no_mixing = [['Apple'],\n",
        "              ['Apple']]\n",
        "# this will return 0\n",
        "gini(no_mixing)"
      ],
      "metadata": {
        "colab": {
          "base_uri": "https://localhost:8080/"
        },
        "id": "UKEdWZKTg_07",
        "outputId": "ff963643-89ed-4049-a3d2-865506460d78"
      },
      "execution_count": 155,
      "outputs": [
        {
          "output_type": "execute_result",
          "data": {
            "text/plain": [
              "0.0"
            ]
          },
          "metadata": {},
          "execution_count": 155
        }
      ]
    },
    {
      "cell_type": "code",
      "source": [
        "# Now, we'll look at dataset with a 50:50 apples:oranges ratio\n",
        "some_mixing = [['Apple'],\n",
        "               ['Orange']]\n",
        "# this will return 0.5 - meaning, there's a 50% chance of misclassifying\n",
        "# a random example we draw from the dataset.\n",
        "gini(some_mixing)"
      ],
      "metadata": {
        "colab": {
          "base_uri": "https://localhost:8080/"
        },
        "id": "D0zKMYTShGkU",
        "outputId": "19a68f2e-f6ff-4eb5-f948-5282f8735291"
      },
      "execution_count": 156,
      "outputs": [
        {
          "output_type": "execute_result",
          "data": {
            "text/plain": [
              "0.5"
            ]
          },
          "metadata": {},
          "execution_count": 156
        }
      ]
    },
    {
      "cell_type": "code",
      "source": [
        "# Now, we'll look at a dataset with many different labels\n",
        "lots_of_mixing = [['Apple'],\n",
        "                  ['Orange'],\n",
        "                  ['Grape'],\n",
        "                  ['Grapefruit'],\n",
        "                  ['Blueberry']]\n",
        "# This will return 0.8\n",
        "gini(lots_of_mixing)\n",
        "#######"
      ],
      "metadata": {
        "colab": {
          "base_uri": "https://localhost:8080/"
        },
        "id": "YP3FfdXJhJFk",
        "outputId": "ebcf0c10-00f0-49ed-c3ce-f7ba57e461a3"
      },
      "execution_count": 157,
      "outputs": [
        {
          "output_type": "execute_result",
          "data": {
            "text/plain": [
              "0.7999999999999998"
            ]
          },
          "metadata": {},
          "execution_count": 157
        }
      ]
    },
    {
      "cell_type": "markdown",
      "source": [
        "Information Gain.\n",
        "\n",
        "The uncertainty of the starting node, minus the weighted impurity of two child nodes."
      ],
      "metadata": {
        "id": "QZxQNQUumbkp"
      }
    },
    {
      "cell_type": "code",
      "source": [
        "def info_gain(left, right, current_uncertainty):\n",
        "    p = float(len(left)) / (len(left) + len(right))\n",
        "    return current_uncertainty - p * gini(left) - (1 - p) * gini(right)\n",
        "\n",
        "#######\n",
        "# Demo:\n",
        "# Calculate the uncertainy of our training data.\n",
        "current_uncertainty = gini(training_data)\n",
        "current_uncertainty"
      ],
      "metadata": {
        "colab": {
          "base_uri": "https://localhost:8080/"
        },
        "id": "yfKjUuschNDL",
        "outputId": "c8614b14-29f5-4683-d594-36c867d70593"
      },
      "execution_count": 158,
      "outputs": [
        {
          "output_type": "execute_result",
          "data": {
            "text/plain": [
              "0.6399999999999999"
            ]
          },
          "metadata": {},
          "execution_count": 158
        }
      ]
    },
    {
      "cell_type": "code",
      "source": [
        "# How much information do we gain by partioning on 'Green'?\n",
        "true_rows, false_rows = partition(training_data, Question(0, 'Green'))\n",
        "info_gain(true_rows, false_rows, current_uncertainty)"
      ],
      "metadata": {
        "colab": {
          "base_uri": "https://localhost:8080/"
        },
        "id": "-oGob9XmhRmU",
        "outputId": "89c7b57e-f4cd-481a-e630-3124ee541b69"
      },
      "execution_count": 159,
      "outputs": [
        {
          "output_type": "execute_result",
          "data": {
            "text/plain": [
              "0.1399999999999999"
            ]
          },
          "metadata": {},
          "execution_count": 159
        }
      ]
    },
    {
      "cell_type": "code",
      "source": [
        "# What about if we partioned on 'Red' instead?\n",
        "true_rows, false_rows = partition(training_data, Question(0,'Red'))\n",
        "info_gain(true_rows, false_rows, current_uncertainty)"
      ],
      "metadata": {
        "colab": {
          "base_uri": "https://localhost:8080/"
        },
        "id": "tvJM2mZbhRSL",
        "outputId": "fa3a8dc7-f9b5-4660-cc0d-c7ec83d30234"
      },
      "execution_count": 160,
      "outputs": [
        {
          "output_type": "execute_result",
          "data": {
            "text/plain": [
              "0.37333333333333324"
            ]
          },
          "metadata": {},
          "execution_count": 160
        }
      ]
    },
    {
      "cell_type": "code",
      "source": [
        "# It looks like we learned more using 'Red' (0.37), than 'Green' (0.14).\n",
        "# Why? Look at the different splits that result, and see which one\n",
        "# looks more 'unmixed' to you.\n",
        "true_rows, false_rows = partition(training_data, Question(0,'Red'))\n",
        "\n",
        "# Here, the true_rows contain only 'Grapes'.\n",
        "true_rows"
      ],
      "metadata": {
        "colab": {
          "base_uri": "https://localhost:8080/"
        },
        "id": "Hu3c6IvshWyC",
        "outputId": "9c49d53a-2612-48cc-9d11-0f1d10291b9a"
      },
      "execution_count": 161,
      "outputs": [
        {
          "output_type": "execute_result",
          "data": {
            "text/plain": [
              "[['Red', 1, 'Grape'], ['Red', 1, 'Grape']]"
            ]
          },
          "metadata": {},
          "execution_count": 161
        }
      ]
    },
    {
      "cell_type": "code",
      "source": [
        "# And the false rows contain two types of fruit. Not too bad.\n",
        "false_rows"
      ],
      "metadata": {
        "colab": {
          "base_uri": "https://localhost:8080/"
        },
        "id": "Ds0oBj6jhZzd",
        "outputId": "0b342d9b-3812-47a1-f8d6-fb68a75151f2"
      },
      "execution_count": 162,
      "outputs": [
        {
          "output_type": "execute_result",
          "data": {
            "text/plain": [
              "[['Green', 3, 'Apple'], ['Yellow', 3, 'Apple'], ['Yellow', 3, 'Lemon']]"
            ]
          },
          "metadata": {},
          "execution_count": 162
        }
      ]
    },
    {
      "cell_type": "code",
      "source": [
        "# On the other hand, partitioning by Green doesn't help so much.\n",
        "true_rows, false_rows = partition(training_data, Question(0,'Green'))\n",
        "\n",
        "# We've isolated one apple in the true rows.\n",
        "true_rows"
      ],
      "metadata": {
        "colab": {
          "base_uri": "https://localhost:8080/"
        },
        "id": "8bTgqtq_hbIs",
        "outputId": "bc515818-2a6c-4be6-d220-ec8a7bfaebc5"
      },
      "execution_count": 163,
      "outputs": [
        {
          "output_type": "execute_result",
          "data": {
            "text/plain": [
              "[['Green', 3, 'Apple']]"
            ]
          },
          "metadata": {},
          "execution_count": 163
        }
      ]
    },
    {
      "cell_type": "code",
      "source": [
        "# But, the false-rows are badly mixed up.\n",
        "false_rows\n",
        "#######"
      ],
      "metadata": {
        "colab": {
          "base_uri": "https://localhost:8080/"
        },
        "id": "HkH6SsrFhcpU",
        "outputId": "a577643c-da52-4dd2-aff5-57567a264df5"
      },
      "execution_count": 164,
      "outputs": [
        {
          "output_type": "execute_result",
          "data": {
            "text/plain": [
              "[['Yellow', 3, 'Apple'],\n",
              " ['Red', 1, 'Grape'],\n",
              " ['Red', 1, 'Grape'],\n",
              " ['Yellow', 3, 'Lemon']]"
            ]
          },
          "metadata": {},
          "execution_count": 164
        }
      ]
    },
    {
      "cell_type": "markdown",
      "source": [
        "Find the best question to ask by iterating over every feature / value and calculating the information gain"
      ],
      "metadata": {
        "id": "NeWUwtS2mkhC"
      }
    },
    {
      "cell_type": "code",
      "source": [
        "def find_best_split(rows):\n",
        "    best_gain = 0  # keep track of the best information gain\n",
        "    best_question = None  # keep train of the feature / value that produced it\n",
        "    current_uncertainty = gini(rows)\n",
        "    n_features = len(rows[0]) - 1  # number of columns\n",
        "\n",
        "    for col in range(n_features):  # for each feature\n",
        "\n",
        "        values = set([row[col] for row in rows])  # unique values in the column\n",
        "\n",
        "        for val in values:  # for each value\n",
        "\n",
        "            question = Question(col, val)\n",
        "\n",
        "            # try splitting the dataset\n",
        "            true_rows, false_rows = partition(rows, question)\n",
        "\n",
        "            # Skip this split if it doesn't divide the\n",
        "            # dataset.\n",
        "            if len(true_rows) == 0 or len(false_rows) == 0:\n",
        "                continue\n",
        "\n",
        "            # Calculate the information gain from this split\n",
        "            gain = info_gain(true_rows, false_rows, current_uncertainty)\n",
        "            print(question, \"achieved\", gain, \"Gain\")\n",
        "            # You actually can use '>' instead of '>=' here\n",
        "            # but I wanted the tree to look a certain way for our\n",
        "            # Fruit dataset.\n",
        "            if gain >= best_gain:\n",
        "                best_gain, best_question = gain, question\n",
        "\n",
        "    return best_gain, best_question\n",
        "\n",
        "\n",
        "#######\n",
        "# Demo:\n",
        "# Find the best question to ask first for our Fruit dataset.\n",
        "best_gain, best_question = find_best_split(training_data)\n",
        "print(\"Best question\", best_question)\n",
        "print(\"Best Gain\", best_gain)\n",
        "# FYI: is color == Red is just as good. See the note in the code above\n",
        "# where I used '>='.\n",
        "#######"
      ],
      "metadata": {
        "colab": {
          "base_uri": "https://localhost:8080/"
        },
        "id": "FFU6_xqzheaz",
        "outputId": "d680af9b-18a5-4656-8b70-37644c1c437a"
      },
      "execution_count": 165,
      "outputs": [
        {
          "output_type": "stream",
          "name": "stdout",
          "text": [
            "Is color == Red? achieved 0.37333333333333324 Gain\n",
            "Is color == Yellow? achieved 0.17333333333333323 Gain\n",
            "Is color == Green? achieved 0.1399999999999999 Gain\n",
            "Is diameter >= 3? achieved 0.37333333333333324 Gain\n",
            "Best question Is diameter >= 3?\n",
            "Best Gain 0.37333333333333324\n"
          ]
        }
      ]
    },
    {
      "cell_type": "markdown",
      "source": [
        "# Decision Tree Implementation"
      ],
      "metadata": {
        "id": "3Z37NtCgmyw5"
      }
    },
    {
      "cell_type": "markdown",
      "source": [
        "A Leaf node classifies data.\n",
        "\n",
        "This holds a dictionary of class (e.g., \"Apple\") -> number of times it appears in the rows from the training data that reach this leaf."
      ],
      "metadata": {
        "id": "CaYiaQtwmpuJ"
      }
    },
    {
      "cell_type": "code",
      "source": [
        "class Leaf:\n",
        "    def __init__(self, rows):\n",
        "        self.predictions = class_counts(rows)"
      ],
      "metadata": {
        "id": "skFZGKL3hnAU"
      },
      "execution_count": 166,
      "outputs": []
    },
    {
      "cell_type": "markdown",
      "source": [
        "A Decision Node asks a question.\n",
        "\n",
        "This holds a reference to the question, and to the two child nodes."
      ],
      "metadata": {
        "id": "oj2Glsu5nEdp"
      }
    },
    {
      "cell_type": "code",
      "source": [
        "class Decision_Node:\n",
        "    def __init__(self,\n",
        "                 question,\n",
        "                 true_branch,\n",
        "                 false_branch):\n",
        "        self.question = question\n",
        "        self.true_branch = true_branch\n",
        "        self.false_branch = false_branch\n"
      ],
      "metadata": {
        "id": "rM88Gm5_homa"
      },
      "execution_count": 167,
      "outputs": []
    },
    {
      "cell_type": "markdown",
      "source": [
        "## Builds the tree.\n",
        "\n",
        "Rules of recursion: \n",
        "1. Believe that it works. \n",
        "2. Start by checking for the base case (no further information gain). \n",
        "3. Prepare for giant stack traces"
      ],
      "metadata": {
        "id": "6S-Ufh4xnJhR"
      }
    },
    {
      "cell_type": "code",
      "source": [
        "def build_tree(rows):\n",
        "    # Try partitioing the dataset on each of the unique attribute,\n",
        "    # calculate the information gain,\n",
        "    # and return the question that produces the highest gain.\n",
        "    gain, question = find_best_split(rows)\n",
        "\n",
        "    # Base case: no further info gain\n",
        "    # Since we can ask no further questions,\n",
        "    # we'll return a leaf.\n",
        "    if gain == 0:\n",
        "        return Leaf(rows)\n",
        "\n",
        "    # If we reach here, we have found a useful feature / value\n",
        "    # to partition on.\n",
        "    true_rows, false_rows = partition(rows, question)\n",
        "\n",
        "    # Recursively build the true branch.\n",
        "    true_branch = build_tree(true_rows)\n",
        "\n",
        "    # Recursively build the false branch.\n",
        "    false_branch = build_tree(false_rows)\n",
        "\n",
        "    # Return a Question node.\n",
        "    # This records the best feature / value to ask at this point,\n",
        "    # as well as the branches to follow\n",
        "    # dependingo on the answer.\n",
        "    return Decision_Node(question, true_branch, false_branch)\n"
      ],
      "metadata": {
        "id": "1oSifH0yhq0z"
      },
      "execution_count": 168,
      "outputs": []
    },
    {
      "cell_type": "markdown",
      "source": [
        "Function to Print the Decision Tree constructed"
      ],
      "metadata": {
        "id": "Z8tLApKinWFZ"
      }
    },
    {
      "cell_type": "code",
      "source": [
        "def print_tree(node, spacing=\"\"):\n",
        "    # Base case: we've reached a leaf\n",
        "    if isinstance(node, Leaf):\n",
        "        print (spacing + \"Predict\", node.predictions)\n",
        "        return\n",
        "\n",
        "    # Print the question at this node\n",
        "    print (spacing + str(node.question))\n",
        "\n",
        "    # Call this function recursively on the true branch\n",
        "    print (spacing + '--> True:')\n",
        "    print_tree(node.true_branch, spacing + \"  \")\n",
        "\n",
        "    # Call this function recursively on the false branch\n",
        "    print (spacing + '--> False:')\n",
        "    print_tree(node.false_branch, spacing + \"  \")\n"
      ],
      "metadata": {
        "id": "6-x0TRkrhtK7"
      },
      "execution_count": 169,
      "outputs": []
    },
    {
      "cell_type": "code",
      "source": [
        "my_tree = build_tree(training_data)\n",
        "print_tree(my_tree)"
      ],
      "metadata": {
        "colab": {
          "base_uri": "https://localhost:8080/"
        },
        "id": "0_VAM7ZShupK",
        "outputId": "7fad4541-55e8-44a2-eb0c-ed7f1f13e6bd"
      },
      "execution_count": 170,
      "outputs": [
        {
          "output_type": "stream",
          "name": "stdout",
          "text": [
            "Is color == Red? achieved 0.37333333333333324 Gain\n",
            "Is color == Yellow? achieved 0.17333333333333323 Gain\n",
            "Is color == Green? achieved 0.1399999999999999 Gain\n",
            "Is diameter >= 3? achieved 0.37333333333333324 Gain\n",
            "Is color == Yellow? achieved 0.11111111111111116 Gain\n",
            "Is color == Green? achieved 0.1111111111111111 Gain\n",
            "Is diameter >= 3?\n",
            "--> True:\n",
            "  Is color == Yellow?\n",
            "  --> True:\n",
            "    Predict {'Apple': 1, 'Lemon': 1}\n",
            "  --> False:\n",
            "    Predict {'Apple': 1}\n",
            "--> False:\n",
            "  Predict {'Grape': 2}\n"
          ]
        }
      ]
    },
    {
      "cell_type": "markdown",
      "source": [
        "Classify function to match and compare with other features then recursively traverse the entire tree"
      ],
      "metadata": {
        "id": "JfP0nXJynjzZ"
      }
    },
    {
      "cell_type": "code",
      "source": [
        "def classify(row, node):\n",
        "    # Base case: we've reached a leaf\n",
        "    if isinstance(node, Leaf):\n",
        "        return node.predictions\n",
        "\n",
        "    # Decide whether to follow the true-branch or the false-branch.\n",
        "    # Compare the feature / value stored in the node,\n",
        "    # to the example we're considering.\n",
        "    if node.question.match(row):\n",
        "        return classify(row, node.true_branch)\n",
        "    else:\n",
        "        return classify(row, node.false_branch)"
      ],
      "metadata": {
        "id": "L--w1QkUh2u7"
      },
      "execution_count": 171,
      "outputs": []
    },
    {
      "cell_type": "code",
      "source": [
        "#######\n",
        "# Demo:\n",
        "# The tree predicts the 1st row of our\n",
        "# training data is an apple with confidence 1.\n",
        "classify(training_data[0], my_tree)\n",
        "#######"
      ],
      "metadata": {
        "colab": {
          "base_uri": "https://localhost:8080/"
        },
        "id": "NgxSDRPPh4Oq",
        "outputId": "40170b35-50e0-4d21-8584-6400120c3f1e"
      },
      "execution_count": 172,
      "outputs": [
        {
          "output_type": "execute_result",
          "data": {
            "text/plain": [
              "{'Apple': 1}"
            ]
          },
          "metadata": {},
          "execution_count": 172
        }
      ]
    },
    {
      "cell_type": "code",
      "source": [
        "def print_leaf(counts):\n",
        "    \"\"\"A nicer way to print the predictions at a leaf.\"\"\"\n",
        "    total = sum(counts.values()) * 1.0\n",
        "    probs = {}\n",
        "    for lbl in counts.keys():\n",
        "        probs[lbl] = str(int(counts[lbl] / total * 100)) + \"%\"\n",
        "    return probs"
      ],
      "metadata": {
        "id": "HkUdhFc8h6iU"
      },
      "execution_count": 173,
      "outputs": []
    },
    {
      "cell_type": "code",
      "source": [
        "#######\n",
        "# Demo:\n",
        "# Printing that a bit nicer\n",
        "print_leaf(classify(training_data[0], my_tree))\n",
        "#######"
      ],
      "metadata": {
        "colab": {
          "base_uri": "https://localhost:8080/"
        },
        "id": "DifWCBQrh8Nz",
        "outputId": "70d8963c-836e-4f4f-c11e-4226904e6911"
      },
      "execution_count": 174,
      "outputs": [
        {
          "output_type": "execute_result",
          "data": {
            "text/plain": [
              "{'Apple': '100%'}"
            ]
          },
          "metadata": {},
          "execution_count": 174
        }
      ]
    },
    {
      "cell_type": "code",
      "source": [
        "#######\n",
        "# Demo:\n",
        "# On the second example, the confidence is lower\n",
        "print_leaf(classify(training_data[1], my_tree))\n",
        "#######"
      ],
      "metadata": {
        "colab": {
          "base_uri": "https://localhost:8080/"
        },
        "id": "JsJgGSFOh_VT",
        "outputId": "9365b154-263a-4a53-95a7-f2c6f9e385cc"
      },
      "execution_count": 175,
      "outputs": [
        {
          "output_type": "execute_result",
          "data": {
            "text/plain": [
              "{'Apple': '50%', 'Lemon': '50%'}"
            ]
          },
          "metadata": {},
          "execution_count": 175
        }
      ]
    },
    {
      "cell_type": "markdown",
      "source": [
        "## Testing Data to Check the Predictive performance of the Decision Tree classifier"
      ],
      "metadata": {
        "id": "r82lzyDbnxZJ"
      }
    },
    {
      "cell_type": "code",
      "source": [
        "# Evaluate\n",
        "testing_data = [\n",
        "    ['Green', 3, 'Apple'],\n",
        "    ['Yellow', 4, 'Apple'],\n",
        "    ['Red', 2, 'Grape'],\n",
        "    ['Red', 1, 'Grape'],\n",
        "    ['Yellow', 3, 'Lemon'],\n",
        "]"
      ],
      "metadata": {
        "id": "J3ehd3NliB3D"
      },
      "execution_count": 176,
      "outputs": []
    },
    {
      "cell_type": "markdown",
      "source": [
        "# Evaluating the Decision Tree: \n",
        "\n",
        "Get the Actual and the Predicted Instances for the Evaluation set used for testing the Decision Tree classifier"
      ],
      "metadata": {
        "id": "L-R-rG3FoA_C"
      }
    },
    {
      "cell_type": "code",
      "source": [
        "for row in testing_data:\n",
        "    print (\"Actual: %s. Predicted: %s\" %\n",
        "           (row[-1], print_leaf(classify(row, my_tree))))"
      ],
      "metadata": {
        "colab": {
          "base_uri": "https://localhost:8080/"
        },
        "id": "Z0isJUTliDtK",
        "outputId": "c6c30a72-3f77-4913-a059-8d7c18cbcc0b"
      },
      "execution_count": 177,
      "outputs": [
        {
          "output_type": "stream",
          "name": "stdout",
          "text": [
            "Actual: Apple. Predicted: {'Apple': '100%'}\n",
            "Actual: Apple. Predicted: {'Apple': '50%', 'Lemon': '50%'}\n",
            "Actual: Grape. Predicted: {'Grape': '100%'}\n",
            "Actual: Grape. Predicted: {'Grape': '100%'}\n",
            "Actual: Lemon. Predicted: {'Apple': '50%', 'Lemon': '50%'}\n"
          ]
        }
      ]
    },
    {
      "cell_type": "markdown",
      "source": [
        "## References\n",
        "1. Decision Tree : https://en.wikipedia.org/wiki/Decision_tree\n",
        "2. Decision Tree Models (Public reserach) : https://github.com/SilverDecisions/SilverDecisions/wiki/Gallery\n",
        "3. Understanding Decision Trees : https://towardsdatascience.com/light-on-math-machine-learning-intuitive-guide-to-understanding-decision-trees-adb2165ccab7\n",
        "4. Decition Tree Classification : https://towardsdatascience.com/understanding-decision-trees-for-classification-python-9663d683c952\n",
        "5. Machine Learning : https://github.com/Benjamindavid03/MachineLearningLab\n",
        "6. Repository : https://github.com/random-forests/tutorials\n",
        "7. Youtube Video of Gosh : https://www.youtube.com/watch?v=LDRbO9a6XPU\n",
        "8. Decision Tree without code : https://www.pi.exchange/blog/automate-machine-learning-decision-trees-with-without-code\n"
      ],
      "metadata": {
        "id": "4GWl608Ro3BB"
      }
    }
  ]
}