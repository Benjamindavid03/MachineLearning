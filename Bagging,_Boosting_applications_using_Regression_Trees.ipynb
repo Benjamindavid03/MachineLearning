{
  "nbformat": 4,
  "nbformat_minor": 0,
  "metadata": {
    "colab": {
      "name": "Bagging, Boosting applications using Regression Trees.ipynb",
      "provenance": [],
      "collapsed_sections": [],
      "authorship_tag": "ABX9TyPNmlA0/f7R3T2wQ1bJxtEt",
      "include_colab_link": true
    },
    "kernelspec": {
      "name": "python3",
      "display_name": "Python 3"
    },
    "language_info": {
      "name": "python"
    }
  },
  "cells": [
    {
      "cell_type": "markdown",
      "metadata": {
        "id": "view-in-github",
        "colab_type": "text"
      },
      "source": [
        "<a href=\"https://colab.research.google.com/github/Benjamindavid03/MachineLearningLab/blob/main/Bagging%2C_Boosting_applications_using_Regression_Trees.ipynb\" target=\"_parent\"><img src=\"https://colab.research.google.com/assets/colab-badge.svg\" alt=\"Open In Colab\"/></a>"
      ]
    },
    {
      "cell_type": "markdown",
      "source": [
        "# Bagging using Regression Trees"
      ],
      "metadata": {
        "id": "d2Ovf-G1ayhS"
      }
    },
    {
      "cell_type": "code",
      "execution_count": 15,
      "metadata": {
        "colab": {
          "base_uri": "https://localhost:8080/"
        },
        "id": "lbBPtzRMXwwu",
        "outputId": "6f52f03b-8456-4e99-b7e2-c89f6dc2af8f"
      },
      "outputs": [
        {
          "output_type": "stream",
          "name": "stdout",
          "text": [
            "accuracy :\n",
            "0.9412464931663135\n",
            "Predicted Flower : 2.0\n"
          ]
        }
      ],
      "source": [
        "from sklearn import model_selection\n",
        "from sklearn.datasets import load_iris\n",
        "from sklearn.ensemble import BaggingClassifier\n",
        "from sklearn.tree import DecisionTreeRegressor \n",
        "from sklearn.ensemble import BaggingRegressor\n",
        "import pandas as pd\n",
        "\n",
        "# load the data\n",
        "iris = load_iris()\n",
        "X = iris.data[:, :4]\n",
        "Y = iris.target\n",
        "\n",
        "seed = 2\n",
        "kfold = model_selection.KFold(n_splits = 3,random_state = seed, shuffle= True)\n",
        "\n",
        "# import the regressor\n",
        "base_cls = DecisionTreeRegressor(random_state = 0) \n",
        "\n",
        "# no. of base classifier\n",
        "num_trees = 500\n",
        "\n",
        "# bagging Regressor\n",
        "model = BaggingRegressor(base_estimator=base_cls, n_estimators=10, random_state=0).fit(X, Y)\n",
        "\n",
        "\n",
        "results = model_selection.cross_val_score(model, X, Y, cv = kfold)\n",
        "print(\"accuracy :\")\n",
        "print(results.mean())\n",
        "\n",
        "t = model.predict([[6, 3.4, 5.4, 2.3]])\n",
        "print(\"Predicted Flower :\",t[0])"
      ]
    },
    {
      "cell_type": "markdown",
      "source": [
        "# Boosting applications using Regression Trees"
      ],
      "metadata": {
        "id": "weQwEr0la3G9"
      }
    },
    {
      "cell_type": "code",
      "source": [
        "from sklearn import model_selection\n",
        "from sklearn.datasets import load_iris\n",
        "from sklearn.ensemble import BaggingClassifier\n",
        "from sklearn.tree import DecisionTreeRegressor \n",
        "from sklearn.ensemble import AdaBoostRegressor\n",
        "import pandas as pd\n",
        "\n",
        "# load the data\n",
        "iris = load_iris()\n",
        "X = iris.data[:, :4]\n",
        "Y = iris.target\n",
        "\n",
        "seed = 2\n",
        "kfold = model_selection.KFold(n_splits = 3,random_state = seed, shuffle= True)\n",
        "\n",
        "# no. of base classifier\n",
        "num_trees = 500\n",
        "\n",
        "# bagging Regressor \n",
        "model = AdaBoostRegressor(DecisionTreeRegressor(max_depth=10),\n",
        "                              n_estimators=100, learning_rate=0.8).fit(X, Y) # n_estimators - The number of boosting stages to perform.\n",
        "\n",
        "results = model_selection.cross_val_score(model, X, Y, cv = kfold)\n",
        "print(\"accuracy :\")\n",
        "print(results.mean())\n",
        "\n",
        "t = model.predict([[6, 3.4, 5.4, 2.3]])\n",
        "print(\"Predicted Flower :\",t[0])"
      ],
      "metadata": {
        "colab": {
          "base_uri": "https://localhost:8080/"
        },
        "id": "ejM8uGDdZVom",
        "outputId": "0f371721-9ddf-4e2a-c3ff-c7135f1f0659"
      },
      "execution_count": 23,
      "outputs": [
        {
          "output_type": "stream",
          "name": "stdout",
          "text": [
            "accuracy :\n",
            "0.9283754007567583\n",
            "Predicted Flower : 2.0\n"
          ]
        }
      ]
    },
    {
      "cell_type": "markdown",
      "source": [
        "# References \n",
        "1. https://scikit-learn.org/stable/modules/generated/sklearn.ensemble.GradientBoostingRegressor.html#sklearn.ensemble.GradientBoostingRegressor\n"
      ],
      "metadata": {
        "id": "Wpmzy5TWaUVn"
      }
    }
  ]
}