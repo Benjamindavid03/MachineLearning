{
  "nbformat": 4,
  "nbformat_minor": 0,
  "metadata": {
    "colab": {
      "name": "Bagging, Boosting applications using Regression Trees.ipynb",
      "provenance": [],
      "collapsed_sections": [],
      "authorship_tag": "ABX9TyPpEVAlUvljT2hmTZ1AbiP7",
      "include_colab_link": true
    },
    "kernelspec": {
      "name": "python3",
      "display_name": "Python 3"
    },
    "language_info": {
      "name": "python"
    }
  },
  "cells": [
    {
      "cell_type": "markdown",
      "metadata": {
        "id": "view-in-github",
        "colab_type": "text"
      },
      "source": [
        "<a href=\"https://colab.research.google.com/github/Benjamindavid03/MachineLearningLab/blob/main/Bagging%2C_Boosting_applications_using_Regression_Trees.ipynb\" target=\"_parent\"><img src=\"https://colab.research.google.com/assets/colab-badge.svg\" alt=\"Open In Colab\"/></a>"
      ]
    },
    {
      "cell_type": "markdown",
      "source": [
        "# Bagging using Regression Trees"
      ],
      "metadata": {
        "id": "d2Ovf-G1ayhS"
      }
    },
    {
      "cell_type": "code",
      "execution_count": 29,
      "metadata": {
        "colab": {
          "base_uri": "https://localhost:8080/"
        },
        "id": "lbBPtzRMXwwu",
        "outputId": "c6c770e2-d6ed-4cf3-91d8-c13757902979"
      },
      "outputs": [
        {
          "output_type": "stream",
          "name": "stdout",
          "text": [
            "accuracy :\n",
            "0.8189343915092997\n"
          ]
        }
      ],
      "source": [
        "from sklearn import model_selection\n",
        "from sklearn.datasets import load_breast_cancer\n",
        "from sklearn.ensemble import BaggingClassifier\n",
        "from sklearn.tree import DecisionTreeRegressor \n",
        "from sklearn.ensemble import BaggingRegressor\n",
        "import pandas as pd\n",
        "\n",
        "# load the data\n",
        "cancer = load_breast_cancer()\n",
        "X = cancer.data[:, :30]\n",
        "Y = cancer.target\n",
        "\n",
        "seed = 2\n",
        "kfold = model_selection.KFold(n_splits = 3,random_state = seed, shuffle= True)\n",
        "\n",
        "# import the regressor\n",
        "base_cls = DecisionTreeRegressor(random_state = 0) \n",
        "\n",
        "# no. of base classifier\n",
        "num_trees = 500\n",
        "\n",
        "# bagging Regressor\n",
        "model = BaggingRegressor(base_estimator=base_cls, n_estimators=10, random_state=0).fit(X, Y)\n",
        "\n",
        "\n",
        "results = model_selection.cross_val_score(model, X, Y, cv = kfold)\n",
        "print(\"accuracy :\")\n",
        "print(results.mean())"
      ]
    },
    {
      "cell_type": "markdown",
      "source": [
        "# Boosting applications using Regression Trees"
      ],
      "metadata": {
        "id": "weQwEr0la3G9"
      }
    },
    {
      "cell_type": "code",
      "source": [
        "from sklearn import model_selection\n",
        "from sklearn.datasets import load_breast_cancer\n",
        "from sklearn.ensemble import BaggingClassifier\n",
        "from sklearn.tree import DecisionTreeRegressor \n",
        "from sklearn.ensemble import AdaBoostRegressor\n",
        "import pandas as pd\n",
        "\n",
        "# load the data\n",
        "cancer = load_breast_cancer()\n",
        "X = cancer.data[:, :30]\n",
        "Y = cancer.target\n",
        "\n",
        "seed = 2\n",
        "kfold = model_selection.KFold(n_splits = 3,random_state = seed, shuffle= True)\n",
        "\n",
        "# no. of base classifier\n",
        "num_trees = 500\n",
        "\n",
        "# bagging Regressor \n",
        "model = AdaBoostRegressor(DecisionTreeRegressor(max_depth=10),\n",
        "                              n_estimators=500, learning_rate=0.8).fit(X, Y) # n_estimators - The number of boosting stages to perform.\n",
        "\n",
        "results = model_selection.cross_val_score(model, X, Y, cv = kfold)\n",
        "print(\"accuracy :\")\n",
        "print(results.mean())"
      ],
      "metadata": {
        "colab": {
          "base_uri": "https://localhost:8080/"
        },
        "id": "ejM8uGDdZVom",
        "outputId": "5b7ff7c4-7f41-4090-e0bd-52ed8112db23"
      },
      "execution_count": 30,
      "outputs": [
        {
          "output_type": "stream",
          "name": "stdout",
          "text": [
            "accuracy :\n",
            "0.8174809354118175\n"
          ]
        }
      ]
    },
    {
      "cell_type": "markdown",
      "source": [
        "# References \n",
        "1. https://scikit-learn.org/stable/modules/generated/sklearn.ensemble.GradientBoostingRegressor.html#sklearn.ensemble.GradientBoostingRegressor\n"
      ],
      "metadata": {
        "id": "Wpmzy5TWaUVn"
      }
    }
  ]
}